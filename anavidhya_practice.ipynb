{
  "nbformat": 4,
  "nbformat_minor": 0,
  "metadata": {
    "colab": {
      "name": "anavidhya_practice.ipynb",
      "provenance": []
    },
    "kernelspec": {
      "name": "python3",
      "display_name": "Python 3"
    }
  },
  "cells": [
    {
      "cell_type": "code",
      "metadata": {
        "id": "GnOD2XrQBEGV"
      },
      "source": [
        "import pandas as pd\r\n",
        "import numpy as np\r\n",
        "import seaborn as sns\r\n",
        "import matplotlib.pyplot as plt\r\n",
        "from sklearn.metrics import roc_auc_score\r\n",
        "from sklearn.decomposition import PCA\r\n",
        "import numpy as np\r\n",
        "from scipy import stats\r\n",
        "\r\n",
        "%matplotlib inline\r\n",
        "import matplotlib.font_manager"
      ],
      "execution_count": 356,
      "outputs": []
    },
    {
      "cell_type": "code",
      "metadata": {
        "id": "V7pESvFwB0Do"
      },
      "source": [
        "df1 = pd.read_csv(\"train.csv\")\r\n",
        "df2 = pd.read_csv(\"test.csv\")\r\n",
        "\r\n"
      ],
      "execution_count": 357,
      "outputs": []
    },
    {
      "cell_type": "code",
      "metadata": {
        "colab": {
          "base_uri": "https://localhost:8080/"
        },
        "id": "ntSKSzDfCWKD",
        "outputId": "3c03a0f2-d3cd-45c5-9cb2-50efea780452"
      },
      "source": [
        "print(df2.info())\r\n",
        "df1.info()\r\n"
      ],
      "execution_count": 358,
      "outputs": [
        {
          "output_type": "stream",
          "text": [
            "<class 'pandas.core.frame.DataFrame'>\n",
            "RangeIndex: 21805 entries, 0 to 21804\n",
            "Data columns (total 13 columns):\n",
            " #   Column                   Non-Null Count  Dtype  \n",
            "---  ------                   --------------  -----  \n",
            " 0   ID                       21805 non-null  int64  \n",
            " 1   City_Code                21805 non-null  object \n",
            " 2   Region_Code              21805 non-null  int64  \n",
            " 3   Accomodation_Type        21805 non-null  object \n",
            " 4   Reco_Insurance_Type      21805 non-null  object \n",
            " 5   Upper_Age                21805 non-null  int64  \n",
            " 6   Lower_Age                21805 non-null  int64  \n",
            " 7   Is_Spouse                21805 non-null  object \n",
            " 8   Health Indicator         16778 non-null  object \n",
            " 9   Holding_Policy_Duration  13202 non-null  object \n",
            " 10  Holding_Policy_Type      13202 non-null  float64\n",
            " 11  Reco_Policy_Cat          21805 non-null  int64  \n",
            " 12  Reco_Policy_Premium      21805 non-null  float64\n",
            "dtypes: float64(2), int64(5), object(6)\n",
            "memory usage: 2.2+ MB\n",
            "None\n",
            "<class 'pandas.core.frame.DataFrame'>\n",
            "RangeIndex: 50882 entries, 0 to 50881\n",
            "Data columns (total 14 columns):\n",
            " #   Column                   Non-Null Count  Dtype  \n",
            "---  ------                   --------------  -----  \n",
            " 0   ID                       50882 non-null  int64  \n",
            " 1   City_Code                50882 non-null  object \n",
            " 2   Region_Code              50882 non-null  int64  \n",
            " 3   Accomodation_Type        50882 non-null  object \n",
            " 4   Reco_Insurance_Type      50882 non-null  object \n",
            " 5   Upper_Age                50882 non-null  int64  \n",
            " 6   Lower_Age                50882 non-null  int64  \n",
            " 7   Is_Spouse                50882 non-null  object \n",
            " 8   Health Indicator         39191 non-null  object \n",
            " 9   Holding_Policy_Duration  30631 non-null  object \n",
            " 10  Holding_Policy_Type      30631 non-null  float64\n",
            " 11  Reco_Policy_Cat          50882 non-null  int64  \n",
            " 12  Reco_Policy_Premium      50882 non-null  float64\n",
            " 13  Response                 50882 non-null  int64  \n",
            "dtypes: float64(2), int64(6), object(6)\n",
            "memory usage: 5.4+ MB\n"
          ],
          "name": "stdout"
        }
      ]
    },
    {
      "cell_type": "code",
      "metadata": {
        "colab": {
          "base_uri": "https://localhost:8080/",
          "height": 300
        },
        "id": "YFxrbgx4Ctue",
        "outputId": "c403487c-bc04-42a9-badc-a91c27b62698"
      },
      "source": [
        "df1.describe()"
      ],
      "execution_count": 359,
      "outputs": [
        {
          "output_type": "execute_result",
          "data": {
            "text/html": [
              "<div>\n",
              "<style scoped>\n",
              "    .dataframe tbody tr th:only-of-type {\n",
              "        vertical-align: middle;\n",
              "    }\n",
              "\n",
              "    .dataframe tbody tr th {\n",
              "        vertical-align: top;\n",
              "    }\n",
              "\n",
              "    .dataframe thead th {\n",
              "        text-align: right;\n",
              "    }\n",
              "</style>\n",
              "<table border=\"1\" class=\"dataframe\">\n",
              "  <thead>\n",
              "    <tr style=\"text-align: right;\">\n",
              "      <th></th>\n",
              "      <th>ID</th>\n",
              "      <th>Region_Code</th>\n",
              "      <th>Upper_Age</th>\n",
              "      <th>Lower_Age</th>\n",
              "      <th>Holding_Policy_Type</th>\n",
              "      <th>Reco_Policy_Cat</th>\n",
              "      <th>Reco_Policy_Premium</th>\n",
              "      <th>Response</th>\n",
              "    </tr>\n",
              "  </thead>\n",
              "  <tbody>\n",
              "    <tr>\n",
              "      <th>count</th>\n",
              "      <td>50882.000000</td>\n",
              "      <td>50882.000000</td>\n",
              "      <td>50882.000000</td>\n",
              "      <td>50882.000000</td>\n",
              "      <td>30631.000000</td>\n",
              "      <td>50882.000000</td>\n",
              "      <td>50882.000000</td>\n",
              "      <td>50882.000000</td>\n",
              "    </tr>\n",
              "    <tr>\n",
              "      <th>mean</th>\n",
              "      <td>25441.500000</td>\n",
              "      <td>1732.788707</td>\n",
              "      <td>44.856275</td>\n",
              "      <td>42.738866</td>\n",
              "      <td>2.439228</td>\n",
              "      <td>15.115188</td>\n",
              "      <td>14183.950069</td>\n",
              "      <td>0.239947</td>\n",
              "    </tr>\n",
              "    <tr>\n",
              "      <th>std</th>\n",
              "      <td>14688.512535</td>\n",
              "      <td>1424.081652</td>\n",
              "      <td>17.310271</td>\n",
              "      <td>17.319375</td>\n",
              "      <td>1.025923</td>\n",
              "      <td>6.340663</td>\n",
              "      <td>6590.074873</td>\n",
              "      <td>0.427055</td>\n",
              "    </tr>\n",
              "    <tr>\n",
              "      <th>min</th>\n",
              "      <td>1.000000</td>\n",
              "      <td>1.000000</td>\n",
              "      <td>18.000000</td>\n",
              "      <td>16.000000</td>\n",
              "      <td>1.000000</td>\n",
              "      <td>1.000000</td>\n",
              "      <td>2280.000000</td>\n",
              "      <td>0.000000</td>\n",
              "    </tr>\n",
              "    <tr>\n",
              "      <th>25%</th>\n",
              "      <td>12721.250000</td>\n",
              "      <td>523.000000</td>\n",
              "      <td>28.000000</td>\n",
              "      <td>27.000000</td>\n",
              "      <td>1.000000</td>\n",
              "      <td>12.000000</td>\n",
              "      <td>9248.000000</td>\n",
              "      <td>0.000000</td>\n",
              "    </tr>\n",
              "    <tr>\n",
              "      <th>50%</th>\n",
              "      <td>25441.500000</td>\n",
              "      <td>1391.000000</td>\n",
              "      <td>44.000000</td>\n",
              "      <td>40.000000</td>\n",
              "      <td>3.000000</td>\n",
              "      <td>17.000000</td>\n",
              "      <td>13178.000000</td>\n",
              "      <td>0.000000</td>\n",
              "    </tr>\n",
              "    <tr>\n",
              "      <th>75%</th>\n",
              "      <td>38161.750000</td>\n",
              "      <td>2667.000000</td>\n",
              "      <td>59.000000</td>\n",
              "      <td>57.000000</td>\n",
              "      <td>3.000000</td>\n",
              "      <td>20.000000</td>\n",
              "      <td>18096.000000</td>\n",
              "      <td>0.000000</td>\n",
              "    </tr>\n",
              "    <tr>\n",
              "      <th>max</th>\n",
              "      <td>50882.000000</td>\n",
              "      <td>6194.000000</td>\n",
              "      <td>75.000000</td>\n",
              "      <td>75.000000</td>\n",
              "      <td>4.000000</td>\n",
              "      <td>22.000000</td>\n",
              "      <td>43350.400000</td>\n",
              "      <td>1.000000</td>\n",
              "    </tr>\n",
              "  </tbody>\n",
              "</table>\n",
              "</div>"
            ],
            "text/plain": [
              "                 ID   Region_Code  ...  Reco_Policy_Premium      Response\n",
              "count  50882.000000  50882.000000  ...         50882.000000  50882.000000\n",
              "mean   25441.500000   1732.788707  ...         14183.950069      0.239947\n",
              "std    14688.512535   1424.081652  ...          6590.074873      0.427055\n",
              "min        1.000000      1.000000  ...          2280.000000      0.000000\n",
              "25%    12721.250000    523.000000  ...          9248.000000      0.000000\n",
              "50%    25441.500000   1391.000000  ...         13178.000000      0.000000\n",
              "75%    38161.750000   2667.000000  ...         18096.000000      0.000000\n",
              "max    50882.000000   6194.000000  ...         43350.400000      1.000000\n",
              "\n",
              "[8 rows x 8 columns]"
            ]
          },
          "metadata": {
            "tags": []
          },
          "execution_count": 359
        }
      ]
    },
    {
      "cell_type": "code",
      "metadata": {
        "colab": {
          "base_uri": "https://localhost:8080/",
          "height": 300
        },
        "id": "B3_KcNqaCXrn",
        "outputId": "fe406497-b99f-4ac7-ce13-46d2651a11bb"
      },
      "source": [
        "\r\n",
        "df2.describe()"
      ],
      "execution_count": 360,
      "outputs": [
        {
          "output_type": "execute_result",
          "data": {
            "text/html": [
              "<div>\n",
              "<style scoped>\n",
              "    .dataframe tbody tr th:only-of-type {\n",
              "        vertical-align: middle;\n",
              "    }\n",
              "\n",
              "    .dataframe tbody tr th {\n",
              "        vertical-align: top;\n",
              "    }\n",
              "\n",
              "    .dataframe thead th {\n",
              "        text-align: right;\n",
              "    }\n",
              "</style>\n",
              "<table border=\"1\" class=\"dataframe\">\n",
              "  <thead>\n",
              "    <tr style=\"text-align: right;\">\n",
              "      <th></th>\n",
              "      <th>ID</th>\n",
              "      <th>Region_Code</th>\n",
              "      <th>Upper_Age</th>\n",
              "      <th>Lower_Age</th>\n",
              "      <th>Holding_Policy_Type</th>\n",
              "      <th>Reco_Policy_Cat</th>\n",
              "      <th>Reco_Policy_Premium</th>\n",
              "    </tr>\n",
              "  </thead>\n",
              "  <tbody>\n",
              "    <tr>\n",
              "      <th>count</th>\n",
              "      <td>21805.000000</td>\n",
              "      <td>21805.000000</td>\n",
              "      <td>21805.000000</td>\n",
              "      <td>21805.000000</td>\n",
              "      <td>13202.000000</td>\n",
              "      <td>21805.000000</td>\n",
              "      <td>21805.000000</td>\n",
              "    </tr>\n",
              "    <tr>\n",
              "      <th>mean</th>\n",
              "      <td>61785.000000</td>\n",
              "      <td>1748.737491</td>\n",
              "      <td>44.877734</td>\n",
              "      <td>42.748085</td>\n",
              "      <td>2.440085</td>\n",
              "      <td>15.138363</td>\n",
              "      <td>14220.306581</td>\n",
              "    </tr>\n",
              "    <tr>\n",
              "      <th>std</th>\n",
              "      <td>6294.705646</td>\n",
              "      <td>1438.358949</td>\n",
              "      <td>17.254898</td>\n",
              "      <td>17.269112</td>\n",
              "      <td>1.037627</td>\n",
              "      <td>6.302805</td>\n",
              "      <td>6497.996164</td>\n",
              "    </tr>\n",
              "    <tr>\n",
              "      <th>min</th>\n",
              "      <td>50883.000000</td>\n",
              "      <td>1.000000</td>\n",
              "      <td>18.000000</td>\n",
              "      <td>16.000000</td>\n",
              "      <td>1.000000</td>\n",
              "      <td>1.000000</td>\n",
              "      <td>2152.000000</td>\n",
              "    </tr>\n",
              "    <tr>\n",
              "      <th>25%</th>\n",
              "      <td>56334.000000</td>\n",
              "      <td>535.000000</td>\n",
              "      <td>28.000000</td>\n",
              "      <td>27.000000</td>\n",
              "      <td>1.000000</td>\n",
              "      <td>12.000000</td>\n",
              "      <td>9285.000000</td>\n",
              "    </tr>\n",
              "    <tr>\n",
              "      <th>50%</th>\n",
              "      <td>61785.000000</td>\n",
              "      <td>1392.000000</td>\n",
              "      <td>44.000000</td>\n",
              "      <td>41.000000</td>\n",
              "      <td>3.000000</td>\n",
              "      <td>17.000000</td>\n",
              "      <td>13244.000000</td>\n",
              "    </tr>\n",
              "    <tr>\n",
              "      <th>75%</th>\n",
              "      <td>67236.000000</td>\n",
              "      <td>2712.000000</td>\n",
              "      <td>59.000000</td>\n",
              "      <td>57.000000</td>\n",
              "      <td>3.000000</td>\n",
              "      <td>20.000000</td>\n",
              "      <td>18201.600000</td>\n",
              "    </tr>\n",
              "    <tr>\n",
              "      <th>max</th>\n",
              "      <td>72687.000000</td>\n",
              "      <td>6185.000000</td>\n",
              "      <td>75.000000</td>\n",
              "      <td>75.000000</td>\n",
              "      <td>4.000000</td>\n",
              "      <td>22.000000</td>\n",
              "      <td>43776.000000</td>\n",
              "    </tr>\n",
              "  </tbody>\n",
              "</table>\n",
              "</div>"
            ],
            "text/plain": [
              "                 ID   Region_Code  ...  Reco_Policy_Cat  Reco_Policy_Premium\n",
              "count  21805.000000  21805.000000  ...     21805.000000         21805.000000\n",
              "mean   61785.000000   1748.737491  ...        15.138363         14220.306581\n",
              "std     6294.705646   1438.358949  ...         6.302805          6497.996164\n",
              "min    50883.000000      1.000000  ...         1.000000          2152.000000\n",
              "25%    56334.000000    535.000000  ...        12.000000          9285.000000\n",
              "50%    61785.000000   1392.000000  ...        17.000000         13244.000000\n",
              "75%    67236.000000   2712.000000  ...        20.000000         18201.600000\n",
              "max    72687.000000   6185.000000  ...        22.000000         43776.000000\n",
              "\n",
              "[8 rows x 7 columns]"
            ]
          },
          "metadata": {
            "tags": []
          },
          "execution_count": 360
        }
      ]
    },
    {
      "cell_type": "code",
      "metadata": {
        "colab": {
          "base_uri": "https://localhost:8080/"
        },
        "id": "O0FLFpbXCpFL",
        "outputId": "022042d4-2337-42b4-cfc9-1d3ed3374b4a"
      },
      "source": [
        "print(df1.isnull().sum())\r\n",
        "\r\n",
        "df2.isnull().sum()\r\n"
      ],
      "execution_count": 361,
      "outputs": [
        {
          "output_type": "stream",
          "text": [
            "ID                             0\n",
            "City_Code                      0\n",
            "Region_Code                    0\n",
            "Accomodation_Type              0\n",
            "Reco_Insurance_Type            0\n",
            "Upper_Age                      0\n",
            "Lower_Age                      0\n",
            "Is_Spouse                      0\n",
            "Health Indicator           11691\n",
            "Holding_Policy_Duration    20251\n",
            "Holding_Policy_Type        20251\n",
            "Reco_Policy_Cat                0\n",
            "Reco_Policy_Premium            0\n",
            "Response                       0\n",
            "dtype: int64\n"
          ],
          "name": "stdout"
        },
        {
          "output_type": "execute_result",
          "data": {
            "text/plain": [
              "ID                            0\n",
              "City_Code                     0\n",
              "Region_Code                   0\n",
              "Accomodation_Type             0\n",
              "Reco_Insurance_Type           0\n",
              "Upper_Age                     0\n",
              "Lower_Age                     0\n",
              "Is_Spouse                     0\n",
              "Health Indicator           5027\n",
              "Holding_Policy_Duration    8603\n",
              "Holding_Policy_Type        8603\n",
              "Reco_Policy_Cat               0\n",
              "Reco_Policy_Premium           0\n",
              "dtype: int64"
            ]
          },
          "metadata": {
            "tags": []
          },
          "execution_count": 361
        }
      ]
    },
    {
      "cell_type": "code",
      "metadata": {
        "colab": {
          "base_uri": "https://localhost:8080/"
        },
        "id": "n-6S02kDC3DV",
        "outputId": "b2b9b8b2-4762-47d8-ab24-f27632349db4"
      },
      "source": [
        "print(df1.dtypes)\r\n",
        "print(df2.dtypes)"
      ],
      "execution_count": 362,
      "outputs": [
        {
          "output_type": "stream",
          "text": [
            "ID                           int64\n",
            "City_Code                   object\n",
            "Region_Code                  int64\n",
            "Accomodation_Type           object\n",
            "Reco_Insurance_Type         object\n",
            "Upper_Age                    int64\n",
            "Lower_Age                    int64\n",
            "Is_Spouse                   object\n",
            "Health Indicator            object\n",
            "Holding_Policy_Duration     object\n",
            "Holding_Policy_Type        float64\n",
            "Reco_Policy_Cat              int64\n",
            "Reco_Policy_Premium        float64\n",
            "Response                     int64\n",
            "dtype: object\n",
            "ID                           int64\n",
            "City_Code                   object\n",
            "Region_Code                  int64\n",
            "Accomodation_Type           object\n",
            "Reco_Insurance_Type         object\n",
            "Upper_Age                    int64\n",
            "Lower_Age                    int64\n",
            "Is_Spouse                   object\n",
            "Health Indicator            object\n",
            "Holding_Policy_Duration     object\n",
            "Holding_Policy_Type        float64\n",
            "Reco_Policy_Cat              int64\n",
            "Reco_Policy_Premium        float64\n",
            "dtype: object\n"
          ],
          "name": "stdout"
        }
      ]
    },
    {
      "cell_type": "code",
      "metadata": {
        "colab": {
          "base_uri": "https://localhost:8080/",
          "height": 1000
        },
        "id": "OQZojVYQDsdA",
        "outputId": "b197806a-91c7-4b4a-c6ef-78592b54cf3a"
      },
      "source": [
        "df1.head(40)"
      ],
      "execution_count": 363,
      "outputs": [
        {
          "output_type": "execute_result",
          "data": {
            "text/html": [
              "<div>\n",
              "<style scoped>\n",
              "    .dataframe tbody tr th:only-of-type {\n",
              "        vertical-align: middle;\n",
              "    }\n",
              "\n",
              "    .dataframe tbody tr th {\n",
              "        vertical-align: top;\n",
              "    }\n",
              "\n",
              "    .dataframe thead th {\n",
              "        text-align: right;\n",
              "    }\n",
              "</style>\n",
              "<table border=\"1\" class=\"dataframe\">\n",
              "  <thead>\n",
              "    <tr style=\"text-align: right;\">\n",
              "      <th></th>\n",
              "      <th>ID</th>\n",
              "      <th>City_Code</th>\n",
              "      <th>Region_Code</th>\n",
              "      <th>Accomodation_Type</th>\n",
              "      <th>Reco_Insurance_Type</th>\n",
              "      <th>Upper_Age</th>\n",
              "      <th>Lower_Age</th>\n",
              "      <th>Is_Spouse</th>\n",
              "      <th>Health Indicator</th>\n",
              "      <th>Holding_Policy_Duration</th>\n",
              "      <th>Holding_Policy_Type</th>\n",
              "      <th>Reco_Policy_Cat</th>\n",
              "      <th>Reco_Policy_Premium</th>\n",
              "      <th>Response</th>\n",
              "    </tr>\n",
              "  </thead>\n",
              "  <tbody>\n",
              "    <tr>\n",
              "      <th>0</th>\n",
              "      <td>1</td>\n",
              "      <td>C3</td>\n",
              "      <td>3213</td>\n",
              "      <td>Rented</td>\n",
              "      <td>Individual</td>\n",
              "      <td>36</td>\n",
              "      <td>36</td>\n",
              "      <td>No</td>\n",
              "      <td>X1</td>\n",
              "      <td>14+</td>\n",
              "      <td>3.0</td>\n",
              "      <td>22</td>\n",
              "      <td>11628.0</td>\n",
              "      <td>0</td>\n",
              "    </tr>\n",
              "    <tr>\n",
              "      <th>1</th>\n",
              "      <td>2</td>\n",
              "      <td>C5</td>\n",
              "      <td>1117</td>\n",
              "      <td>Owned</td>\n",
              "      <td>Joint</td>\n",
              "      <td>75</td>\n",
              "      <td>22</td>\n",
              "      <td>No</td>\n",
              "      <td>X2</td>\n",
              "      <td>NaN</td>\n",
              "      <td>NaN</td>\n",
              "      <td>22</td>\n",
              "      <td>30510.0</td>\n",
              "      <td>0</td>\n",
              "    </tr>\n",
              "    <tr>\n",
              "      <th>2</th>\n",
              "      <td>3</td>\n",
              "      <td>C5</td>\n",
              "      <td>3732</td>\n",
              "      <td>Owned</td>\n",
              "      <td>Individual</td>\n",
              "      <td>32</td>\n",
              "      <td>32</td>\n",
              "      <td>No</td>\n",
              "      <td>NaN</td>\n",
              "      <td>1.0</td>\n",
              "      <td>1.0</td>\n",
              "      <td>19</td>\n",
              "      <td>7450.0</td>\n",
              "      <td>1</td>\n",
              "    </tr>\n",
              "    <tr>\n",
              "      <th>3</th>\n",
              "      <td>4</td>\n",
              "      <td>C24</td>\n",
              "      <td>4378</td>\n",
              "      <td>Owned</td>\n",
              "      <td>Joint</td>\n",
              "      <td>52</td>\n",
              "      <td>48</td>\n",
              "      <td>No</td>\n",
              "      <td>X1</td>\n",
              "      <td>14+</td>\n",
              "      <td>3.0</td>\n",
              "      <td>19</td>\n",
              "      <td>17780.0</td>\n",
              "      <td>0</td>\n",
              "    </tr>\n",
              "    <tr>\n",
              "      <th>4</th>\n",
              "      <td>5</td>\n",
              "      <td>C8</td>\n",
              "      <td>2190</td>\n",
              "      <td>Rented</td>\n",
              "      <td>Individual</td>\n",
              "      <td>44</td>\n",
              "      <td>44</td>\n",
              "      <td>No</td>\n",
              "      <td>X2</td>\n",
              "      <td>3.0</td>\n",
              "      <td>1.0</td>\n",
              "      <td>16</td>\n",
              "      <td>10404.0</td>\n",
              "      <td>0</td>\n",
              "    </tr>\n",
              "    <tr>\n",
              "      <th>5</th>\n",
              "      <td>6</td>\n",
              "      <td>C9</td>\n",
              "      <td>1785</td>\n",
              "      <td>Rented</td>\n",
              "      <td>Individual</td>\n",
              "      <td>52</td>\n",
              "      <td>52</td>\n",
              "      <td>No</td>\n",
              "      <td>X2</td>\n",
              "      <td>5.0</td>\n",
              "      <td>1.0</td>\n",
              "      <td>22</td>\n",
              "      <td>15264.0</td>\n",
              "      <td>1</td>\n",
              "    </tr>\n",
              "    <tr>\n",
              "      <th>6</th>\n",
              "      <td>7</td>\n",
              "      <td>C3</td>\n",
              "      <td>679</td>\n",
              "      <td>Owned</td>\n",
              "      <td>Individual</td>\n",
              "      <td>28</td>\n",
              "      <td>28</td>\n",
              "      <td>No</td>\n",
              "      <td>NaN</td>\n",
              "      <td>NaN</td>\n",
              "      <td>NaN</td>\n",
              "      <td>17</td>\n",
              "      <td>10640.0</td>\n",
              "      <td>0</td>\n",
              "    </tr>\n",
              "    <tr>\n",
              "      <th>7</th>\n",
              "      <td>8</td>\n",
              "      <td>C1</td>\n",
              "      <td>3175</td>\n",
              "      <td>Owned</td>\n",
              "      <td>Joint</td>\n",
              "      <td>75</td>\n",
              "      <td>73</td>\n",
              "      <td>Yes</td>\n",
              "      <td>X4</td>\n",
              "      <td>9.0</td>\n",
              "      <td>4.0</td>\n",
              "      <td>17</td>\n",
              "      <td>29344.0</td>\n",
              "      <td>1</td>\n",
              "    </tr>\n",
              "    <tr>\n",
              "      <th>8</th>\n",
              "      <td>9</td>\n",
              "      <td>C15</td>\n",
              "      <td>3497</td>\n",
              "      <td>Owned</td>\n",
              "      <td>Joint</td>\n",
              "      <td>52</td>\n",
              "      <td>43</td>\n",
              "      <td>No</td>\n",
              "      <td>X1</td>\n",
              "      <td>14.0</td>\n",
              "      <td>3.0</td>\n",
              "      <td>1</td>\n",
              "      <td>27283.2</td>\n",
              "      <td>0</td>\n",
              "    </tr>\n",
              "    <tr>\n",
              "      <th>9</th>\n",
              "      <td>10</td>\n",
              "      <td>C1</td>\n",
              "      <td>530</td>\n",
              "      <td>Owned</td>\n",
              "      <td>Joint</td>\n",
              "      <td>59</td>\n",
              "      <td>26</td>\n",
              "      <td>Yes</td>\n",
              "      <td>NaN</td>\n",
              "      <td>7.0</td>\n",
              "      <td>4.0</td>\n",
              "      <td>18</td>\n",
              "      <td>21100.8</td>\n",
              "      <td>1</td>\n",
              "    </tr>\n",
              "    <tr>\n",
              "      <th>10</th>\n",
              "      <td>11</td>\n",
              "      <td>C28</td>\n",
              "      <td>600</td>\n",
              "      <td>Owned</td>\n",
              "      <td>Individual</td>\n",
              "      <td>21</td>\n",
              "      <td>21</td>\n",
              "      <td>No</td>\n",
              "      <td>X2</td>\n",
              "      <td>NaN</td>\n",
              "      <td>NaN</td>\n",
              "      <td>21</td>\n",
              "      <td>4068.0</td>\n",
              "      <td>1</td>\n",
              "    </tr>\n",
              "    <tr>\n",
              "      <th>11</th>\n",
              "      <td>12</td>\n",
              "      <td>C27</td>\n",
              "      <td>1097</td>\n",
              "      <td>Owned</td>\n",
              "      <td>Joint</td>\n",
              "      <td>59</td>\n",
              "      <td>47</td>\n",
              "      <td>Yes</td>\n",
              "      <td>X3</td>\n",
              "      <td>3.0</td>\n",
              "      <td>3.0</td>\n",
              "      <td>13</td>\n",
              "      <td>25043.2</td>\n",
              "      <td>0</td>\n",
              "    </tr>\n",
              "    <tr>\n",
              "      <th>12</th>\n",
              "      <td>13</td>\n",
              "      <td>C7</td>\n",
              "      <td>3453</td>\n",
              "      <td>Owned</td>\n",
              "      <td>Individual</td>\n",
              "      <td>66</td>\n",
              "      <td>66</td>\n",
              "      <td>No</td>\n",
              "      <td>NaN</td>\n",
              "      <td>1.0</td>\n",
              "      <td>2.0</td>\n",
              "      <td>20</td>\n",
              "      <td>17192.0</td>\n",
              "      <td>1</td>\n",
              "    </tr>\n",
              "    <tr>\n",
              "      <th>13</th>\n",
              "      <td>14</td>\n",
              "      <td>C5</td>\n",
              "      <td>900</td>\n",
              "      <td>Rented</td>\n",
              "      <td>Individual</td>\n",
              "      <td>20</td>\n",
              "      <td>20</td>\n",
              "      <td>No</td>\n",
              "      <td>X2</td>\n",
              "      <td>NaN</td>\n",
              "      <td>NaN</td>\n",
              "      <td>18</td>\n",
              "      <td>8364.0</td>\n",
              "      <td>0</td>\n",
              "    </tr>\n",
              "    <tr>\n",
              "      <th>14</th>\n",
              "      <td>15</td>\n",
              "      <td>C20</td>\n",
              "      <td>1911</td>\n",
              "      <td>Rented</td>\n",
              "      <td>Individual</td>\n",
              "      <td>27</td>\n",
              "      <td>27</td>\n",
              "      <td>No</td>\n",
              "      <td>X3</td>\n",
              "      <td>2.0</td>\n",
              "      <td>3.0</td>\n",
              "      <td>9</td>\n",
              "      <td>9440.0</td>\n",
              "      <td>0</td>\n",
              "    </tr>\n",
              "    <tr>\n",
              "      <th>15</th>\n",
              "      <td>16</td>\n",
              "      <td>C3</td>\n",
              "      <td>1484</td>\n",
              "      <td>Rented</td>\n",
              "      <td>Individual</td>\n",
              "      <td>20</td>\n",
              "      <td>20</td>\n",
              "      <td>No</td>\n",
              "      <td>X3</td>\n",
              "      <td>NaN</td>\n",
              "      <td>NaN</td>\n",
              "      <td>2</td>\n",
              "      <td>4912.0</td>\n",
              "      <td>0</td>\n",
              "    </tr>\n",
              "    <tr>\n",
              "      <th>16</th>\n",
              "      <td>17</td>\n",
              "      <td>C3</td>\n",
              "      <td>1090</td>\n",
              "      <td>Owned</td>\n",
              "      <td>Individual</td>\n",
              "      <td>34</td>\n",
              "      <td>34</td>\n",
              "      <td>No</td>\n",
              "      <td>X1</td>\n",
              "      <td>11.0</td>\n",
              "      <td>1.0</td>\n",
              "      <td>20</td>\n",
              "      <td>6660.0</td>\n",
              "      <td>0</td>\n",
              "    </tr>\n",
              "    <tr>\n",
              "      <th>17</th>\n",
              "      <td>18</td>\n",
              "      <td>C7</td>\n",
              "      <td>677</td>\n",
              "      <td>Owned</td>\n",
              "      <td>Individual</td>\n",
              "      <td>43</td>\n",
              "      <td>43</td>\n",
              "      <td>No</td>\n",
              "      <td>X2</td>\n",
              "      <td>NaN</td>\n",
              "      <td>NaN</td>\n",
              "      <td>19</td>\n",
              "      <td>10386.0</td>\n",
              "      <td>0</td>\n",
              "    </tr>\n",
              "    <tr>\n",
              "      <th>18</th>\n",
              "      <td>19</td>\n",
              "      <td>C1</td>\n",
              "      <td>1634</td>\n",
              "      <td>Owned</td>\n",
              "      <td>Individual</td>\n",
              "      <td>55</td>\n",
              "      <td>55</td>\n",
              "      <td>No</td>\n",
              "      <td>X2</td>\n",
              "      <td>1.0</td>\n",
              "      <td>3.0</td>\n",
              "      <td>21</td>\n",
              "      <td>12580.0</td>\n",
              "      <td>0</td>\n",
              "    </tr>\n",
              "    <tr>\n",
              "      <th>19</th>\n",
              "      <td>20</td>\n",
              "      <td>C20</td>\n",
              "      <td>973</td>\n",
              "      <td>Owned</td>\n",
              "      <td>Individual</td>\n",
              "      <td>27</td>\n",
              "      <td>27</td>\n",
              "      <td>No</td>\n",
              "      <td>NaN</td>\n",
              "      <td>NaN</td>\n",
              "      <td>NaN</td>\n",
              "      <td>4</td>\n",
              "      <td>8050.0</td>\n",
              "      <td>0</td>\n",
              "    </tr>\n",
              "    <tr>\n",
              "      <th>20</th>\n",
              "      <td>21</td>\n",
              "      <td>C9</td>\n",
              "      <td>3543</td>\n",
              "      <td>Owned</td>\n",
              "      <td>Individual</td>\n",
              "      <td>32</td>\n",
              "      <td>32</td>\n",
              "      <td>No</td>\n",
              "      <td>X2</td>\n",
              "      <td>3.0</td>\n",
              "      <td>3.0</td>\n",
              "      <td>16</td>\n",
              "      <td>12060.0</td>\n",
              "      <td>0</td>\n",
              "    </tr>\n",
              "    <tr>\n",
              "      <th>21</th>\n",
              "      <td>22</td>\n",
              "      <td>C24</td>\n",
              "      <td>1127</td>\n",
              "      <td>Rented</td>\n",
              "      <td>Individual</td>\n",
              "      <td>23</td>\n",
              "      <td>23</td>\n",
              "      <td>No</td>\n",
              "      <td>X2</td>\n",
              "      <td>NaN</td>\n",
              "      <td>NaN</td>\n",
              "      <td>16</td>\n",
              "      <td>10352.0</td>\n",
              "      <td>0</td>\n",
              "    </tr>\n",
              "    <tr>\n",
              "      <th>22</th>\n",
              "      <td>23</td>\n",
              "      <td>C25</td>\n",
              "      <td>787</td>\n",
              "      <td>Rented</td>\n",
              "      <td>Individual</td>\n",
              "      <td>18</td>\n",
              "      <td>18</td>\n",
              "      <td>No</td>\n",
              "      <td>X6</td>\n",
              "      <td>NaN</td>\n",
              "      <td>NaN</td>\n",
              "      <td>22</td>\n",
              "      <td>2828.0</td>\n",
              "      <td>0</td>\n",
              "    </tr>\n",
              "    <tr>\n",
              "      <th>23</th>\n",
              "      <td>24</td>\n",
              "      <td>C1</td>\n",
              "      <td>2862</td>\n",
              "      <td>Rented</td>\n",
              "      <td>Individual</td>\n",
              "      <td>22</td>\n",
              "      <td>22</td>\n",
              "      <td>No</td>\n",
              "      <td>X6</td>\n",
              "      <td>NaN</td>\n",
              "      <td>NaN</td>\n",
              "      <td>19</td>\n",
              "      <td>5416.0</td>\n",
              "      <td>0</td>\n",
              "    </tr>\n",
              "    <tr>\n",
              "      <th>24</th>\n",
              "      <td>25</td>\n",
              "      <td>C4</td>\n",
              "      <td>2182</td>\n",
              "      <td>Rented</td>\n",
              "      <td>Individual</td>\n",
              "      <td>22</td>\n",
              "      <td>22</td>\n",
              "      <td>No</td>\n",
              "      <td>X1</td>\n",
              "      <td>1.0</td>\n",
              "      <td>3.0</td>\n",
              "      <td>22</td>\n",
              "      <td>6370.0</td>\n",
              "      <td>0</td>\n",
              "    </tr>\n",
              "    <tr>\n",
              "      <th>25</th>\n",
              "      <td>26</td>\n",
              "      <td>C5</td>\n",
              "      <td>2276</td>\n",
              "      <td>Rented</td>\n",
              "      <td>Individual</td>\n",
              "      <td>25</td>\n",
              "      <td>25</td>\n",
              "      <td>No</td>\n",
              "      <td>X1</td>\n",
              "      <td>NaN</td>\n",
              "      <td>NaN</td>\n",
              "      <td>12</td>\n",
              "      <td>7128.0</td>\n",
              "      <td>0</td>\n",
              "    </tr>\n",
              "    <tr>\n",
              "      <th>26</th>\n",
              "      <td>27</td>\n",
              "      <td>C4</td>\n",
              "      <td>3283</td>\n",
              "      <td>Rented</td>\n",
              "      <td>Individual</td>\n",
              "      <td>21</td>\n",
              "      <td>21</td>\n",
              "      <td>No</td>\n",
              "      <td>X1</td>\n",
              "      <td>NaN</td>\n",
              "      <td>NaN</td>\n",
              "      <td>19</td>\n",
              "      <td>7230.0</td>\n",
              "      <td>0</td>\n",
              "    </tr>\n",
              "    <tr>\n",
              "      <th>27</th>\n",
              "      <td>28</td>\n",
              "      <td>C9</td>\n",
              "      <td>855</td>\n",
              "      <td>Rented</td>\n",
              "      <td>Individual</td>\n",
              "      <td>21</td>\n",
              "      <td>21</td>\n",
              "      <td>No</td>\n",
              "      <td>X5</td>\n",
              "      <td>NaN</td>\n",
              "      <td>NaN</td>\n",
              "      <td>16</td>\n",
              "      <td>3744.0</td>\n",
              "      <td>1</td>\n",
              "    </tr>\n",
              "    <tr>\n",
              "      <th>28</th>\n",
              "      <td>29</td>\n",
              "      <td>C1</td>\n",
              "      <td>520</td>\n",
              "      <td>Rented</td>\n",
              "      <td>Individual</td>\n",
              "      <td>24</td>\n",
              "      <td>24</td>\n",
              "      <td>No</td>\n",
              "      <td>X5</td>\n",
              "      <td>NaN</td>\n",
              "      <td>NaN</td>\n",
              "      <td>19</td>\n",
              "      <td>7800.0</td>\n",
              "      <td>0</td>\n",
              "    </tr>\n",
              "    <tr>\n",
              "      <th>29</th>\n",
              "      <td>30</td>\n",
              "      <td>C1</td>\n",
              "      <td>894</td>\n",
              "      <td>Owned</td>\n",
              "      <td>Individual</td>\n",
              "      <td>27</td>\n",
              "      <td>27</td>\n",
              "      <td>No</td>\n",
              "      <td>X3</td>\n",
              "      <td>7.0</td>\n",
              "      <td>1.0</td>\n",
              "      <td>19</td>\n",
              "      <td>12150.0</td>\n",
              "      <td>1</td>\n",
              "    </tr>\n",
              "    <tr>\n",
              "      <th>30</th>\n",
              "      <td>31</td>\n",
              "      <td>C2</td>\n",
              "      <td>2137</td>\n",
              "      <td>Owned</td>\n",
              "      <td>Joint</td>\n",
              "      <td>40</td>\n",
              "      <td>34</td>\n",
              "      <td>Yes</td>\n",
              "      <td>X5</td>\n",
              "      <td>3.0</td>\n",
              "      <td>4.0</td>\n",
              "      <td>17</td>\n",
              "      <td>22176.0</td>\n",
              "      <td>0</td>\n",
              "    </tr>\n",
              "    <tr>\n",
              "      <th>31</th>\n",
              "      <td>32</td>\n",
              "      <td>C34</td>\n",
              "      <td>1012</td>\n",
              "      <td>Rented</td>\n",
              "      <td>Individual</td>\n",
              "      <td>27</td>\n",
              "      <td>27</td>\n",
              "      <td>No</td>\n",
              "      <td>X6</td>\n",
              "      <td>NaN</td>\n",
              "      <td>NaN</td>\n",
              "      <td>6</td>\n",
              "      <td>10480.0</td>\n",
              "      <td>0</td>\n",
              "    </tr>\n",
              "    <tr>\n",
              "      <th>32</th>\n",
              "      <td>33</td>\n",
              "      <td>C20</td>\n",
              "      <td>1174</td>\n",
              "      <td>Rented</td>\n",
              "      <td>Individual</td>\n",
              "      <td>20</td>\n",
              "      <td>20</td>\n",
              "      <td>No</td>\n",
              "      <td>X1</td>\n",
              "      <td>NaN</td>\n",
              "      <td>NaN</td>\n",
              "      <td>14</td>\n",
              "      <td>5550.0</td>\n",
              "      <td>0</td>\n",
              "    </tr>\n",
              "    <tr>\n",
              "      <th>33</th>\n",
              "      <td>34</td>\n",
              "      <td>C20</td>\n",
              "      <td>2087</td>\n",
              "      <td>Rented</td>\n",
              "      <td>Joint</td>\n",
              "      <td>26</td>\n",
              "      <td>21</td>\n",
              "      <td>Yes</td>\n",
              "      <td>X1</td>\n",
              "      <td>2.0</td>\n",
              "      <td>3.0</td>\n",
              "      <td>22</td>\n",
              "      <td>10264.8</td>\n",
              "      <td>0</td>\n",
              "    </tr>\n",
              "    <tr>\n",
              "      <th>34</th>\n",
              "      <td>35</td>\n",
              "      <td>C9</td>\n",
              "      <td>518</td>\n",
              "      <td>Rented</td>\n",
              "      <td>Individual</td>\n",
              "      <td>22</td>\n",
              "      <td>22</td>\n",
              "      <td>No</td>\n",
              "      <td>NaN</td>\n",
              "      <td>NaN</td>\n",
              "      <td>NaN</td>\n",
              "      <td>11</td>\n",
              "      <td>5950.0</td>\n",
              "      <td>0</td>\n",
              "    </tr>\n",
              "    <tr>\n",
              "      <th>35</th>\n",
              "      <td>36</td>\n",
              "      <td>C10</td>\n",
              "      <td>1410</td>\n",
              "      <td>Owned</td>\n",
              "      <td>Individual</td>\n",
              "      <td>56</td>\n",
              "      <td>56</td>\n",
              "      <td>No</td>\n",
              "      <td>NaN</td>\n",
              "      <td>NaN</td>\n",
              "      <td>NaN</td>\n",
              "      <td>18</td>\n",
              "      <td>13574.0</td>\n",
              "      <td>0</td>\n",
              "    </tr>\n",
              "    <tr>\n",
              "      <th>36</th>\n",
              "      <td>37</td>\n",
              "      <td>C2</td>\n",
              "      <td>1045</td>\n",
              "      <td>Rented</td>\n",
              "      <td>Joint</td>\n",
              "      <td>55</td>\n",
              "      <td>18</td>\n",
              "      <td>No</td>\n",
              "      <td>X6</td>\n",
              "      <td>5.0</td>\n",
              "      <td>3.0</td>\n",
              "      <td>11</td>\n",
              "      <td>21582.0</td>\n",
              "      <td>0</td>\n",
              "    </tr>\n",
              "    <tr>\n",
              "      <th>37</th>\n",
              "      <td>38</td>\n",
              "      <td>C17</td>\n",
              "      <td>420</td>\n",
              "      <td>Rented</td>\n",
              "      <td>Individual</td>\n",
              "      <td>35</td>\n",
              "      <td>35</td>\n",
              "      <td>No</td>\n",
              "      <td>X1</td>\n",
              "      <td>NaN</td>\n",
              "      <td>NaN</td>\n",
              "      <td>2</td>\n",
              "      <td>12400.0</td>\n",
              "      <td>0</td>\n",
              "    </tr>\n",
              "    <tr>\n",
              "      <th>38</th>\n",
              "      <td>39</td>\n",
              "      <td>C10</td>\n",
              "      <td>1530</td>\n",
              "      <td>Rented</td>\n",
              "      <td>Individual</td>\n",
              "      <td>63</td>\n",
              "      <td>63</td>\n",
              "      <td>No</td>\n",
              "      <td>X1</td>\n",
              "      <td>1.0</td>\n",
              "      <td>1.0</td>\n",
              "      <td>18</td>\n",
              "      <td>20048.0</td>\n",
              "      <td>0</td>\n",
              "    </tr>\n",
              "    <tr>\n",
              "      <th>39</th>\n",
              "      <td>40</td>\n",
              "      <td>C3</td>\n",
              "      <td>927</td>\n",
              "      <td>Rented</td>\n",
              "      <td>Joint</td>\n",
              "      <td>49</td>\n",
              "      <td>47</td>\n",
              "      <td>Yes</td>\n",
              "      <td>X4</td>\n",
              "      <td>3.0</td>\n",
              "      <td>3.0</td>\n",
              "      <td>18</td>\n",
              "      <td>22568.0</td>\n",
              "      <td>1</td>\n",
              "    </tr>\n",
              "  </tbody>\n",
              "</table>\n",
              "</div>"
            ],
            "text/plain": [
              "    ID City_Code  Region_Code  ... Reco_Policy_Cat Reco_Policy_Premium  Response\n",
              "0    1        C3         3213  ...              22             11628.0         0\n",
              "1    2        C5         1117  ...              22             30510.0         0\n",
              "2    3        C5         3732  ...              19              7450.0         1\n",
              "3    4       C24         4378  ...              19             17780.0         0\n",
              "4    5        C8         2190  ...              16             10404.0         0\n",
              "5    6        C9         1785  ...              22             15264.0         1\n",
              "6    7        C3          679  ...              17             10640.0         0\n",
              "7    8        C1         3175  ...              17             29344.0         1\n",
              "8    9       C15         3497  ...               1             27283.2         0\n",
              "9   10        C1          530  ...              18             21100.8         1\n",
              "10  11       C28          600  ...              21              4068.0         1\n",
              "11  12       C27         1097  ...              13             25043.2         0\n",
              "12  13        C7         3453  ...              20             17192.0         1\n",
              "13  14        C5          900  ...              18              8364.0         0\n",
              "14  15       C20         1911  ...               9              9440.0         0\n",
              "15  16        C3         1484  ...               2              4912.0         0\n",
              "16  17        C3         1090  ...              20              6660.0         0\n",
              "17  18        C7          677  ...              19             10386.0         0\n",
              "18  19        C1         1634  ...              21             12580.0         0\n",
              "19  20       C20          973  ...               4              8050.0         0\n",
              "20  21        C9         3543  ...              16             12060.0         0\n",
              "21  22       C24         1127  ...              16             10352.0         0\n",
              "22  23       C25          787  ...              22              2828.0         0\n",
              "23  24        C1         2862  ...              19              5416.0         0\n",
              "24  25        C4         2182  ...              22              6370.0         0\n",
              "25  26        C5         2276  ...              12              7128.0         0\n",
              "26  27        C4         3283  ...              19              7230.0         0\n",
              "27  28        C9          855  ...              16              3744.0         1\n",
              "28  29        C1          520  ...              19              7800.0         0\n",
              "29  30        C1          894  ...              19             12150.0         1\n",
              "30  31        C2         2137  ...              17             22176.0         0\n",
              "31  32       C34         1012  ...               6             10480.0         0\n",
              "32  33       C20         1174  ...              14              5550.0         0\n",
              "33  34       C20         2087  ...              22             10264.8         0\n",
              "34  35        C9          518  ...              11              5950.0         0\n",
              "35  36       C10         1410  ...              18             13574.0         0\n",
              "36  37        C2         1045  ...              11             21582.0         0\n",
              "37  38       C17          420  ...               2             12400.0         0\n",
              "38  39       C10         1530  ...              18             20048.0         0\n",
              "39  40        C3          927  ...              18             22568.0         1\n",
              "\n",
              "[40 rows x 14 columns]"
            ]
          },
          "metadata": {
            "tags": []
          },
          "execution_count": 363
        }
      ]
    },
    {
      "cell_type": "code",
      "metadata": {
        "colab": {
          "base_uri": "https://localhost:8080/",
          "height": 557
        },
        "id": "aINgXsOYEMo6",
        "outputId": "33b6ca53-8ae0-4f89-d0c2-cc03d14aab5e"
      },
      "source": [
        "df2.head(15)"
      ],
      "execution_count": 364,
      "outputs": [
        {
          "output_type": "execute_result",
          "data": {
            "text/html": [
              "<div>\n",
              "<style scoped>\n",
              "    .dataframe tbody tr th:only-of-type {\n",
              "        vertical-align: middle;\n",
              "    }\n",
              "\n",
              "    .dataframe tbody tr th {\n",
              "        vertical-align: top;\n",
              "    }\n",
              "\n",
              "    .dataframe thead th {\n",
              "        text-align: right;\n",
              "    }\n",
              "</style>\n",
              "<table border=\"1\" class=\"dataframe\">\n",
              "  <thead>\n",
              "    <tr style=\"text-align: right;\">\n",
              "      <th></th>\n",
              "      <th>ID</th>\n",
              "      <th>City_Code</th>\n",
              "      <th>Region_Code</th>\n",
              "      <th>Accomodation_Type</th>\n",
              "      <th>Reco_Insurance_Type</th>\n",
              "      <th>Upper_Age</th>\n",
              "      <th>Lower_Age</th>\n",
              "      <th>Is_Spouse</th>\n",
              "      <th>Health Indicator</th>\n",
              "      <th>Holding_Policy_Duration</th>\n",
              "      <th>Holding_Policy_Type</th>\n",
              "      <th>Reco_Policy_Cat</th>\n",
              "      <th>Reco_Policy_Premium</th>\n",
              "    </tr>\n",
              "  </thead>\n",
              "  <tbody>\n",
              "    <tr>\n",
              "      <th>0</th>\n",
              "      <td>50883</td>\n",
              "      <td>C1</td>\n",
              "      <td>156</td>\n",
              "      <td>Owned</td>\n",
              "      <td>Individual</td>\n",
              "      <td>30</td>\n",
              "      <td>30</td>\n",
              "      <td>No</td>\n",
              "      <td>NaN</td>\n",
              "      <td>6.0</td>\n",
              "      <td>3.0</td>\n",
              "      <td>5</td>\n",
              "      <td>11934.0</td>\n",
              "    </tr>\n",
              "    <tr>\n",
              "      <th>1</th>\n",
              "      <td>50884</td>\n",
              "      <td>C4</td>\n",
              "      <td>7</td>\n",
              "      <td>Owned</td>\n",
              "      <td>Joint</td>\n",
              "      <td>69</td>\n",
              "      <td>68</td>\n",
              "      <td>Yes</td>\n",
              "      <td>X1</td>\n",
              "      <td>3.0</td>\n",
              "      <td>3.0</td>\n",
              "      <td>18</td>\n",
              "      <td>32204.8</td>\n",
              "    </tr>\n",
              "    <tr>\n",
              "      <th>2</th>\n",
              "      <td>50885</td>\n",
              "      <td>C1</td>\n",
              "      <td>564</td>\n",
              "      <td>Rented</td>\n",
              "      <td>Individual</td>\n",
              "      <td>28</td>\n",
              "      <td>28</td>\n",
              "      <td>No</td>\n",
              "      <td>X3</td>\n",
              "      <td>2.0</td>\n",
              "      <td>4.0</td>\n",
              "      <td>17</td>\n",
              "      <td>9240.0</td>\n",
              "    </tr>\n",
              "    <tr>\n",
              "      <th>3</th>\n",
              "      <td>50886</td>\n",
              "      <td>C3</td>\n",
              "      <td>1177</td>\n",
              "      <td>Rented</td>\n",
              "      <td>Individual</td>\n",
              "      <td>23</td>\n",
              "      <td>23</td>\n",
              "      <td>No</td>\n",
              "      <td>X3</td>\n",
              "      <td>3.0</td>\n",
              "      <td>3.0</td>\n",
              "      <td>18</td>\n",
              "      <td>9086.0</td>\n",
              "    </tr>\n",
              "    <tr>\n",
              "      <th>4</th>\n",
              "      <td>50887</td>\n",
              "      <td>C1</td>\n",
              "      <td>951</td>\n",
              "      <td>Owned</td>\n",
              "      <td>Individual</td>\n",
              "      <td>75</td>\n",
              "      <td>75</td>\n",
              "      <td>No</td>\n",
              "      <td>X3</td>\n",
              "      <td>NaN</td>\n",
              "      <td>NaN</td>\n",
              "      <td>5</td>\n",
              "      <td>22534.0</td>\n",
              "    </tr>\n",
              "    <tr>\n",
              "      <th>5</th>\n",
              "      <td>50888</td>\n",
              "      <td>C1</td>\n",
              "      <td>1329</td>\n",
              "      <td>Rented</td>\n",
              "      <td>Individual</td>\n",
              "      <td>24</td>\n",
              "      <td>24</td>\n",
              "      <td>No</td>\n",
              "      <td>X2</td>\n",
              "      <td>NaN</td>\n",
              "      <td>NaN</td>\n",
              "      <td>18</td>\n",
              "      <td>6150.0</td>\n",
              "    </tr>\n",
              "    <tr>\n",
              "      <th>6</th>\n",
              "      <td>50889</td>\n",
              "      <td>C2</td>\n",
              "      <td>3479</td>\n",
              "      <td>Owned</td>\n",
              "      <td>Individual</td>\n",
              "      <td>56</td>\n",
              "      <td>56</td>\n",
              "      <td>No</td>\n",
              "      <td>X5</td>\n",
              "      <td>14+</td>\n",
              "      <td>4.0</td>\n",
              "      <td>17</td>\n",
              "      <td>19152.0</td>\n",
              "    </tr>\n",
              "    <tr>\n",
              "      <th>7</th>\n",
              "      <td>50890</td>\n",
              "      <td>C13</td>\n",
              "      <td>396</td>\n",
              "      <td>Rented</td>\n",
              "      <td>Individual</td>\n",
              "      <td>41</td>\n",
              "      <td>41</td>\n",
              "      <td>No</td>\n",
              "      <td>NaN</td>\n",
              "      <td>NaN</td>\n",
              "      <td>NaN</td>\n",
              "      <td>16</td>\n",
              "      <td>11034.0</td>\n",
              "    </tr>\n",
              "    <tr>\n",
              "      <th>8</th>\n",
              "      <td>50891</td>\n",
              "      <td>C18</td>\n",
              "      <td>513</td>\n",
              "      <td>Owned</td>\n",
              "      <td>Individual</td>\n",
              "      <td>22</td>\n",
              "      <td>22</td>\n",
              "      <td>No</td>\n",
              "      <td>X3</td>\n",
              "      <td>NaN</td>\n",
              "      <td>NaN</td>\n",
              "      <td>22</td>\n",
              "      <td>10784.0</td>\n",
              "    </tr>\n",
              "    <tr>\n",
              "      <th>9</th>\n",
              "      <td>50892</td>\n",
              "      <td>C3</td>\n",
              "      <td>957</td>\n",
              "      <td>Owned</td>\n",
              "      <td>Joint</td>\n",
              "      <td>41</td>\n",
              "      <td>37</td>\n",
              "      <td>Yes</td>\n",
              "      <td>X5</td>\n",
              "      <td>6.0</td>\n",
              "      <td>1.0</td>\n",
              "      <td>22</td>\n",
              "      <td>16934.4</td>\n",
              "    </tr>\n",
              "    <tr>\n",
              "      <th>10</th>\n",
              "      <td>50893</td>\n",
              "      <td>C1</td>\n",
              "      <td>916</td>\n",
              "      <td>Rented</td>\n",
              "      <td>Individual</td>\n",
              "      <td>22</td>\n",
              "      <td>22</td>\n",
              "      <td>No</td>\n",
              "      <td>X4</td>\n",
              "      <td>NaN</td>\n",
              "      <td>NaN</td>\n",
              "      <td>5</td>\n",
              "      <td>9422.0</td>\n",
              "    </tr>\n",
              "    <tr>\n",
              "      <th>11</th>\n",
              "      <td>50894</td>\n",
              "      <td>C16</td>\n",
              "      <td>1113</td>\n",
              "      <td>Owned</td>\n",
              "      <td>Individual</td>\n",
              "      <td>38</td>\n",
              "      <td>38</td>\n",
              "      <td>No</td>\n",
              "      <td>X4</td>\n",
              "      <td>2.0</td>\n",
              "      <td>3.0</td>\n",
              "      <td>21</td>\n",
              "      <td>14168.0</td>\n",
              "    </tr>\n",
              "    <tr>\n",
              "      <th>12</th>\n",
              "      <td>50895</td>\n",
              "      <td>C17</td>\n",
              "      <td>636</td>\n",
              "      <td>Owned</td>\n",
              "      <td>Individual</td>\n",
              "      <td>42</td>\n",
              "      <td>42</td>\n",
              "      <td>No</td>\n",
              "      <td>X2</td>\n",
              "      <td>5.0</td>\n",
              "      <td>2.0</td>\n",
              "      <td>17</td>\n",
              "      <td>14184.0</td>\n",
              "    </tr>\n",
              "    <tr>\n",
              "      <th>13</th>\n",
              "      <td>50896</td>\n",
              "      <td>C1</td>\n",
              "      <td>1112</td>\n",
              "      <td>Owned</td>\n",
              "      <td>Individual</td>\n",
              "      <td>31</td>\n",
              "      <td>31</td>\n",
              "      <td>No</td>\n",
              "      <td>NaN</td>\n",
              "      <td>NaN</td>\n",
              "      <td>NaN</td>\n",
              "      <td>19</td>\n",
              "      <td>7236.0</td>\n",
              "    </tr>\n",
              "    <tr>\n",
              "      <th>14</th>\n",
              "      <td>50897</td>\n",
              "      <td>C2</td>\n",
              "      <td>2371</td>\n",
              "      <td>Rented</td>\n",
              "      <td>Individual</td>\n",
              "      <td>35</td>\n",
              "      <td>35</td>\n",
              "      <td>No</td>\n",
              "      <td>X2</td>\n",
              "      <td>14+</td>\n",
              "      <td>3.0</td>\n",
              "      <td>18</td>\n",
              "      <td>9002.0</td>\n",
              "    </tr>\n",
              "  </tbody>\n",
              "</table>\n",
              "</div>"
            ],
            "text/plain": [
              "       ID City_Code  ...  Reco_Policy_Cat Reco_Policy_Premium\n",
              "0   50883        C1  ...                5             11934.0\n",
              "1   50884        C4  ...               18             32204.8\n",
              "2   50885        C1  ...               17              9240.0\n",
              "3   50886        C3  ...               18              9086.0\n",
              "4   50887        C1  ...                5             22534.0\n",
              "5   50888        C1  ...               18              6150.0\n",
              "6   50889        C2  ...               17             19152.0\n",
              "7   50890       C13  ...               16             11034.0\n",
              "8   50891       C18  ...               22             10784.0\n",
              "9   50892        C3  ...               22             16934.4\n",
              "10  50893        C1  ...                5              9422.0\n",
              "11  50894       C16  ...               21             14168.0\n",
              "12  50895       C17  ...               17             14184.0\n",
              "13  50896        C1  ...               19              7236.0\n",
              "14  50897        C2  ...               18              9002.0\n",
              "\n",
              "[15 rows x 13 columns]"
            ]
          },
          "metadata": {
            "tags": []
          },
          "execution_count": 364
        }
      ]
    },
    {
      "cell_type": "code",
      "metadata": {
        "colab": {
          "base_uri": "https://localhost:8080/"
        },
        "id": "Rz5RbQO1HbtR",
        "outputId": "f8f36852-2d3c-4084-ffd8-1087669590c7"
      },
      "source": [
        "df1['Region_Code'].unique()"
      ],
      "execution_count": 366,
      "outputs": [
        {
          "output_type": "execute_result",
          "data": {
            "text/plain": [
              "array([3213, 1117, 3732, ..., 5326, 6149, 5450])"
            ]
          },
          "metadata": {
            "tags": []
          },
          "execution_count": 366
        }
      ]
    },
    {
      "cell_type": "code",
      "metadata": {
        "colab": {
          "base_uri": "https://localhost:8080/",
          "height": 745
        },
        "id": "x_KcQ4fgIXL4",
        "outputId": "32c997b6-9f48-47e3-d19c-3e49e2162cc1"
      },
      "source": [
        "\r\n",
        "f=df1.groupby([\"Region_Code\"]).count()\r\n",
        "f.head(20)"
      ],
      "execution_count": 368,
      "outputs": [
        {
          "output_type": "execute_result",
          "data": {
            "text/html": [
              "<div>\n",
              "<style scoped>\n",
              "    .dataframe tbody tr th:only-of-type {\n",
              "        vertical-align: middle;\n",
              "    }\n",
              "\n",
              "    .dataframe tbody tr th {\n",
              "        vertical-align: top;\n",
              "    }\n",
              "\n",
              "    .dataframe thead th {\n",
              "        text-align: right;\n",
              "    }\n",
              "</style>\n",
              "<table border=\"1\" class=\"dataframe\">\n",
              "  <thead>\n",
              "    <tr style=\"text-align: right;\">\n",
              "      <th></th>\n",
              "      <th>ID</th>\n",
              "      <th>City_Code</th>\n",
              "      <th>Accomodation_Type</th>\n",
              "      <th>Reco_Insurance_Type</th>\n",
              "      <th>Upper_Age</th>\n",
              "      <th>Lower_Age</th>\n",
              "      <th>Is_Spouse</th>\n",
              "      <th>Health Indicator</th>\n",
              "      <th>Holding_Policy_Duration</th>\n",
              "      <th>Holding_Policy_Type</th>\n",
              "      <th>Reco_Policy_Cat</th>\n",
              "      <th>Reco_Policy_Premium</th>\n",
              "      <th>Response</th>\n",
              "    </tr>\n",
              "    <tr>\n",
              "      <th>Region_Code</th>\n",
              "      <th></th>\n",
              "      <th></th>\n",
              "      <th></th>\n",
              "      <th></th>\n",
              "      <th></th>\n",
              "      <th></th>\n",
              "      <th></th>\n",
              "      <th></th>\n",
              "      <th></th>\n",
              "      <th></th>\n",
              "      <th></th>\n",
              "      <th></th>\n",
              "      <th></th>\n",
              "    </tr>\n",
              "  </thead>\n",
              "  <tbody>\n",
              "    <tr>\n",
              "      <th>1</th>\n",
              "      <td>96</td>\n",
              "      <td>96</td>\n",
              "      <td>96</td>\n",
              "      <td>96</td>\n",
              "      <td>96</td>\n",
              "      <td>96</td>\n",
              "      <td>96</td>\n",
              "      <td>70</td>\n",
              "      <td>61</td>\n",
              "      <td>61</td>\n",
              "      <td>96</td>\n",
              "      <td>96</td>\n",
              "      <td>96</td>\n",
              "    </tr>\n",
              "    <tr>\n",
              "      <th>2</th>\n",
              "      <td>73</td>\n",
              "      <td>73</td>\n",
              "      <td>73</td>\n",
              "      <td>73</td>\n",
              "      <td>73</td>\n",
              "      <td>73</td>\n",
              "      <td>73</td>\n",
              "      <td>59</td>\n",
              "      <td>40</td>\n",
              "      <td>40</td>\n",
              "      <td>73</td>\n",
              "      <td>73</td>\n",
              "      <td>73</td>\n",
              "    </tr>\n",
              "    <tr>\n",
              "      <th>4</th>\n",
              "      <td>73</td>\n",
              "      <td>73</td>\n",
              "      <td>73</td>\n",
              "      <td>73</td>\n",
              "      <td>73</td>\n",
              "      <td>73</td>\n",
              "      <td>73</td>\n",
              "      <td>57</td>\n",
              "      <td>54</td>\n",
              "      <td>54</td>\n",
              "      <td>73</td>\n",
              "      <td>73</td>\n",
              "      <td>73</td>\n",
              "    </tr>\n",
              "    <tr>\n",
              "      <th>5</th>\n",
              "      <td>75</td>\n",
              "      <td>75</td>\n",
              "      <td>75</td>\n",
              "      <td>75</td>\n",
              "      <td>75</td>\n",
              "      <td>75</td>\n",
              "      <td>75</td>\n",
              "      <td>47</td>\n",
              "      <td>60</td>\n",
              "      <td>60</td>\n",
              "      <td>75</td>\n",
              "      <td>75</td>\n",
              "      <td>75</td>\n",
              "    </tr>\n",
              "    <tr>\n",
              "      <th>6</th>\n",
              "      <td>73</td>\n",
              "      <td>73</td>\n",
              "      <td>73</td>\n",
              "      <td>73</td>\n",
              "      <td>73</td>\n",
              "      <td>73</td>\n",
              "      <td>73</td>\n",
              "      <td>53</td>\n",
              "      <td>48</td>\n",
              "      <td>48</td>\n",
              "      <td>73</td>\n",
              "      <td>73</td>\n",
              "      <td>73</td>\n",
              "    </tr>\n",
              "    <tr>\n",
              "      <th>7</th>\n",
              "      <td>64</td>\n",
              "      <td>64</td>\n",
              "      <td>64</td>\n",
              "      <td>64</td>\n",
              "      <td>64</td>\n",
              "      <td>64</td>\n",
              "      <td>64</td>\n",
              "      <td>53</td>\n",
              "      <td>41</td>\n",
              "      <td>41</td>\n",
              "      <td>64</td>\n",
              "      <td>64</td>\n",
              "      <td>64</td>\n",
              "    </tr>\n",
              "    <tr>\n",
              "      <th>8</th>\n",
              "      <td>64</td>\n",
              "      <td>64</td>\n",
              "      <td>64</td>\n",
              "      <td>64</td>\n",
              "      <td>64</td>\n",
              "      <td>64</td>\n",
              "      <td>64</td>\n",
              "      <td>48</td>\n",
              "      <td>43</td>\n",
              "      <td>43</td>\n",
              "      <td>64</td>\n",
              "      <td>64</td>\n",
              "      <td>64</td>\n",
              "    </tr>\n",
              "    <tr>\n",
              "      <th>10</th>\n",
              "      <td>69</td>\n",
              "      <td>69</td>\n",
              "      <td>69</td>\n",
              "      <td>69</td>\n",
              "      <td>69</td>\n",
              "      <td>69</td>\n",
              "      <td>69</td>\n",
              "      <td>55</td>\n",
              "      <td>46</td>\n",
              "      <td>46</td>\n",
              "      <td>69</td>\n",
              "      <td>69</td>\n",
              "      <td>69</td>\n",
              "    </tr>\n",
              "    <tr>\n",
              "      <th>13</th>\n",
              "      <td>54</td>\n",
              "      <td>54</td>\n",
              "      <td>54</td>\n",
              "      <td>54</td>\n",
              "      <td>54</td>\n",
              "      <td>54</td>\n",
              "      <td>54</td>\n",
              "      <td>42</td>\n",
              "      <td>31</td>\n",
              "      <td>31</td>\n",
              "      <td>54</td>\n",
              "      <td>54</td>\n",
              "      <td>54</td>\n",
              "    </tr>\n",
              "    <tr>\n",
              "      <th>14</th>\n",
              "      <td>55</td>\n",
              "      <td>55</td>\n",
              "      <td>55</td>\n",
              "      <td>55</td>\n",
              "      <td>55</td>\n",
              "      <td>55</td>\n",
              "      <td>55</td>\n",
              "      <td>44</td>\n",
              "      <td>38</td>\n",
              "      <td>38</td>\n",
              "      <td>55</td>\n",
              "      <td>55</td>\n",
              "      <td>55</td>\n",
              "    </tr>\n",
              "    <tr>\n",
              "      <th>15</th>\n",
              "      <td>54</td>\n",
              "      <td>54</td>\n",
              "      <td>54</td>\n",
              "      <td>54</td>\n",
              "      <td>54</td>\n",
              "      <td>54</td>\n",
              "      <td>54</td>\n",
              "      <td>42</td>\n",
              "      <td>38</td>\n",
              "      <td>38</td>\n",
              "      <td>54</td>\n",
              "      <td>54</td>\n",
              "      <td>54</td>\n",
              "    </tr>\n",
              "    <tr>\n",
              "      <th>16</th>\n",
              "      <td>61</td>\n",
              "      <td>61</td>\n",
              "      <td>61</td>\n",
              "      <td>61</td>\n",
              "      <td>61</td>\n",
              "      <td>61</td>\n",
              "      <td>61</td>\n",
              "      <td>46</td>\n",
              "      <td>38</td>\n",
              "      <td>38</td>\n",
              "      <td>61</td>\n",
              "      <td>61</td>\n",
              "      <td>61</td>\n",
              "    </tr>\n",
              "    <tr>\n",
              "      <th>17</th>\n",
              "      <td>55</td>\n",
              "      <td>55</td>\n",
              "      <td>55</td>\n",
              "      <td>55</td>\n",
              "      <td>55</td>\n",
              "      <td>55</td>\n",
              "      <td>55</td>\n",
              "      <td>48</td>\n",
              "      <td>39</td>\n",
              "      <td>39</td>\n",
              "      <td>55</td>\n",
              "      <td>55</td>\n",
              "      <td>55</td>\n",
              "    </tr>\n",
              "    <tr>\n",
              "      <th>18</th>\n",
              "      <td>54</td>\n",
              "      <td>54</td>\n",
              "      <td>54</td>\n",
              "      <td>54</td>\n",
              "      <td>54</td>\n",
              "      <td>54</td>\n",
              "      <td>54</td>\n",
              "      <td>44</td>\n",
              "      <td>32</td>\n",
              "      <td>32</td>\n",
              "      <td>54</td>\n",
              "      <td>54</td>\n",
              "      <td>54</td>\n",
              "    </tr>\n",
              "    <tr>\n",
              "      <th>19</th>\n",
              "      <td>50</td>\n",
              "      <td>50</td>\n",
              "      <td>50</td>\n",
              "      <td>50</td>\n",
              "      <td>50</td>\n",
              "      <td>50</td>\n",
              "      <td>50</td>\n",
              "      <td>41</td>\n",
              "      <td>31</td>\n",
              "      <td>31</td>\n",
              "      <td>50</td>\n",
              "      <td>50</td>\n",
              "      <td>50</td>\n",
              "    </tr>\n",
              "    <tr>\n",
              "      <th>20</th>\n",
              "      <td>58</td>\n",
              "      <td>58</td>\n",
              "      <td>58</td>\n",
              "      <td>58</td>\n",
              "      <td>58</td>\n",
              "      <td>58</td>\n",
              "      <td>58</td>\n",
              "      <td>46</td>\n",
              "      <td>37</td>\n",
              "      <td>37</td>\n",
              "      <td>58</td>\n",
              "      <td>58</td>\n",
              "      <td>58</td>\n",
              "    </tr>\n",
              "    <tr>\n",
              "      <th>21</th>\n",
              "      <td>57</td>\n",
              "      <td>57</td>\n",
              "      <td>57</td>\n",
              "      <td>57</td>\n",
              "      <td>57</td>\n",
              "      <td>57</td>\n",
              "      <td>57</td>\n",
              "      <td>48</td>\n",
              "      <td>32</td>\n",
              "      <td>32</td>\n",
              "      <td>57</td>\n",
              "      <td>57</td>\n",
              "      <td>57</td>\n",
              "    </tr>\n",
              "    <tr>\n",
              "      <th>22</th>\n",
              "      <td>51</td>\n",
              "      <td>51</td>\n",
              "      <td>51</td>\n",
              "      <td>51</td>\n",
              "      <td>51</td>\n",
              "      <td>51</td>\n",
              "      <td>51</td>\n",
              "      <td>38</td>\n",
              "      <td>21</td>\n",
              "      <td>21</td>\n",
              "      <td>51</td>\n",
              "      <td>51</td>\n",
              "      <td>51</td>\n",
              "    </tr>\n",
              "    <tr>\n",
              "      <th>23</th>\n",
              "      <td>51</td>\n",
              "      <td>51</td>\n",
              "      <td>51</td>\n",
              "      <td>51</td>\n",
              "      <td>51</td>\n",
              "      <td>51</td>\n",
              "      <td>51</td>\n",
              "      <td>43</td>\n",
              "      <td>36</td>\n",
              "      <td>36</td>\n",
              "      <td>51</td>\n",
              "      <td>51</td>\n",
              "      <td>51</td>\n",
              "    </tr>\n",
              "    <tr>\n",
              "      <th>24</th>\n",
              "      <td>50</td>\n",
              "      <td>50</td>\n",
              "      <td>50</td>\n",
              "      <td>50</td>\n",
              "      <td>50</td>\n",
              "      <td>50</td>\n",
              "      <td>50</td>\n",
              "      <td>38</td>\n",
              "      <td>45</td>\n",
              "      <td>45</td>\n",
              "      <td>50</td>\n",
              "      <td>50</td>\n",
              "      <td>50</td>\n",
              "    </tr>\n",
              "  </tbody>\n",
              "</table>\n",
              "</div>"
            ],
            "text/plain": [
              "             ID  City_Code  ...  Reco_Policy_Premium  Response\n",
              "Region_Code                 ...                               \n",
              "1            96         96  ...                   96        96\n",
              "2            73         73  ...                   73        73\n",
              "4            73         73  ...                   73        73\n",
              "5            75         75  ...                   75        75\n",
              "6            73         73  ...                   73        73\n",
              "7            64         64  ...                   64        64\n",
              "8            64         64  ...                   64        64\n",
              "10           69         69  ...                   69        69\n",
              "13           54         54  ...                   54        54\n",
              "14           55         55  ...                   55        55\n",
              "15           54         54  ...                   54        54\n",
              "16           61         61  ...                   61        61\n",
              "17           55         55  ...                   55        55\n",
              "18           54         54  ...                   54        54\n",
              "19           50         50  ...                   50        50\n",
              "20           58         58  ...                   58        58\n",
              "21           57         57  ...                   57        57\n",
              "22           51         51  ...                   51        51\n",
              "23           51         51  ...                   51        51\n",
              "24           50         50  ...                   50        50\n",
              "\n",
              "[20 rows x 13 columns]"
            ]
          },
          "metadata": {
            "tags": []
          },
          "execution_count": 368
        }
      ]
    },
    {
      "cell_type": "code",
      "metadata": {
        "colab": {
          "base_uri": "https://localhost:8080/",
          "height": 400
        },
        "id": "yulgs76ANYsV",
        "outputId": "b6e52a74-75c6-484c-c463-1deaf3dd989f"
      },
      "source": [
        "df2.groupby(['Health Indicator']).count()"
      ],
      "execution_count": 350,
      "outputs": [
        {
          "output_type": "execute_result",
          "data": {
            "text/html": [
              "<div>\n",
              "<style scoped>\n",
              "    .dataframe tbody tr th:only-of-type {\n",
              "        vertical-align: middle;\n",
              "    }\n",
              "\n",
              "    .dataframe tbody tr th {\n",
              "        vertical-align: top;\n",
              "    }\n",
              "\n",
              "    .dataframe thead th {\n",
              "        text-align: right;\n",
              "    }\n",
              "</style>\n",
              "<table border=\"1\" class=\"dataframe\">\n",
              "  <thead>\n",
              "    <tr style=\"text-align: right;\">\n",
              "      <th></th>\n",
              "      <th>ID</th>\n",
              "      <th>City_Code</th>\n",
              "      <th>Region_Code</th>\n",
              "      <th>Accomodation_Type</th>\n",
              "      <th>Reco_Insurance_Type</th>\n",
              "      <th>Upper_Age</th>\n",
              "      <th>Lower_Age</th>\n",
              "      <th>Is_Spouse</th>\n",
              "      <th>Holding_Policy_Duration</th>\n",
              "      <th>Holding_Policy_Type</th>\n",
              "      <th>Reco_Policy_Cat</th>\n",
              "      <th>Reco_Policy_Premium</th>\n",
              "    </tr>\n",
              "    <tr>\n",
              "      <th>Health Indicator</th>\n",
              "      <th></th>\n",
              "      <th></th>\n",
              "      <th></th>\n",
              "      <th></th>\n",
              "      <th></th>\n",
              "      <th></th>\n",
              "      <th></th>\n",
              "      <th></th>\n",
              "      <th></th>\n",
              "      <th></th>\n",
              "      <th></th>\n",
              "      <th></th>\n",
              "    </tr>\n",
              "  </thead>\n",
              "  <tbody>\n",
              "    <tr>\n",
              "      <th>X1</th>\n",
              "      <td>5614</td>\n",
              "      <td>5614</td>\n",
              "      <td>5614</td>\n",
              "      <td>5614</td>\n",
              "      <td>5614</td>\n",
              "      <td>5614</td>\n",
              "      <td>5614</td>\n",
              "      <td>5614</td>\n",
              "      <td>3334</td>\n",
              "      <td>3334</td>\n",
              "      <td>5614</td>\n",
              "      <td>5614</td>\n",
              "    </tr>\n",
              "    <tr>\n",
              "      <th>X2</th>\n",
              "      <td>4516</td>\n",
              "      <td>4516</td>\n",
              "      <td>4516</td>\n",
              "      <td>4516</td>\n",
              "      <td>4516</td>\n",
              "      <td>4516</td>\n",
              "      <td>4516</td>\n",
              "      <td>4516</td>\n",
              "      <td>2763</td>\n",
              "      <td>2763</td>\n",
              "      <td>4516</td>\n",
              "      <td>4516</td>\n",
              "    </tr>\n",
              "    <tr>\n",
              "      <th>X3</th>\n",
              "      <td>2846</td>\n",
              "      <td>2846</td>\n",
              "      <td>2846</td>\n",
              "      <td>2846</td>\n",
              "      <td>2846</td>\n",
              "      <td>2846</td>\n",
              "      <td>2846</td>\n",
              "      <td>2846</td>\n",
              "      <td>1675</td>\n",
              "      <td>1675</td>\n",
              "      <td>2846</td>\n",
              "      <td>2846</td>\n",
              "    </tr>\n",
              "    <tr>\n",
              "      <th>X4</th>\n",
              "      <td>2442</td>\n",
              "      <td>2442</td>\n",
              "      <td>2442</td>\n",
              "      <td>2442</td>\n",
              "      <td>2442</td>\n",
              "      <td>2442</td>\n",
              "      <td>2442</td>\n",
              "      <td>2442</td>\n",
              "      <td>1542</td>\n",
              "      <td>1542</td>\n",
              "      <td>2442</td>\n",
              "      <td>2442</td>\n",
              "    </tr>\n",
              "    <tr>\n",
              "      <th>X5</th>\n",
              "      <td>681</td>\n",
              "      <td>681</td>\n",
              "      <td>681</td>\n",
              "      <td>681</td>\n",
              "      <td>681</td>\n",
              "      <td>681</td>\n",
              "      <td>681</td>\n",
              "      <td>681</td>\n",
              "      <td>439</td>\n",
              "      <td>439</td>\n",
              "      <td>681</td>\n",
              "      <td>681</td>\n",
              "    </tr>\n",
              "    <tr>\n",
              "      <th>X6</th>\n",
              "      <td>514</td>\n",
              "      <td>514</td>\n",
              "      <td>514</td>\n",
              "      <td>514</td>\n",
              "      <td>514</td>\n",
              "      <td>514</td>\n",
              "      <td>514</td>\n",
              "      <td>514</td>\n",
              "      <td>310</td>\n",
              "      <td>310</td>\n",
              "      <td>514</td>\n",
              "      <td>514</td>\n",
              "    </tr>\n",
              "    <tr>\n",
              "      <th>X7</th>\n",
              "      <td>96</td>\n",
              "      <td>96</td>\n",
              "      <td>96</td>\n",
              "      <td>96</td>\n",
              "      <td>96</td>\n",
              "      <td>96</td>\n",
              "      <td>96</td>\n",
              "      <td>96</td>\n",
              "      <td>65</td>\n",
              "      <td>65</td>\n",
              "      <td>96</td>\n",
              "      <td>96</td>\n",
              "    </tr>\n",
              "    <tr>\n",
              "      <th>X8</th>\n",
              "      <td>41</td>\n",
              "      <td>41</td>\n",
              "      <td>41</td>\n",
              "      <td>41</td>\n",
              "      <td>41</td>\n",
              "      <td>41</td>\n",
              "      <td>41</td>\n",
              "      <td>41</td>\n",
              "      <td>22</td>\n",
              "      <td>22</td>\n",
              "      <td>41</td>\n",
              "      <td>41</td>\n",
              "    </tr>\n",
              "    <tr>\n",
              "      <th>X9</th>\n",
              "      <td>28</td>\n",
              "      <td>28</td>\n",
              "      <td>28</td>\n",
              "      <td>28</td>\n",
              "      <td>28</td>\n",
              "      <td>28</td>\n",
              "      <td>28</td>\n",
              "      <td>28</td>\n",
              "      <td>20</td>\n",
              "      <td>20</td>\n",
              "      <td>28</td>\n",
              "      <td>28</td>\n",
              "    </tr>\n",
              "  </tbody>\n",
              "</table>\n",
              "</div>"
            ],
            "text/plain": [
              "                    ID  City_Code  ...  Reco_Policy_Cat  Reco_Policy_Premium\n",
              "Health Indicator                   ...                                      \n",
              "X1                5614       5614  ...             5614                 5614\n",
              "X2                4516       4516  ...             4516                 4516\n",
              "X3                2846       2846  ...             2846                 2846\n",
              "X4                2442       2442  ...             2442                 2442\n",
              "X5                 681        681  ...              681                  681\n",
              "X6                 514        514  ...              514                  514\n",
              "X7                  96         96  ...               96                   96\n",
              "X8                  41         41  ...               41                   41\n",
              "X9                  28         28  ...               28                   28\n",
              "\n",
              "[9 rows x 12 columns]"
            ]
          },
          "metadata": {
            "tags": []
          },
          "execution_count": 350
        }
      ]
    },
    {
      "cell_type": "code",
      "metadata": {
        "id": "Uxw8FcJRRjD3"
      },
      "source": [
        "!pip install pyod"
      ],
      "execution_count": null,
      "outputs": []
    },
    {
      "cell_type": "code",
      "metadata": {
        "id": "GdKAzBNXRi44"
      },
      "source": [
        "from pyod.models.abod import ABOD\r\n",
        "from pyod.models.knn import KNN\r\n",
        "from pyod.utils.data import generate_data, get_outliers_inliers"
      ],
      "execution_count": null,
      "outputs": []
    },
    {
      "cell_type": "code",
      "metadata": {
        "id": "hN33fexxU7pQ"
      },
      "source": [
        "df1['Holding_Policy_Duration'] = df1['Holding_Policy_Duration'].replace(to_replace = '14+', value  =\"16\")\r\n",
        "df1['Holding_Policy_Duration'] =df1['Holding_Policy_Duration'].apply(pd.to_numeric)\r\n",
        "\r\n",
        "\r\n",
        "df2['Holding_Policy_Duration'] = df2['Holding_Policy_Duration'].replace(to_replace = '14+', value  =\"16\")\r\n",
        "df2['Holding_Policy_Duration'] =df2['Holding_Policy_Duration'].apply(pd.to_numeric)"
      ],
      "execution_count": 351,
      "outputs": []
    },
    {
      "cell_type": "code",
      "metadata": {
        "colab": {
          "base_uri": "https://localhost:8080/"
        },
        "id": "u8bEssTD13sV",
        "outputId": "7f9e373b-8507-408d-dd78-61c784f52c2d"
      },
      "source": [
        "df1.skew()"
      ],
      "execution_count": 352,
      "outputs": [
        {
          "output_type": "execute_result",
          "data": {
            "text/plain": [
              "ID                         0.000000\n",
              "Region_Code                0.798096\n",
              "Upper_Age                  0.217370\n",
              "Lower_Age                  0.330594\n",
              "Holding_Policy_Duration    0.866717\n",
              "Holding_Policy_Type       -0.198895\n",
              "Reco_Policy_Cat           -0.928224\n",
              "Reco_Policy_Premium        0.782463\n",
              "Response                   1.217936\n",
              "dtype: float64"
            ]
          },
          "metadata": {
            "tags": []
          },
          "execution_count": 352
        }
      ]
    },
    {
      "cell_type": "code",
      "metadata": {
        "colab": {
          "base_uri": "https://localhost:8080/"
        },
        "id": "7lr9K_kM5nC3",
        "outputId": "53cb4c2a-23f2-4818-aa13-44a1cbb992fb"
      },
      "source": [
        "df1.dtypes"
      ],
      "execution_count": 107,
      "outputs": [
        {
          "output_type": "execute_result",
          "data": {
            "text/plain": [
              "ID                           int64\n",
              "City_Code                   object\n",
              "Region_Code                  int64\n",
              "Accomodation_Type           object\n",
              "Reco_Insurance_Type         object\n",
              "Upper_Age                    int64\n",
              "Lower_Age                    int64\n",
              "Is_Spouse                   object\n",
              "Health Indicator            object\n",
              "Holding_Policy_Duration    float64\n",
              "Holding_Policy_Type        float64\n",
              "Reco_Policy_Cat              int64\n",
              "Reco_Policy_Premium        float64\n",
              "Response                     int64\n",
              "dtype: object"
            ]
          },
          "metadata": {
            "tags": []
          },
          "execution_count": 107
        }
      ]
    },
    {
      "cell_type": "code",
      "metadata": {
        "colab": {
          "base_uri": "https://localhost:8080/"
        },
        "id": "wkTi9Tve0G8Q",
        "outputId": "5c7052d2-c7d3-45a9-a738-057ecc2d224e"
      },
      "source": [
        "df1.isnull().sum()"
      ],
      "execution_count": 94,
      "outputs": [
        {
          "output_type": "execute_result",
          "data": {
            "text/plain": [
              "ID                             0\n",
              "City_Code                      0\n",
              "Region_Code                    0\n",
              "Accomodation_Type              0\n",
              "Reco_Insurance_Type            0\n",
              "Upper_Age                      0\n",
              "Lower_Age                      0\n",
              "Is_Spouse                      0\n",
              "Health Indicator           11691\n",
              "Holding_Policy_Duration    20251\n",
              "Holding_Policy_Type        20251\n",
              "Reco_Policy_Cat                0\n",
              "Reco_Policy_Premium            0\n",
              "Response                       0\n",
              "dtype: int64"
            ]
          },
          "metadata": {
            "tags": []
          },
          "execution_count": 94
        }
      ]
    },
    {
      "cell_type": "code",
      "metadata": {
        "colab": {
          "base_uri": "https://localhost:8080/",
          "height": 396
        },
        "id": "tRTVCFY75-38",
        "outputId": "0a8a193c-5b17-4045-a12c-0d15d27e6611"
      },
      "source": [
        ""
      ],
      "execution_count": 110,
      "outputs": [
        {
          "output_type": "error",
          "ename": "TypeError",
          "evalue": "ignored",
          "traceback": [
            "\u001b[0;31m---------------------------------------------------------------------------\u001b[0m",
            "\u001b[0;31mTypeError\u001b[0m                                 Traceback (most recent call last)",
            "\u001b[0;32m<ipython-input-110-c34bfb6f4363>\u001b[0m in \u001b[0;36m<module>\u001b[0;34m()\u001b[0m\n\u001b[0;32m----> 1\u001b[0;31m \u001b[0mdf1\u001b[0m\u001b[0;34m[\u001b[0m\u001b[0;34m:\u001b[0m\u001b[0;34m,\u001b[0m\u001b[0;36m9\u001b[0m\u001b[0;34m:\u001b[0m\u001b[0;36m11\u001b[0m\u001b[0;34m]\u001b[0m\u001b[0;34m\u001b[0m\u001b[0;34m\u001b[0m\u001b[0m\n\u001b[0m",
            "\u001b[0;32m/usr/local/lib/python3.7/dist-packages/pandas/core/frame.py\u001b[0m in \u001b[0;36m__getitem__\u001b[0;34m(self, key)\u001b[0m\n\u001b[1;32m   2904\u001b[0m             \u001b[0;32mif\u001b[0m \u001b[0mself\u001b[0m\u001b[0;34m.\u001b[0m\u001b[0mcolumns\u001b[0m\u001b[0;34m.\u001b[0m\u001b[0mnlevels\u001b[0m \u001b[0;34m>\u001b[0m \u001b[0;36m1\u001b[0m\u001b[0;34m:\u001b[0m\u001b[0;34m\u001b[0m\u001b[0;34m\u001b[0m\u001b[0m\n\u001b[1;32m   2905\u001b[0m                 \u001b[0;32mreturn\u001b[0m \u001b[0mself\u001b[0m\u001b[0;34m.\u001b[0m\u001b[0m_getitem_multilevel\u001b[0m\u001b[0;34m(\u001b[0m\u001b[0mkey\u001b[0m\u001b[0;34m)\u001b[0m\u001b[0;34m\u001b[0m\u001b[0;34m\u001b[0m\u001b[0m\n\u001b[0;32m-> 2906\u001b[0;31m             \u001b[0mindexer\u001b[0m \u001b[0;34m=\u001b[0m \u001b[0mself\u001b[0m\u001b[0;34m.\u001b[0m\u001b[0mcolumns\u001b[0m\u001b[0;34m.\u001b[0m\u001b[0mget_loc\u001b[0m\u001b[0;34m(\u001b[0m\u001b[0mkey\u001b[0m\u001b[0;34m)\u001b[0m\u001b[0;34m\u001b[0m\u001b[0;34m\u001b[0m\u001b[0m\n\u001b[0m\u001b[1;32m   2907\u001b[0m             \u001b[0;32mif\u001b[0m \u001b[0mis_integer\u001b[0m\u001b[0;34m(\u001b[0m\u001b[0mindexer\u001b[0m\u001b[0;34m)\u001b[0m\u001b[0;34m:\u001b[0m\u001b[0;34m\u001b[0m\u001b[0;34m\u001b[0m\u001b[0m\n\u001b[1;32m   2908\u001b[0m                 \u001b[0mindexer\u001b[0m \u001b[0;34m=\u001b[0m \u001b[0;34m[\u001b[0m\u001b[0mindexer\u001b[0m\u001b[0;34m]\u001b[0m\u001b[0;34m\u001b[0m\u001b[0;34m\u001b[0m\u001b[0m\n",
            "\u001b[0;32m/usr/local/lib/python3.7/dist-packages/pandas/core/indexes/base.py\u001b[0m in \u001b[0;36mget_loc\u001b[0;34m(self, key, method, tolerance)\u001b[0m\n\u001b[1;32m   2896\u001b[0m             \u001b[0mcasted_key\u001b[0m \u001b[0;34m=\u001b[0m \u001b[0mself\u001b[0m\u001b[0;34m.\u001b[0m\u001b[0m_maybe_cast_indexer\u001b[0m\u001b[0;34m(\u001b[0m\u001b[0mkey\u001b[0m\u001b[0;34m)\u001b[0m\u001b[0;34m\u001b[0m\u001b[0;34m\u001b[0m\u001b[0m\n\u001b[1;32m   2897\u001b[0m             \u001b[0;32mtry\u001b[0m\u001b[0;34m:\u001b[0m\u001b[0;34m\u001b[0m\u001b[0;34m\u001b[0m\u001b[0m\n\u001b[0;32m-> 2898\u001b[0;31m                 \u001b[0;32mreturn\u001b[0m \u001b[0mself\u001b[0m\u001b[0;34m.\u001b[0m\u001b[0m_engine\u001b[0m\u001b[0;34m.\u001b[0m\u001b[0mget_loc\u001b[0m\u001b[0;34m(\u001b[0m\u001b[0mcasted_key\u001b[0m\u001b[0;34m)\u001b[0m\u001b[0;34m\u001b[0m\u001b[0;34m\u001b[0m\u001b[0m\n\u001b[0m\u001b[1;32m   2899\u001b[0m             \u001b[0;32mexcept\u001b[0m \u001b[0mKeyError\u001b[0m \u001b[0;32mas\u001b[0m \u001b[0merr\u001b[0m\u001b[0;34m:\u001b[0m\u001b[0;34m\u001b[0m\u001b[0;34m\u001b[0m\u001b[0m\n\u001b[1;32m   2900\u001b[0m                 \u001b[0;32mraise\u001b[0m \u001b[0mKeyError\u001b[0m\u001b[0;34m(\u001b[0m\u001b[0mkey\u001b[0m\u001b[0;34m)\u001b[0m \u001b[0;32mfrom\u001b[0m \u001b[0merr\u001b[0m\u001b[0;34m\u001b[0m\u001b[0;34m\u001b[0m\u001b[0m\n",
            "\u001b[0;32mpandas/_libs/index.pyx\u001b[0m in \u001b[0;36mpandas._libs.index.IndexEngine.get_loc\u001b[0;34m()\u001b[0m\n",
            "\u001b[0;32mpandas/_libs/index.pyx\u001b[0m in \u001b[0;36mpandas._libs.index.IndexEngine.get_loc\u001b[0;34m()\u001b[0m\n",
            "\u001b[0;31mTypeError\u001b[0m: '(slice(None, None, None), slice(9, 11, None))' is an invalid key"
          ]
        }
      ]
    },
    {
      "cell_type": "code",
      "metadata": {
        "id": "TXW6If2cc0rv"
      },
      "source": [
        "# simple imputer to filling missing values\r\n",
        "from sklearn.impute import SimpleImputer\r\n",
        "imputer = SimpleImputer(missing_values=np.nan, strategy='median')\r\n",
        "imputer.fit_transform(df1[[\"Holding_Policy_Duration\",\"Holding_Policy_Type\"]])\r\n",
        "\r\n",
        "df1[[\"Holding_Policy_Duration\",\"Holding_Policy_Type\"]] = imputer.transform(df1[[\"Holding_Policy_Duration\",\"Holding_Policy_Type\"]])\r\n",
        "\r\n",
        "df2[[\"Holding_Policy_Duration\",\"Holding_Policy_Type\"]] = imputer.transform(df2[[\"Holding_Policy_Duration\",\"Holding_Policy_Type\"]])"
      ],
      "execution_count": 119,
      "outputs": []
    },
    {
      "cell_type": "code",
      "metadata": {
        "id": "jo4ZJbwsRxu-"
      },
      "source": [
        "df1['Holding_Policy_Duration'] = df1['Holding_Policy_Duration'].interpolate()\r\n",
        "df1['Holding_Policy_Type'] = df1['Holding_Policy_Type'].interpolate()\r\n",
        "\r\n",
        "\r\n",
        "df2['Holding_Policy_Duration'] = df2['Holding_Policy_Duration'].interpolate()\r\n",
        "df2['Holding_Policy_Type'] = df2['Holding_Policy_Type'].interpolate()\r\n",
        "\r\n"
      ],
      "execution_count": 44,
      "outputs": []
    },
    {
      "cell_type": "code",
      "metadata": {
        "colab": {
          "base_uri": "https://localhost:8080/"
        },
        "id": "6-LAhXBmUkDz",
        "outputId": "755507ff-b5d5-4b71-8116-00e525b4d38d"
      },
      "source": [
        "print(df1.isnull().sum())\r\n",
        "print(df2.isnull().sum())\r\n",
        "df1['Holding_Policy_Duration'].head(10)"
      ],
      "execution_count": 120,
      "outputs": [
        {
          "output_type": "stream",
          "text": [
            "ID                         0\n",
            "City_Code                  0\n",
            "Region_Code                0\n",
            "Accomodation_Type          0\n",
            "Reco_Insurance_Type        0\n",
            "Upper_Age                  0\n",
            "Lower_Age                  0\n",
            "Is_Spouse                  0\n",
            "Health Indicator           0\n",
            "Holding_Policy_Duration    0\n",
            "Holding_Policy_Type        0\n",
            "Reco_Policy_Cat            0\n",
            "Reco_Policy_Premium        0\n",
            "Response                   0\n",
            "dtype: int64\n",
            "ID                         0\n",
            "City_Code                  0\n",
            "Region_Code                0\n",
            "Accomodation_Type          0\n",
            "Reco_Insurance_Type        0\n",
            "Upper_Age                  0\n",
            "Lower_Age                  0\n",
            "Is_Spouse                  0\n",
            "Health Indicator           0\n",
            "Holding_Policy_Duration    0\n",
            "Holding_Policy_Type        0\n",
            "Reco_Policy_Cat            0\n",
            "Reco_Policy_Premium        0\n",
            "dtype: int64\n"
          ],
          "name": "stdout"
        },
        {
          "output_type": "execute_result",
          "data": {
            "text/plain": [
              "0    16.0\n",
              "1     5.0\n",
              "2     1.0\n",
              "3    16.0\n",
              "4     3.0\n",
              "5     5.0\n",
              "6     5.0\n",
              "7     9.0\n",
              "8    14.0\n",
              "9     7.0\n",
              "Name: Holding_Policy_Duration, dtype: float64"
            ]
          },
          "metadata": {
            "tags": []
          },
          "execution_count": 120
        }
      ]
    },
    {
      "cell_type": "code",
      "metadata": {
        "id": "ByyB-XHaVzCr"
      },
      "source": [
        "df1[\"Health Indicator\"] = df1['Health Indicator'].fillna('X0')\r\n",
        "df2[\"Health Indicator\"] = df2['Health Indicator'].fillna('X0')"
      ],
      "execution_count": 104,
      "outputs": []
    },
    {
      "cell_type": "code",
      "metadata": {
        "colab": {
          "base_uri": "https://localhost:8080/"
        },
        "id": "IbXiavvjOZDe",
        "outputId": "234db568-3619-4d02-8914-adfdfdaab1aa"
      },
      "source": [
        "df1[\"Health Indicator\"] = df1['Health Indicator'].fillna('X0')\r\n",
        "df1['Holding_Policy_Duration']  =df1['Holding_Policy_Duration'].fillna(0)\r\n",
        "df1['Holding_Policy_Type'] = df1['Holding_Policy_Type'].fillna(0)\r\n",
        "df1['Holding_Policy_Duration'] = df1['Holding_Policy_Duration'].replace(to_replace = '14+', value  =\"16\")\r\n",
        "df1['Holding_Policy_Duration'] =df1['Holding_Policy_Duration'].apply(pd.to_numeric)\r\n",
        "print(df1.isnull().sum())"
      ],
      "execution_count": null,
      "outputs": [
        {
          "output_type": "stream",
          "text": [
            "ID                         0\n",
            "City_Code                  0\n",
            "Region_Code                0\n",
            "Accomodation_Type          0\n",
            "Reco_Insurance_Type        0\n",
            "Upper_Age                  0\n",
            "Lower_Age                  0\n",
            "Is_Spouse                  0\n",
            "Health Indicator           0\n",
            "Holding_Policy_Duration    0\n",
            "Holding_Policy_Type        0\n",
            "Reco_Policy_Cat            0\n",
            "Reco_Policy_Premium        0\n",
            "Response                   0\n",
            "dtype: int64\n"
          ],
          "name": "stdout"
        }
      ]
    },
    {
      "cell_type": "code",
      "metadata": {
        "colab": {
          "base_uri": "https://localhost:8080/"
        },
        "id": "XeDivQecYj5g",
        "outputId": "fd19e0d2-7b1c-4d6d-bf32-7eefbaadf945"
      },
      "source": [
        "print(df1.isnull().sum())"
      ],
      "execution_count": 47,
      "outputs": [
        {
          "output_type": "stream",
          "text": [
            "ID                         0\n",
            "City_Code                  0\n",
            "Region_Code                0\n",
            "Accomodation_Type          0\n",
            "Reco_Insurance_Type        0\n",
            "Upper_Age                  0\n",
            "Lower_Age                  0\n",
            "Is_Spouse                  0\n",
            "Health Indicator           0\n",
            "Holding_Policy_Duration    0\n",
            "Holding_Policy_Type        0\n",
            "Reco_Policy_Cat            0\n",
            "Reco_Policy_Premium        0\n",
            "Response                   0\n",
            "dtype: int64\n"
          ],
          "name": "stdout"
        }
      ]
    },
    {
      "cell_type": "markdown",
      "metadata": {
        "id": "bES-sMvrYk3Q"
      },
      "source": [
        "No use for now\r\n"
      ]
    },
    {
      "cell_type": "code",
      "metadata": {
        "colab": {
          "base_uri": "https://localhost:8080/"
        },
        "id": "ZDld2ED9UtDc",
        "outputId": "951cde8f-ada9-40fe-d723-ac47e2826747"
      },
      "source": [
        "df2[\"Health Indicator\"] = df2['Health Indicator'].fillna('X0')\r\n",
        "df2['Holding_Policy_Duration']  =df2['Holding_Policy_Duration'].fillna(0)\r\n",
        "df2['Holding_Policy_Type'] = df2['Holding_Policy_Type'].fillna(0)\r\n",
        "df2['Holding_Policy_Duration'] = df2['Holding_Policy_Duration'].replace(to_replace = '14+', value  =\"16\")\r\n",
        "df2['Holding_Policy_Duration'] =df2['Holding_Policy_Duration'].apply(pd.to_numeric)\r\n",
        "print(df2.isnull().sum())"
      ],
      "execution_count": null,
      "outputs": [
        {
          "output_type": "stream",
          "text": [
            "ID                         0\n",
            "City_Code                  0\n",
            "Region_Code                0\n",
            "Accomodation_Type          0\n",
            "Reco_Insurance_Type        0\n",
            "Upper_Age                  0\n",
            "Lower_Age                  0\n",
            "Is_Spouse                  0\n",
            "Health Indicator           0\n",
            "Holding_Policy_Duration    0\n",
            "Holding_Policy_Type        0\n",
            "Reco_Policy_Cat            0\n",
            "Reco_Policy_Premium        0\n",
            "dtype: int64\n"
          ],
          "name": "stdout"
        }
      ]
    },
    {
      "cell_type": "code",
      "metadata": {
        "id": "6_kpYSFAU4Cg"
      },
      "source": [
        "y=df1[\"Response\"]\r\n",
        "df1=df1.drop([\"ID\",\"Response\"],axis=1)"
      ],
      "execution_count": 121,
      "outputs": []
    },
    {
      "cell_type": "code",
      "metadata": {
        "id": "DMBAqdjBmb6G"
      },
      "source": [
        ""
      ],
      "execution_count": 121,
      "outputs": []
    },
    {
      "cell_type": "code",
      "metadata": {
        "id": "tWlJqj5BYgr0"
      },
      "source": [
        "df_f = df2[\"ID\"]\r\n",
        "df2=df2.drop([\"ID\"],axis=1)\r\n"
      ],
      "execution_count": 122,
      "outputs": []
    },
    {
      "cell_type": "code",
      "metadata": {
        "colab": {
          "base_uri": "https://localhost:8080/"
        },
        "id": "RnoGbPScVBKE",
        "outputId": "32bc2ad5-a7c4-44fe-c5b0-20734116a8ff"
      },
      "source": [
        "df1.skew()"
      ],
      "execution_count": 123,
      "outputs": [
        {
          "output_type": "execute_result",
          "data": {
            "text/plain": [
              "Region_Code                0.798096\n",
              "Upper_Age                  0.217370\n",
              "Lower_Age                  0.330594\n",
              "Holding_Policy_Duration    1.454396\n",
              "Holding_Policy_Type       -0.912864\n",
              "Reco_Policy_Cat           -0.928224\n",
              "Reco_Policy_Premium        0.782463\n",
              "dtype: float64"
            ]
          },
          "metadata": {
            "tags": []
          },
          "execution_count": 123
        }
      ]
    },
    {
      "cell_type": "code",
      "metadata": {
        "colab": {
          "base_uri": "https://localhost:8080/"
        },
        "id": "4J37FUe1VM55",
        "outputId": "4f93ea67-10fc-43cc-98a6-e1eba21a6ac2"
      },
      "source": [
        "df2.skew()"
      ],
      "execution_count": 124,
      "outputs": [
        {
          "output_type": "execute_result",
          "data": {
            "text/plain": [
              "Region_Code                0.789132\n",
              "Upper_Age                  0.207386\n",
              "Lower_Age                  0.326725\n",
              "Holding_Policy_Duration    1.448697\n",
              "Holding_Policy_Type       -0.878830\n",
              "Reco_Policy_Cat           -0.926143\n",
              "Reco_Policy_Premium        0.744149\n",
              "dtype: float64"
            ]
          },
          "metadata": {
            "tags": []
          },
          "execution_count": 124
        }
      ]
    },
    {
      "cell_type": "code",
      "metadata": {
        "id": "7q4g2hn-VOpC"
      },
      "source": [
        "d={}\r\n",
        "for i in df1['Health Indicator']:\r\n",
        "  if i in d.keys():\r\n",
        "    d[i]+=1\r\n",
        "  else:\r\n",
        "    d[i] = 1\r\n",
        "a=[\"X10\",'X1', 'X2', 'X4', 'X3', 'X6', 'X5', 'X8', 'X7', 'X9']\r\n",
        "\r\n",
        "for i in range(1,len(a)+1):\r\n",
        "  df1['Health Indicator'] = df1['Health Indicator'].replace(to_replace =a[i] , value  = i)\r\n",
        "  df2['Health Indicator'] = df2['Health Indicator'].replace(to_replace =a[i] , value  = i)\r\n",
        "\r\n"
      ],
      "execution_count": 126,
      "outputs": []
    },
    {
      "cell_type": "code",
      "metadata": {
        "id": "3GzQDIw6V5vX",
        "colab": {
          "base_uri": "https://localhost:8080/"
        },
        "outputId": "934c66ea-1d22-49dc-be7e-1f5c251714bf"
      },
      "source": [
        "\r\n",
        "b = [\"C\"+str(i) for i in range(1,37)]\r\n",
        "for i in range(len(b)):\r\n",
        "  df1['City_Code'] = df1['City_Code'].replace(to_replace =b[i] , value  = i)\r\n",
        "  df2['City_Code'] = df2['City_Code'].replace(to_replace =b[i] , value  = i)\r\n",
        "\r\n",
        "df1['Health Indicator'].head(10)"
      ],
      "execution_count": 125,
      "outputs": [
        {
          "output_type": "execute_result",
          "data": {
            "text/plain": [
              "0    X1\n",
              "1    X2\n",
              "2    X0\n",
              "3    X1\n",
              "4    X2\n",
              "5    X2\n",
              "6    X0\n",
              "7    X4\n",
              "8    X1\n",
              "9    X0\n",
              "Name: Health Indicator, dtype: object"
            ]
          },
          "metadata": {
            "tags": []
          },
          "execution_count": 125
        }
      ]
    },
    {
      "cell_type": "code",
      "metadata": {
        "colab": {
          "base_uri": "https://localhost:8080/"
        },
        "id": "IxDCLW4Q7fwK",
        "outputId": "05d0f56b-cca6-4fe6-ef11-37ed3cd1c280"
      },
      "source": [
        "df1.skew()"
      ],
      "execution_count": 127,
      "outputs": [
        {
          "output_type": "execute_result",
          "data": {
            "text/plain": [
              "City_Code                  1.212203\n",
              "Region_Code                0.798096\n",
              "Upper_Age                  0.217370\n",
              "Lower_Age                  0.330594\n",
              "Health Indicator           0.868183\n",
              "Holding_Policy_Duration    1.454396\n",
              "Holding_Policy_Type       -0.912864\n",
              "Reco_Policy_Cat           -0.928224\n",
              "Reco_Policy_Premium        0.782463\n",
              "dtype: float64"
            ]
          },
          "metadata": {
            "tags": []
          },
          "execution_count": 127
        }
      ]
    },
    {
      "cell_type": "code",
      "metadata": {
        "id": "yk3-vECCXQr5"
      },
      "source": [
        "df1['Health Indicator'] = df1['Health Indicator'].interpolate(method=\"akima\")\r\n",
        "df2['Health Indicator'] = df2['Health Indicator'].interpolate(method  = \"akima\")"
      ],
      "execution_count": null,
      "outputs": []
    },
    {
      "cell_type": "code",
      "metadata": {
        "colab": {
          "base_uri": "https://localhost:8080/"
        },
        "id": "L2aV4k-iWiin",
        "outputId": "064814d5-29ee-4bc8-aa11-ddccdeb93cc2"
      },
      "source": [
        "print(df1.isnull().sum())"
      ],
      "execution_count": 128,
      "outputs": [
        {
          "output_type": "stream",
          "text": [
            "City_Code                  0\n",
            "Region_Code                0\n",
            "Accomodation_Type          0\n",
            "Reco_Insurance_Type        0\n",
            "Upper_Age                  0\n",
            "Lower_Age                  0\n",
            "Is_Spouse                  0\n",
            "Health Indicator           0\n",
            "Holding_Policy_Duration    0\n",
            "Holding_Policy_Type        0\n",
            "Reco_Policy_Cat            0\n",
            "Reco_Policy_Premium        0\n",
            "dtype: int64\n"
          ],
          "name": "stdout"
        }
      ]
    },
    {
      "cell_type": "code",
      "metadata": {
        "colab": {
          "base_uri": "https://localhost:8080/",
          "height": 706
        },
        "id": "LQKepjwMV9CC",
        "outputId": "2ba8203f-28a8-498f-ffc7-bd0f737d03c6"
      },
      "source": [
        "plt.figure(figsize=(12,10))\r\n",
        "cor = df1.corr()\r\n",
        "sns.heatmap(cor, annot=True, cmap=plt.cm.Reds)\r\n",
        "plt.show()"
      ],
      "execution_count": 129,
      "outputs": [
        {
          "output_type": "display_data",
          "data": {
            "image/png": "[encoded data removed]",
            "text/plain": [
              "<Figure size 864x720 with 2 Axes>"
            ]
          },
          "metadata": {
            "tags": [],
            "needs_background": "light"
          }
        }
      ]
    },
    {
      "cell_type": "code",
      "metadata": {
        "colab": {
          "base_uri": "https://localhost:8080/"
        },
        "id": "ADS7-QkEX1qE",
        "outputId": "7b680564-5978-4fde-d1d0-b70cd15d3d49"
      },
      "source": [
        "print(df1.dtypes)\r\n",
        "print(df2.dtypes)\r\n",
        "df1.columns"
      ],
      "execution_count": 130,
      "outputs": [
        {
          "output_type": "stream",
          "text": [
            "City_Code                    int64\n",
            "Region_Code                  int64\n",
            "Accomodation_Type           object\n",
            "Reco_Insurance_Type         object\n",
            "Upper_Age                    int64\n",
            "Lower_Age                    int64\n",
            "Is_Spouse                   object\n",
            "Health Indicator             int64\n",
            "Holding_Policy_Duration    float64\n",
            "Holding_Policy_Type        float64\n",
            "Reco_Policy_Cat              int64\n",
            "Reco_Policy_Premium        float64\n",
            "dtype: object\n",
            "City_Code                    int64\n",
            "Region_Code                  int64\n",
            "Accomodation_Type           object\n",
            "Reco_Insurance_Type         object\n",
            "Upper_Age                    int64\n",
            "Lower_Age                    int64\n",
            "Is_Spouse                   object\n",
            "Health Indicator             int64\n",
            "Holding_Policy_Duration    float64\n",
            "Holding_Policy_Type        float64\n",
            "Reco_Policy_Cat              int64\n",
            "Reco_Policy_Premium        float64\n",
            "dtype: object\n"
          ],
          "name": "stdout"
        },
        {
          "output_type": "execute_result",
          "data": {
            "text/plain": [
              "Index(['City_Code', 'Region_Code', 'Accomodation_Type', 'Reco_Insurance_Type',\n",
              "       'Upper_Age', 'Lower_Age', 'Is_Spouse', 'Health Indicator',\n",
              "       'Holding_Policy_Duration', 'Holding_Policy_Type', 'Reco_Policy_Cat',\n",
              "       'Reco_Policy_Premium'],\n",
              "      dtype='object')"
            ]
          },
          "metadata": {
            "tags": []
          },
          "execution_count": 130
        }
      ]
    },
    {
      "cell_type": "code",
      "metadata": {
        "id": "ZlrrR8RLaHlK"
      },
      "source": [
        "df2[\"Health Indicator\"]  =df2[\"Health Indicator\"].fillna(1)"
      ],
      "execution_count": 39,
      "outputs": []
    },
    {
      "cell_type": "code",
      "metadata": {
        "colab": {
          "base_uri": "https://localhost:8080/"
        },
        "id": "tIIMOl0zlplc",
        "outputId": "94b8325f-22a2-4986-ad6e-e1963ca81a53"
      },
      "source": [
        "neg, pos = np.bincount(y)\r\n",
        "total = neg + pos\r\n",
        "print('Examples:\\n    Total: {}\\n    Positive: {} ({:.2f}% of total)\\n'.format(\r\n",
        "    total, pos, 100 * pos / total))"
      ],
      "execution_count": 131,
      "outputs": [
        {
          "output_type": "stream",
          "text": [
            "Examples:\n",
            "    Total: 50882\n",
            "    Positive: 12209 (23.99% of total)\n",
            "\n"
          ],
          "name": "stdout"
        }
      ]
    },
    {
      "cell_type": "code",
      "metadata": {
        "colab": {
          "base_uri": "https://localhost:8080/"
        },
        "id": "KU9zIANb75sa",
        "outputId": "baa3709c-5f44-4287-c57c-e019d1390d6b"
      },
      "source": [
        "df1.skew()"
      ],
      "execution_count": 132,
      "outputs": [
        {
          "output_type": "execute_result",
          "data": {
            "text/plain": [
              "City_Code                  1.212203\n",
              "Region_Code                0.798096\n",
              "Upper_Age                  0.217370\n",
              "Lower_Age                  0.330594\n",
              "Health Indicator           0.868183\n",
              "Holding_Policy_Duration    1.454396\n",
              "Holding_Policy_Type       -0.912864\n",
              "Reco_Policy_Cat           -0.928224\n",
              "Reco_Policy_Premium        0.782463\n",
              "dtype: float64"
            ]
          },
          "metadata": {
            "tags": []
          },
          "execution_count": 132
        }
      ]
    },
    {
      "cell_type": "code",
      "metadata": {
        "colab": {
          "base_uri": "https://localhost:8080/",
          "height": 450
        },
        "id": "rGRoNkHulzUS",
        "outputId": "0593d677-1026-44be-f2ce-ae356baa2498"
      },
      "source": [
        "cleaned_df = df1.copy()\r\n",
        "\r\n",
        "# You don't want the `Time` column.\r\n",
        "#cleaned_df.pop('ID')\r\n",
        "\r\n",
        "# The `Amount` column covers a huge range. Convert to log-space.\r\n",
        "eps = 0.001 # 0 => 0.1¢\r\n",
        "cleaned_df['Log_Reco_Policy_Premium'] = np.log(cleaned_df.pop('Reco_Policy_Premium')+eps)\r\n",
        "cleaned_df['Log_City_Code'] = np.log(cleaned_df.pop('City_Code')+eps)\r\n",
        "cleaned_df['Log_Health Indicator'] = np.log(cleaned_df.pop('Health Indicator')+eps)\r\n",
        "cleaned_df['Log_Holding_Policy_Type'] = np.log(cleaned_df.pop('Holding_Policy_Type')+eps)\r\n",
        "cleaned_df['Log_Reco_Policy_Cat'] = np.log(cleaned_df.pop('Reco_Policy_Cat')+eps)\r\n"
      ],
      "execution_count": 337,
      "outputs": [
        {
          "output_type": "error",
          "ename": "TypeError",
          "evalue": "ignored",
          "traceback": [
            "\u001b[0;31m---------------------------------------------------------------------------\u001b[0m",
            "\u001b[0;31mTypeError\u001b[0m                                 Traceback (most recent call last)",
            "\u001b[0;32m/usr/local/lib/python3.7/dist-packages/pandas/core/ops/array_ops.py\u001b[0m in \u001b[0;36mna_arithmetic_op\u001b[0;34m(left, right, op, is_cmp)\u001b[0m\n\u001b[1;32m    142\u001b[0m     \u001b[0;32mtry\u001b[0m\u001b[0;34m:\u001b[0m\u001b[0;34m\u001b[0m\u001b[0;34m\u001b[0m\u001b[0m\n\u001b[0;32m--> 143\u001b[0;31m         \u001b[0mresult\u001b[0m \u001b[0;34m=\u001b[0m \u001b[0mexpressions\u001b[0m\u001b[0;34m.\u001b[0m\u001b[0mevaluate\u001b[0m\u001b[0;34m(\u001b[0m\u001b[0mop\u001b[0m\u001b[0;34m,\u001b[0m \u001b[0mleft\u001b[0m\u001b[0;34m,\u001b[0m \u001b[0mright\u001b[0m\u001b[0;34m)\u001b[0m\u001b[0;34m\u001b[0m\u001b[0;34m\u001b[0m\u001b[0m\n\u001b[0m\u001b[1;32m    144\u001b[0m     \u001b[0;32mexcept\u001b[0m \u001b[0mTypeError\u001b[0m\u001b[0;34m:\u001b[0m\u001b[0;34m\u001b[0m\u001b[0;34m\u001b[0m\u001b[0m\n",
            "\u001b[0;32m/usr/local/lib/python3.7/dist-packages/pandas/core/computation/expressions.py\u001b[0m in \u001b[0;36mevaluate\u001b[0;34m(op, a, b, use_numexpr)\u001b[0m\n\u001b[1;32m    232\u001b[0m         \u001b[0;32mif\u001b[0m \u001b[0muse_numexpr\u001b[0m\u001b[0;34m:\u001b[0m\u001b[0;34m\u001b[0m\u001b[0;34m\u001b[0m\u001b[0m\n\u001b[0;32m--> 233\u001b[0;31m             \u001b[0;32mreturn\u001b[0m \u001b[0m_evaluate\u001b[0m\u001b[0;34m(\u001b[0m\u001b[0mop\u001b[0m\u001b[0;34m,\u001b[0m \u001b[0mop_str\u001b[0m\u001b[0;34m,\u001b[0m \u001b[0ma\u001b[0m\u001b[0;34m,\u001b[0m \u001b[0mb\u001b[0m\u001b[0;34m)\u001b[0m  \u001b[0;31m# type: ignore\u001b[0m\u001b[0;34m\u001b[0m\u001b[0;34m\u001b[0m\u001b[0m\n\u001b[0m\u001b[1;32m    234\u001b[0m     \u001b[0;32mreturn\u001b[0m \u001b[0m_evaluate_standard\u001b[0m\u001b[0;34m(\u001b[0m\u001b[0mop\u001b[0m\u001b[0;34m,\u001b[0m \u001b[0mop_str\u001b[0m\u001b[0;34m,\u001b[0m \u001b[0ma\u001b[0m\u001b[0;34m,\u001b[0m \u001b[0mb\u001b[0m\u001b[0;34m)\u001b[0m\u001b[0;34m\u001b[0m\u001b[0;34m\u001b[0m\u001b[0m\n",
            "\u001b[0;32m/usr/local/lib/python3.7/dist-packages/pandas/core/computation/expressions.py\u001b[0m in \u001b[0;36m_evaluate_numexpr\u001b[0;34m(op, op_str, a, b)\u001b[0m\n\u001b[1;32m    118\u001b[0m     \u001b[0;32mif\u001b[0m \u001b[0mresult\u001b[0m \u001b[0;32mis\u001b[0m \u001b[0;32mNone\u001b[0m\u001b[0;34m:\u001b[0m\u001b[0;34m\u001b[0m\u001b[0;34m\u001b[0m\u001b[0m\n\u001b[0;32m--> 119\u001b[0;31m         \u001b[0mresult\u001b[0m \u001b[0;34m=\u001b[0m \u001b[0m_evaluate_standard\u001b[0m\u001b[0;34m(\u001b[0m\u001b[0mop\u001b[0m\u001b[0;34m,\u001b[0m \u001b[0mop_str\u001b[0m\u001b[0;34m,\u001b[0m \u001b[0ma\u001b[0m\u001b[0;34m,\u001b[0m \u001b[0mb\u001b[0m\u001b[0;34m)\u001b[0m\u001b[0;34m\u001b[0m\u001b[0;34m\u001b[0m\u001b[0m\n\u001b[0m\u001b[1;32m    120\u001b[0m \u001b[0;34m\u001b[0m\u001b[0m\n",
            "\u001b[0;32m/usr/local/lib/python3.7/dist-packages/pandas/core/computation/expressions.py\u001b[0m in \u001b[0;36m_evaluate_standard\u001b[0;34m(op, op_str, a, b)\u001b[0m\n\u001b[1;32m     67\u001b[0m     \u001b[0;32mwith\u001b[0m \u001b[0mnp\u001b[0m\u001b[0;34m.\u001b[0m\u001b[0merrstate\u001b[0m\u001b[0;34m(\u001b[0m\u001b[0mall\u001b[0m\u001b[0;34m=\u001b[0m\u001b[0;34m\"ignore\"\u001b[0m\u001b[0;34m)\u001b[0m\u001b[0;34m:\u001b[0m\u001b[0;34m\u001b[0m\u001b[0;34m\u001b[0m\u001b[0m\n\u001b[0;32m---> 68\u001b[0;31m         \u001b[0;32mreturn\u001b[0m \u001b[0mop\u001b[0m\u001b[0;34m(\u001b[0m\u001b[0ma\u001b[0m\u001b[0;34m,\u001b[0m \u001b[0mb\u001b[0m\u001b[0;34m)\u001b[0m\u001b[0;34m\u001b[0m\u001b[0;34m\u001b[0m\u001b[0m\n\u001b[0m\u001b[1;32m     69\u001b[0m \u001b[0;34m\u001b[0m\u001b[0m\n",
            "\u001b[0;31mTypeError\u001b[0m: can only concatenate str (not \"float\") to str",
            "\nDuring handling of the above exception, another exception occurred:\n",
            "\u001b[0;31mTypeError\u001b[0m                                 Traceback (most recent call last)",
            "\u001b[0;32m<ipython-input-337-712a17a2678c>\u001b[0m in \u001b[0;36m<module>\u001b[0;34m()\u001b[0m\n\u001b[1;32m      7\u001b[0m \u001b[0meps\u001b[0m \u001b[0;34m=\u001b[0m \u001b[0;36m0.001\u001b[0m \u001b[0;31m# 0 => 0.1¢\u001b[0m\u001b[0;34m\u001b[0m\u001b[0;34m\u001b[0m\u001b[0m\n\u001b[1;32m      8\u001b[0m \u001b[0mcleaned_df\u001b[0m\u001b[0;34m[\u001b[0m\u001b[0;34m'Log_Reco_Policy_Premium'\u001b[0m\u001b[0;34m]\u001b[0m \u001b[0;34m=\u001b[0m \u001b[0mnp\u001b[0m\u001b[0;34m.\u001b[0m\u001b[0mlog\u001b[0m\u001b[0;34m(\u001b[0m\u001b[0mcleaned_df\u001b[0m\u001b[0;34m.\u001b[0m\u001b[0mpop\u001b[0m\u001b[0;34m(\u001b[0m\u001b[0;34m'Reco_Policy_Premium'\u001b[0m\u001b[0;34m)\u001b[0m\u001b[0;34m+\u001b[0m\u001b[0meps\u001b[0m\u001b[0;34m)\u001b[0m\u001b[0;34m\u001b[0m\u001b[0;34m\u001b[0m\u001b[0m\n\u001b[0;32m----> 9\u001b[0;31m \u001b[0mcleaned_df\u001b[0m\u001b[0;34m[\u001b[0m\u001b[0;34m'Log_City_Code'\u001b[0m\u001b[0;34m]\u001b[0m \u001b[0;34m=\u001b[0m \u001b[0mnp\u001b[0m\u001b[0;34m.\u001b[0m\u001b[0mlog\u001b[0m\u001b[0;34m(\u001b[0m\u001b[0mcleaned_df\u001b[0m\u001b[0;34m.\u001b[0m\u001b[0mpop\u001b[0m\u001b[0;34m(\u001b[0m\u001b[0;34m'City_Code'\u001b[0m\u001b[0;34m)\u001b[0m\u001b[0;34m+\u001b[0m\u001b[0meps\u001b[0m\u001b[0;34m)\u001b[0m\u001b[0;34m\u001b[0m\u001b[0;34m\u001b[0m\u001b[0m\n\u001b[0m\u001b[1;32m     10\u001b[0m \u001b[0mcleaned_df\u001b[0m\u001b[0;34m[\u001b[0m\u001b[0;34m'Log_Health Indicator'\u001b[0m\u001b[0;34m]\u001b[0m \u001b[0;34m=\u001b[0m \u001b[0mnp\u001b[0m\u001b[0;34m.\u001b[0m\u001b[0mlog\u001b[0m\u001b[0;34m(\u001b[0m\u001b[0mcleaned_df\u001b[0m\u001b[0;34m.\u001b[0m\u001b[0mpop\u001b[0m\u001b[0;34m(\u001b[0m\u001b[0;34m'Health Indicator'\u001b[0m\u001b[0;34m)\u001b[0m\u001b[0;34m+\u001b[0m\u001b[0meps\u001b[0m\u001b[0;34m)\u001b[0m\u001b[0;34m\u001b[0m\u001b[0;34m\u001b[0m\u001b[0m\n\u001b[1;32m     11\u001b[0m \u001b[0mcleaned_df\u001b[0m\u001b[0;34m[\u001b[0m\u001b[0;34m'Log_Holding_Policy_Type'\u001b[0m\u001b[0;34m]\u001b[0m \u001b[0;34m=\u001b[0m \u001b[0mnp\u001b[0m\u001b[0;34m.\u001b[0m\u001b[0mlog\u001b[0m\u001b[0;34m(\u001b[0m\u001b[0mcleaned_df\u001b[0m\u001b[0;34m.\u001b[0m\u001b[0mpop\u001b[0m\u001b[0;34m(\u001b[0m\u001b[0;34m'Holding_Policy_Type'\u001b[0m\u001b[0;34m)\u001b[0m\u001b[0;34m+\u001b[0m\u001b[0meps\u001b[0m\u001b[0;34m)\u001b[0m\u001b[0;34m\u001b[0m\u001b[0;34m\u001b[0m\u001b[0m\n",
            "\u001b[0;32m/usr/local/lib/python3.7/dist-packages/pandas/core/ops/common.py\u001b[0m in \u001b[0;36mnew_method\u001b[0;34m(self, other)\u001b[0m\n\u001b[1;32m     63\u001b[0m         \u001b[0mother\u001b[0m \u001b[0;34m=\u001b[0m \u001b[0mitem_from_zerodim\u001b[0m\u001b[0;34m(\u001b[0m\u001b[0mother\u001b[0m\u001b[0;34m)\u001b[0m\u001b[0;34m\u001b[0m\u001b[0;34m\u001b[0m\u001b[0m\n\u001b[1;32m     64\u001b[0m \u001b[0;34m\u001b[0m\u001b[0m\n\u001b[0;32m---> 65\u001b[0;31m         \u001b[0;32mreturn\u001b[0m \u001b[0mmethod\u001b[0m\u001b[0;34m(\u001b[0m\u001b[0mself\u001b[0m\u001b[0;34m,\u001b[0m \u001b[0mother\u001b[0m\u001b[0;34m)\u001b[0m\u001b[0;34m\u001b[0m\u001b[0;34m\u001b[0m\u001b[0m\n\u001b[0m\u001b[1;32m     66\u001b[0m \u001b[0;34m\u001b[0m\u001b[0m\n\u001b[1;32m     67\u001b[0m     \u001b[0;32mreturn\u001b[0m \u001b[0mnew_method\u001b[0m\u001b[0;34m\u001b[0m\u001b[0;34m\u001b[0m\u001b[0m\n",
            "\u001b[0;32m/usr/local/lib/python3.7/dist-packages/pandas/core/ops/__init__.py\u001b[0m in \u001b[0;36mwrapper\u001b[0;34m(left, right)\u001b[0m\n\u001b[1;32m    341\u001b[0m         \u001b[0mlvalues\u001b[0m \u001b[0;34m=\u001b[0m \u001b[0mextract_array\u001b[0m\u001b[0;34m(\u001b[0m\u001b[0mleft\u001b[0m\u001b[0;34m,\u001b[0m \u001b[0mextract_numpy\u001b[0m\u001b[0;34m=\u001b[0m\u001b[0;32mTrue\u001b[0m\u001b[0;34m)\u001b[0m\u001b[0;34m\u001b[0m\u001b[0;34m\u001b[0m\u001b[0m\n\u001b[1;32m    342\u001b[0m         \u001b[0mrvalues\u001b[0m \u001b[0;34m=\u001b[0m \u001b[0mextract_array\u001b[0m\u001b[0;34m(\u001b[0m\u001b[0mright\u001b[0m\u001b[0;34m,\u001b[0m \u001b[0mextract_numpy\u001b[0m\u001b[0;34m=\u001b[0m\u001b[0;32mTrue\u001b[0m\u001b[0;34m)\u001b[0m\u001b[0;34m\u001b[0m\u001b[0;34m\u001b[0m\u001b[0m\n\u001b[0;32m--> 343\u001b[0;31m         \u001b[0mresult\u001b[0m \u001b[0;34m=\u001b[0m \u001b[0marithmetic_op\u001b[0m\u001b[0;34m(\u001b[0m\u001b[0mlvalues\u001b[0m\u001b[0;34m,\u001b[0m \u001b[0mrvalues\u001b[0m\u001b[0;34m,\u001b[0m \u001b[0mop\u001b[0m\u001b[0;34m)\u001b[0m\u001b[0;34m\u001b[0m\u001b[0;34m\u001b[0m\u001b[0m\n\u001b[0m\u001b[1;32m    344\u001b[0m \u001b[0;34m\u001b[0m\u001b[0m\n\u001b[1;32m    345\u001b[0m         \u001b[0;32mreturn\u001b[0m \u001b[0mleft\u001b[0m\u001b[0;34m.\u001b[0m\u001b[0m_construct_result\u001b[0m\u001b[0;34m(\u001b[0m\u001b[0mresult\u001b[0m\u001b[0;34m,\u001b[0m \u001b[0mname\u001b[0m\u001b[0;34m=\u001b[0m\u001b[0mres_name\u001b[0m\u001b[0;34m)\u001b[0m\u001b[0;34m\u001b[0m\u001b[0;34m\u001b[0m\u001b[0m\n",
            "\u001b[0;32m/usr/local/lib/python3.7/dist-packages/pandas/core/ops/array_ops.py\u001b[0m in \u001b[0;36marithmetic_op\u001b[0;34m(left, right, op)\u001b[0m\n\u001b[1;32m    188\u001b[0m     \u001b[0;32melse\u001b[0m\u001b[0;34m:\u001b[0m\u001b[0;34m\u001b[0m\u001b[0;34m\u001b[0m\u001b[0m\n\u001b[1;32m    189\u001b[0m         \u001b[0;32mwith\u001b[0m \u001b[0mnp\u001b[0m\u001b[0;34m.\u001b[0m\u001b[0merrstate\u001b[0m\u001b[0;34m(\u001b[0m\u001b[0mall\u001b[0m\u001b[0;34m=\u001b[0m\u001b[0;34m\"ignore\"\u001b[0m\u001b[0;34m)\u001b[0m\u001b[0;34m:\u001b[0m\u001b[0;34m\u001b[0m\u001b[0;34m\u001b[0m\u001b[0m\n\u001b[0;32m--> 190\u001b[0;31m             \u001b[0mres_values\u001b[0m \u001b[0;34m=\u001b[0m \u001b[0mna_arithmetic_op\u001b[0m\u001b[0;34m(\u001b[0m\u001b[0mlvalues\u001b[0m\u001b[0;34m,\u001b[0m \u001b[0mrvalues\u001b[0m\u001b[0;34m,\u001b[0m \u001b[0mop\u001b[0m\u001b[0;34m)\u001b[0m\u001b[0;34m\u001b[0m\u001b[0;34m\u001b[0m\u001b[0m\n\u001b[0m\u001b[1;32m    191\u001b[0m \u001b[0;34m\u001b[0m\u001b[0m\n\u001b[1;32m    192\u001b[0m     \u001b[0;32mreturn\u001b[0m \u001b[0mres_values\u001b[0m\u001b[0;34m\u001b[0m\u001b[0;34m\u001b[0m\u001b[0m\n",
            "\u001b[0;32m/usr/local/lib/python3.7/dist-packages/pandas/core/ops/array_ops.py\u001b[0m in \u001b[0;36mna_arithmetic_op\u001b[0;34m(left, right, op, is_cmp)\u001b[0m\n\u001b[1;32m    148\u001b[0m             \u001b[0;31m#  will handle complex numbers incorrectly, see GH#32047\u001b[0m\u001b[0;34m\u001b[0m\u001b[0;34m\u001b[0m\u001b[0;34m\u001b[0m\u001b[0m\n\u001b[1;32m    149\u001b[0m             \u001b[0;32mraise\u001b[0m\u001b[0;34m\u001b[0m\u001b[0;34m\u001b[0m\u001b[0m\n\u001b[0;32m--> 150\u001b[0;31m         \u001b[0mresult\u001b[0m \u001b[0;34m=\u001b[0m \u001b[0mmasked_arith_op\u001b[0m\u001b[0;34m(\u001b[0m\u001b[0mleft\u001b[0m\u001b[0;34m,\u001b[0m \u001b[0mright\u001b[0m\u001b[0;34m,\u001b[0m \u001b[0mop\u001b[0m\u001b[0;34m)\u001b[0m\u001b[0;34m\u001b[0m\u001b[0;34m\u001b[0m\u001b[0m\n\u001b[0m\u001b[1;32m    151\u001b[0m \u001b[0;34m\u001b[0m\u001b[0m\n\u001b[1;32m    152\u001b[0m     \u001b[0;32mif\u001b[0m \u001b[0mis_cmp\u001b[0m \u001b[0;32mand\u001b[0m \u001b[0;34m(\u001b[0m\u001b[0mis_scalar\u001b[0m\u001b[0;34m(\u001b[0m\u001b[0mresult\u001b[0m\u001b[0;34m)\u001b[0m \u001b[0;32mor\u001b[0m \u001b[0mresult\u001b[0m \u001b[0;32mis\u001b[0m \u001b[0mNotImplemented\u001b[0m\u001b[0;34m)\u001b[0m\u001b[0;34m:\u001b[0m\u001b[0;34m\u001b[0m\u001b[0;34m\u001b[0m\u001b[0m\n",
            "\u001b[0;32m/usr/local/lib/python3.7/dist-packages/pandas/core/ops/array_ops.py\u001b[0m in \u001b[0;36mmasked_arith_op\u001b[0;34m(x, y, op)\u001b[0m\n\u001b[1;32m    110\u001b[0m         \u001b[0;32mif\u001b[0m \u001b[0mmask\u001b[0m\u001b[0;34m.\u001b[0m\u001b[0many\u001b[0m\u001b[0;34m(\u001b[0m\u001b[0;34m)\u001b[0m\u001b[0;34m:\u001b[0m\u001b[0;34m\u001b[0m\u001b[0;34m\u001b[0m\u001b[0m\n\u001b[1;32m    111\u001b[0m             \u001b[0;32mwith\u001b[0m \u001b[0mnp\u001b[0m\u001b[0;34m.\u001b[0m\u001b[0merrstate\u001b[0m\u001b[0;34m(\u001b[0m\u001b[0mall\u001b[0m\u001b[0;34m=\u001b[0m\u001b[0;34m\"ignore\"\u001b[0m\u001b[0;34m)\u001b[0m\u001b[0;34m:\u001b[0m\u001b[0;34m\u001b[0m\u001b[0;34m\u001b[0m\u001b[0m\n\u001b[0;32m--> 112\u001b[0;31m                 \u001b[0mresult\u001b[0m\u001b[0;34m[\u001b[0m\u001b[0mmask\u001b[0m\u001b[0;34m]\u001b[0m \u001b[0;34m=\u001b[0m \u001b[0mop\u001b[0m\u001b[0;34m(\u001b[0m\u001b[0mxrav\u001b[0m\u001b[0;34m[\u001b[0m\u001b[0mmask\u001b[0m\u001b[0;34m]\u001b[0m\u001b[0;34m,\u001b[0m \u001b[0my\u001b[0m\u001b[0;34m)\u001b[0m\u001b[0;34m\u001b[0m\u001b[0;34m\u001b[0m\u001b[0m\n\u001b[0m\u001b[1;32m    113\u001b[0m \u001b[0;34m\u001b[0m\u001b[0m\n\u001b[1;32m    114\u001b[0m     \u001b[0mresult\u001b[0m\u001b[0;34m,\u001b[0m \u001b[0m_\u001b[0m \u001b[0;34m=\u001b[0m \u001b[0mmaybe_upcast_putmask\u001b[0m\u001b[0;34m(\u001b[0m\u001b[0mresult\u001b[0m\u001b[0;34m,\u001b[0m \u001b[0;34m~\u001b[0m\u001b[0mmask\u001b[0m\u001b[0;34m,\u001b[0m \u001b[0mnp\u001b[0m\u001b[0;34m.\u001b[0m\u001b[0mnan\u001b[0m\u001b[0;34m)\u001b[0m\u001b[0;34m\u001b[0m\u001b[0;34m\u001b[0m\u001b[0m\n",
            "\u001b[0;31mTypeError\u001b[0m: can only concatenate str (not \"float\") to str"
          ]
        }
      ]
    },
    {
      "cell_type": "code",
      "metadata": {
        "id": "wykb0s2G9YO-"
      },
      "source": [
        "cleaned_df2 = df2.copy()\r\n",
        "eps = 0.001 # 0 => 0.1¢\r\n",
        "cleaned_df2['Log_Reco_Policy_Premium'] = np.log(cleaned_df2.pop('Reco_Policy_Premium')+eps)\r\n",
        "cleaned_df2['Log_City_Code'] = np.log(cleaned_df2.pop('City_Code')+eps)\r\n",
        "cleaned_df2['Log_Health Indicator'] = np.log(cleaned_df2.pop('Health Indicator')+eps)\r\n",
        "cleaned_df2['Log_Holding_Policy_Type'] = np.log(cleaned_df2.pop('Holding_Policy_Type')+eps)\r\n",
        "cleaned_df2['Log_Reco_Policy_Cat'] = np.log(cleaned_df2.pop('Reco_Policy_Cat')+eps)\r\n"
      ],
      "execution_count": 138,
      "outputs": []
    },
    {
      "cell_type": "code",
      "metadata": {
        "colab": {
          "base_uri": "https://localhost:8080/",
          "height": 243
        },
        "id": "tSgqWOX59lRf",
        "outputId": "310f3951-824d-4175-a5a5-219b4e2d0acd"
      },
      "source": [
        "cleaned_df2.head()"
      ],
      "execution_count": 139,
      "outputs": [
        {
          "output_type": "execute_result",
          "data": {
            "text/html": [
              "<div>\n",
              "<style scoped>\n",
              "    .dataframe tbody tr th:only-of-type {\n",
              "        vertical-align: middle;\n",
              "    }\n",
              "\n",
              "    .dataframe tbody tr th {\n",
              "        vertical-align: top;\n",
              "    }\n",
              "\n",
              "    .dataframe thead th {\n",
              "        text-align: right;\n",
              "    }\n",
              "</style>\n",
              "<table border=\"1\" class=\"dataframe\">\n",
              "  <thead>\n",
              "    <tr style=\"text-align: right;\">\n",
              "      <th></th>\n",
              "      <th>Region_Code</th>\n",
              "      <th>Accomodation_Type</th>\n",
              "      <th>Reco_Insurance_Type</th>\n",
              "      <th>Upper_Age</th>\n",
              "      <th>Lower_Age</th>\n",
              "      <th>Is_Spouse</th>\n",
              "      <th>Holding_Policy_Duration</th>\n",
              "      <th>Log_Reco_Policy_Premium</th>\n",
              "      <th>Log_City_Code</th>\n",
              "      <th>Log_Health Indicator</th>\n",
              "      <th>Log_Holding_Policy_Type</th>\n",
              "      <th>Log_Reco_Policy_Cat</th>\n",
              "    </tr>\n",
              "  </thead>\n",
              "  <tbody>\n",
              "    <tr>\n",
              "      <th>0</th>\n",
              "      <td>156</td>\n",
              "      <td>Owned</td>\n",
              "      <td>Individual</td>\n",
              "      <td>30</td>\n",
              "      <td>30</td>\n",
              "      <td>No</td>\n",
              "      <td>6.0</td>\n",
              "      <td>9.387147</td>\n",
              "      <td>-6.907755</td>\n",
              "      <td>-6.907755</td>\n",
              "      <td>1.098946</td>\n",
              "      <td>1.609638</td>\n",
              "    </tr>\n",
              "    <tr>\n",
              "      <th>1</th>\n",
              "      <td>7</td>\n",
              "      <td>Owned</td>\n",
              "      <td>Joint</td>\n",
              "      <td>69</td>\n",
              "      <td>68</td>\n",
              "      <td>Yes</td>\n",
              "      <td>3.0</td>\n",
              "      <td>10.379871</td>\n",
              "      <td>1.098946</td>\n",
              "      <td>0.001000</td>\n",
              "      <td>1.098946</td>\n",
              "      <td>2.890427</td>\n",
              "    </tr>\n",
              "    <tr>\n",
              "      <th>2</th>\n",
              "      <td>564</td>\n",
              "      <td>Rented</td>\n",
              "      <td>Individual</td>\n",
              "      <td>28</td>\n",
              "      <td>28</td>\n",
              "      <td>No</td>\n",
              "      <td>2.0</td>\n",
              "      <td>9.131297</td>\n",
              "      <td>-6.907755</td>\n",
              "      <td>1.386544</td>\n",
              "      <td>1.386544</td>\n",
              "      <td>2.833272</td>\n",
              "    </tr>\n",
              "    <tr>\n",
              "      <th>3</th>\n",
              "      <td>1177</td>\n",
              "      <td>Rented</td>\n",
              "      <td>Individual</td>\n",
              "      <td>23</td>\n",
              "      <td>23</td>\n",
              "      <td>No</td>\n",
              "      <td>3.0</td>\n",
              "      <td>9.114490</td>\n",
              "      <td>0.693647</td>\n",
              "      <td>1.386544</td>\n",
              "      <td>1.098946</td>\n",
              "      <td>2.890427</td>\n",
              "    </tr>\n",
              "    <tr>\n",
              "      <th>4</th>\n",
              "      <td>951</td>\n",
              "      <td>Owned</td>\n",
              "      <td>Individual</td>\n",
              "      <td>75</td>\n",
              "      <td>75</td>\n",
              "      <td>No</td>\n",
              "      <td>5.0</td>\n",
              "      <td>10.022781</td>\n",
              "      <td>-6.907755</td>\n",
              "      <td>1.386544</td>\n",
              "      <td>1.098946</td>\n",
              "      <td>1.609638</td>\n",
              "    </tr>\n",
              "  </tbody>\n",
              "</table>\n",
              "</div>"
            ],
            "text/plain": [
              "   Region_Code Accomodation_Type  ... Log_Holding_Policy_Type  Log_Reco_Policy_Cat\n",
              "0          156             Owned  ...                1.098946             1.609638\n",
              "1            7             Owned  ...                1.098946             2.890427\n",
              "2          564            Rented  ...                1.386544             2.833272\n",
              "3         1177            Rented  ...                1.098946             2.890427\n",
              "4          951             Owned  ...                1.098946             1.609638\n",
              "\n",
              "[5 rows x 12 columns]"
            ]
          },
          "metadata": {
            "tags": []
          },
          "execution_count": 139
        }
      ]
    },
    {
      "cell_type": "code",
      "metadata": {
        "colab": {
          "base_uri": "https://localhost:8080/",
          "height": 243
        },
        "id": "cr8afEzWnogV",
        "outputId": "2ecce304-ad58-4ba0-a77c-62030b217e7f"
      },
      "source": [
        "cleaned_df.head()"
      ],
      "execution_count": 137,
      "outputs": [
        {
          "output_type": "execute_result",
          "data": {
            "text/html": [
              "<div>\n",
              "<style scoped>\n",
              "    .dataframe tbody tr th:only-of-type {\n",
              "        vertical-align: middle;\n",
              "    }\n",
              "\n",
              "    .dataframe tbody tr th {\n",
              "        vertical-align: top;\n",
              "    }\n",
              "\n",
              "    .dataframe thead th {\n",
              "        text-align: right;\n",
              "    }\n",
              "</style>\n",
              "<table border=\"1\" class=\"dataframe\">\n",
              "  <thead>\n",
              "    <tr style=\"text-align: right;\">\n",
              "      <th></th>\n",
              "      <th>Region_Code</th>\n",
              "      <th>Accomodation_Type</th>\n",
              "      <th>Reco_Insurance_Type</th>\n",
              "      <th>Upper_Age</th>\n",
              "      <th>Lower_Age</th>\n",
              "      <th>Is_Spouse</th>\n",
              "      <th>Holding_Policy_Duration</th>\n",
              "      <th>Log_Reco_Policy_Premium</th>\n",
              "      <th>Log_City_Code</th>\n",
              "      <th>Log_Health Indicator</th>\n",
              "      <th>Log_Holding_Policy_Type</th>\n",
              "      <th>Log_Reco_Policy_Cat</th>\n",
              "    </tr>\n",
              "  </thead>\n",
              "  <tbody>\n",
              "    <tr>\n",
              "      <th>0</th>\n",
              "      <td>3213</td>\n",
              "      <td>Rented</td>\n",
              "      <td>Individual</td>\n",
              "      <td>36</td>\n",
              "      <td>36</td>\n",
              "      <td>No</td>\n",
              "      <td>16.0</td>\n",
              "      <td>9.361171</td>\n",
              "      <td>0.693647</td>\n",
              "      <td>0.001000</td>\n",
              "      <td>1.098946</td>\n",
              "      <td>3.091088</td>\n",
              "    </tr>\n",
              "    <tr>\n",
              "      <th>1</th>\n",
              "      <td>1117</td>\n",
              "      <td>Owned</td>\n",
              "      <td>Joint</td>\n",
              "      <td>75</td>\n",
              "      <td>22</td>\n",
              "      <td>No</td>\n",
              "      <td>5.0</td>\n",
              "      <td>10.325810</td>\n",
              "      <td>1.386544</td>\n",
              "      <td>0.693647</td>\n",
              "      <td>1.098946</td>\n",
              "      <td>3.091088</td>\n",
              "    </tr>\n",
              "    <tr>\n",
              "      <th>2</th>\n",
              "      <td>3732</td>\n",
              "      <td>Owned</td>\n",
              "      <td>Individual</td>\n",
              "      <td>32</td>\n",
              "      <td>32</td>\n",
              "      <td>No</td>\n",
              "      <td>1.0</td>\n",
              "      <td>8.915969</td>\n",
              "      <td>1.386544</td>\n",
              "      <td>-6.907755</td>\n",
              "      <td>0.001000</td>\n",
              "      <td>2.944492</td>\n",
              "    </tr>\n",
              "    <tr>\n",
              "      <th>3</th>\n",
              "      <td>4378</td>\n",
              "      <td>Owned</td>\n",
              "      <td>Joint</td>\n",
              "      <td>52</td>\n",
              "      <td>48</td>\n",
              "      <td>No</td>\n",
              "      <td>16.0</td>\n",
              "      <td>9.785830</td>\n",
              "      <td>3.135538</td>\n",
              "      <td>0.001000</td>\n",
              "      <td>1.098946</td>\n",
              "      <td>2.944492</td>\n",
              "    </tr>\n",
              "    <tr>\n",
              "      <th>4</th>\n",
              "      <td>2190</td>\n",
              "      <td>Rented</td>\n",
              "      <td>Individual</td>\n",
              "      <td>44</td>\n",
              "      <td>44</td>\n",
              "      <td>No</td>\n",
              "      <td>3.0</td>\n",
              "      <td>9.249946</td>\n",
              "      <td>1.946053</td>\n",
              "      <td>0.693647</td>\n",
              "      <td>0.001000</td>\n",
              "      <td>2.772651</td>\n",
              "    </tr>\n",
              "  </tbody>\n",
              "</table>\n",
              "</div>"
            ],
            "text/plain": [
              "   Region_Code Accomodation_Type  ... Log_Holding_Policy_Type  Log_Reco_Policy_Cat\n",
              "0         3213            Rented  ...                1.098946             3.091088\n",
              "1         1117             Owned  ...                1.098946             3.091088\n",
              "2         3732             Owned  ...                0.001000             2.944492\n",
              "3         4378             Owned  ...                1.098946             2.944492\n",
              "4         2190            Rented  ...                0.001000             2.772651\n",
              "\n",
              "[5 rows x 12 columns]"
            ]
          },
          "metadata": {
            "tags": []
          },
          "execution_count": 137
        }
      ]
    },
    {
      "cell_type": "code",
      "metadata": {
        "id": "51YryQYAotOi"
      },
      "source": [
        "y=df1[\"Response\"]\r\n",
        "df1=df1.drop([\"ID\",\"Response\"],axis=1)\r\n",
        "df_f = df2[\"ID\"]\r\n",
        "df2=df2.drop([\"ID\"],axis=1)\r\n"
      ],
      "execution_count": 58,
      "outputs": []
    },
    {
      "cell_type": "code",
      "metadata": {
        "id": "-CcXhx3_9xXk"
      },
      "source": [
        "#dealing with categorical variables\r\n",
        "from sklearn.compose import ColumnTransformer\r\n",
        "from sklearn.preprocessing import OneHotEncoder\r\n",
        "ct = ColumnTransformer(transformers=[('encoder', OneHotEncoder(), [1,2,5])], remainder='passthrough')\r\n",
        "X = np.array(ct.fit_transform(cleaned_df))\r\n",
        "X_11=X\r\n",
        "X_t = np.array(ct.transform(cleaned_df2))"
      ],
      "execution_count": 274,
      "outputs": []
    },
    {
      "cell_type": "code",
      "metadata": {
        "colab": {
          "base_uri": "https://localhost:8080/",
          "height": 206
        },
        "id": "I9Zdh-ET-T-J",
        "outputId": "ee7ccbc2-a097-4e61-aca6-b91b8d1e94c0"
      },
      "source": [
        "x_test =pd.DataFrame(X_t)\r\n",
        "\r\n",
        "x_test.head()"
      ],
      "execution_count": 284,
      "outputs": [
        {
          "output_type": "execute_result",
          "data": {
            "text/html": [
              "<div>\n",
              "<style scoped>\n",
              "    .dataframe tbody tr th:only-of-type {\n",
              "        vertical-align: middle;\n",
              "    }\n",
              "\n",
              "    .dataframe tbody tr th {\n",
              "        vertical-align: top;\n",
              "    }\n",
              "\n",
              "    .dataframe thead th {\n",
              "        text-align: right;\n",
              "    }\n",
              "</style>\n",
              "<table border=\"1\" class=\"dataframe\">\n",
              "  <thead>\n",
              "    <tr style=\"text-align: right;\">\n",
              "      <th></th>\n",
              "      <th>0</th>\n",
              "      <th>1</th>\n",
              "      <th>2</th>\n",
              "      <th>3</th>\n",
              "      <th>4</th>\n",
              "      <th>5</th>\n",
              "      <th>6</th>\n",
              "      <th>7</th>\n",
              "      <th>8</th>\n",
              "      <th>9</th>\n",
              "      <th>10</th>\n",
              "      <th>11</th>\n",
              "      <th>12</th>\n",
              "      <th>13</th>\n",
              "      <th>14</th>\n",
              "    </tr>\n",
              "  </thead>\n",
              "  <tbody>\n",
              "    <tr>\n",
              "      <th>0</th>\n",
              "      <td>1.0</td>\n",
              "      <td>0.0</td>\n",
              "      <td>1.0</td>\n",
              "      <td>0.0</td>\n",
              "      <td>1.0</td>\n",
              "      <td>0.0</td>\n",
              "      <td>156.0</td>\n",
              "      <td>30.0</td>\n",
              "      <td>30.0</td>\n",
              "      <td>6.0</td>\n",
              "      <td>9.387147</td>\n",
              "      <td>-6.907755</td>\n",
              "      <td>-6.907755</td>\n",
              "      <td>1.098946</td>\n",
              "      <td>1.609638</td>\n",
              "    </tr>\n",
              "    <tr>\n",
              "      <th>1</th>\n",
              "      <td>1.0</td>\n",
              "      <td>0.0</td>\n",
              "      <td>0.0</td>\n",
              "      <td>1.0</td>\n",
              "      <td>0.0</td>\n",
              "      <td>1.0</td>\n",
              "      <td>7.0</td>\n",
              "      <td>69.0</td>\n",
              "      <td>68.0</td>\n",
              "      <td>3.0</td>\n",
              "      <td>10.379871</td>\n",
              "      <td>1.098946</td>\n",
              "      <td>0.001000</td>\n",
              "      <td>1.098946</td>\n",
              "      <td>2.890427</td>\n",
              "    </tr>\n",
              "    <tr>\n",
              "      <th>2</th>\n",
              "      <td>0.0</td>\n",
              "      <td>1.0</td>\n",
              "      <td>1.0</td>\n",
              "      <td>0.0</td>\n",
              "      <td>1.0</td>\n",
              "      <td>0.0</td>\n",
              "      <td>564.0</td>\n",
              "      <td>28.0</td>\n",
              "      <td>28.0</td>\n",
              "      <td>2.0</td>\n",
              "      <td>9.131297</td>\n",
              "      <td>-6.907755</td>\n",
              "      <td>1.386544</td>\n",
              "      <td>1.386544</td>\n",
              "      <td>2.833272</td>\n",
              "    </tr>\n",
              "    <tr>\n",
              "      <th>3</th>\n",
              "      <td>0.0</td>\n",
              "      <td>1.0</td>\n",
              "      <td>1.0</td>\n",
              "      <td>0.0</td>\n",
              "      <td>1.0</td>\n",
              "      <td>0.0</td>\n",
              "      <td>1177.0</td>\n",
              "      <td>23.0</td>\n",
              "      <td>23.0</td>\n",
              "      <td>3.0</td>\n",
              "      <td>9.114490</td>\n",
              "      <td>0.693647</td>\n",
              "      <td>1.386544</td>\n",
              "      <td>1.098946</td>\n",
              "      <td>2.890427</td>\n",
              "    </tr>\n",
              "    <tr>\n",
              "      <th>4</th>\n",
              "      <td>1.0</td>\n",
              "      <td>0.0</td>\n",
              "      <td>1.0</td>\n",
              "      <td>0.0</td>\n",
              "      <td>1.0</td>\n",
              "      <td>0.0</td>\n",
              "      <td>951.0</td>\n",
              "      <td>75.0</td>\n",
              "      <td>75.0</td>\n",
              "      <td>5.0</td>\n",
              "      <td>10.022781</td>\n",
              "      <td>-6.907755</td>\n",
              "      <td>1.386544</td>\n",
              "      <td>1.098946</td>\n",
              "      <td>1.609638</td>\n",
              "    </tr>\n",
              "  </tbody>\n",
              "</table>\n",
              "</div>"
            ],
            "text/plain": [
              "    0    1    2    3    4   ...         10        11        12        13        14\n",
              "0  1.0  0.0  1.0  0.0  1.0  ...   9.387147 -6.907755 -6.907755  1.098946  1.609638\n",
              "1  1.0  0.0  0.0  1.0  0.0  ...  10.379871  1.098946  0.001000  1.098946  2.890427\n",
              "2  0.0  1.0  1.0  0.0  1.0  ...   9.131297 -6.907755  1.386544  1.386544  2.833272\n",
              "3  0.0  1.0  1.0  0.0  1.0  ...   9.114490  0.693647  1.386544  1.098946  2.890427\n",
              "4  1.0  0.0  1.0  0.0  1.0  ...  10.022781 -6.907755  1.386544  1.098946  1.609638\n",
              "\n",
              "[5 rows x 15 columns]"
            ]
          },
          "metadata": {
            "tags": []
          },
          "execution_count": 284
        }
      ]
    },
    {
      "cell_type": "code",
      "metadata": {
        "id": "WeXEXbhCo0GI"
      },
      "source": [
        "x_test = x_test.drop(columns=[1,3,5])"
      ],
      "execution_count": 285,
      "outputs": []
    },
    {
      "cell_type": "code",
      "metadata": {
        "colab": {
          "base_uri": "https://localhost:8080/",
          "height": 206
        },
        "id": "AFU-22Y7-A9X",
        "outputId": "a2e1551c-8f7e-47e4-d242-7476b428457e"
      },
      "source": [
        "x_train = pd.DataFrame(X)\r\n",
        "x_train = x_train.drop(columns=[1,3,5])\r\n",
        "x_train.head()"
      ],
      "execution_count": 286,
      "outputs": [
        {
          "output_type": "execute_result",
          "data": {
            "text/html": [
              "<div>\n",
              "<style scoped>\n",
              "    .dataframe tbody tr th:only-of-type {\n",
              "        vertical-align: middle;\n",
              "    }\n",
              "\n",
              "    .dataframe tbody tr th {\n",
              "        vertical-align: top;\n",
              "    }\n",
              "\n",
              "    .dataframe thead th {\n",
              "        text-align: right;\n",
              "    }\n",
              "</style>\n",
              "<table border=\"1\" class=\"dataframe\">\n",
              "  <thead>\n",
              "    <tr style=\"text-align: right;\">\n",
              "      <th></th>\n",
              "      <th>0</th>\n",
              "      <th>2</th>\n",
              "      <th>4</th>\n",
              "      <th>6</th>\n",
              "      <th>7</th>\n",
              "      <th>8</th>\n",
              "      <th>9</th>\n",
              "      <th>10</th>\n",
              "      <th>11</th>\n",
              "      <th>12</th>\n",
              "      <th>13</th>\n",
              "      <th>14</th>\n",
              "    </tr>\n",
              "  </thead>\n",
              "  <tbody>\n",
              "    <tr>\n",
              "      <th>0</th>\n",
              "      <td>0.0</td>\n",
              "      <td>1.0</td>\n",
              "      <td>1.0</td>\n",
              "      <td>3213.0</td>\n",
              "      <td>36.0</td>\n",
              "      <td>36.0</td>\n",
              "      <td>16.0</td>\n",
              "      <td>9.361171</td>\n",
              "      <td>0.693647</td>\n",
              "      <td>0.001000</td>\n",
              "      <td>1.098946</td>\n",
              "      <td>3.091088</td>\n",
              "    </tr>\n",
              "    <tr>\n",
              "      <th>1</th>\n",
              "      <td>1.0</td>\n",
              "      <td>0.0</td>\n",
              "      <td>1.0</td>\n",
              "      <td>1117.0</td>\n",
              "      <td>75.0</td>\n",
              "      <td>22.0</td>\n",
              "      <td>5.0</td>\n",
              "      <td>10.325810</td>\n",
              "      <td>1.386544</td>\n",
              "      <td>0.693647</td>\n",
              "      <td>1.098946</td>\n",
              "      <td>3.091088</td>\n",
              "    </tr>\n",
              "    <tr>\n",
              "      <th>2</th>\n",
              "      <td>1.0</td>\n",
              "      <td>1.0</td>\n",
              "      <td>1.0</td>\n",
              "      <td>3732.0</td>\n",
              "      <td>32.0</td>\n",
              "      <td>32.0</td>\n",
              "      <td>1.0</td>\n",
              "      <td>8.915969</td>\n",
              "      <td>1.386544</td>\n",
              "      <td>-6.907755</td>\n",
              "      <td>0.001000</td>\n",
              "      <td>2.944492</td>\n",
              "    </tr>\n",
              "    <tr>\n",
              "      <th>3</th>\n",
              "      <td>1.0</td>\n",
              "      <td>0.0</td>\n",
              "      <td>1.0</td>\n",
              "      <td>4378.0</td>\n",
              "      <td>52.0</td>\n",
              "      <td>48.0</td>\n",
              "      <td>16.0</td>\n",
              "      <td>9.785830</td>\n",
              "      <td>3.135538</td>\n",
              "      <td>0.001000</td>\n",
              "      <td>1.098946</td>\n",
              "      <td>2.944492</td>\n",
              "    </tr>\n",
              "    <tr>\n",
              "      <th>4</th>\n",
              "      <td>0.0</td>\n",
              "      <td>1.0</td>\n",
              "      <td>1.0</td>\n",
              "      <td>2190.0</td>\n",
              "      <td>44.0</td>\n",
              "      <td>44.0</td>\n",
              "      <td>3.0</td>\n",
              "      <td>9.249946</td>\n",
              "      <td>1.946053</td>\n",
              "      <td>0.693647</td>\n",
              "      <td>0.001000</td>\n",
              "      <td>2.772651</td>\n",
              "    </tr>\n",
              "  </tbody>\n",
              "</table>\n",
              "</div>"
            ],
            "text/plain": [
              "    0    2    4       6   ...        11        12        13        14\n",
              "0  0.0  1.0  1.0  3213.0  ...  0.693647  0.001000  1.098946  3.091088\n",
              "1  1.0  0.0  1.0  1117.0  ...  1.386544  0.693647  1.098946  3.091088\n",
              "2  1.0  1.0  1.0  3732.0  ...  1.386544 -6.907755  0.001000  2.944492\n",
              "3  1.0  0.0  1.0  4378.0  ...  3.135538  0.001000  1.098946  2.944492\n",
              "4  0.0  1.0  1.0  2190.0  ...  1.946053  0.693647  0.001000  2.772651\n",
              "\n",
              "[5 rows x 12 columns]"
            ]
          },
          "metadata": {
            "tags": []
          },
          "execution_count": 286
        }
      ]
    },
    {
      "cell_type": "code",
      "metadata": {
        "id": "S4CamehKlzOn"
      },
      "source": [
        "train_df, test_df, train_labels, test_labels = train_test_split(x_train,y, test_size=0.1)\r\n",
        "train_df, val_df, train_labels, val_labels = train_test_split(train_df,train_labels,test_size=0.1)\r\n",
        "\r\n",
        "# Form np arrays of labels and features.\r\n",
        "\r\n",
        "bool_train_labels = train_labels != 0\r\n",
        "\r\n",
        "train_features = np.array(train_df)\r\n",
        "val_features = np.array(val_df)\r\n",
        "test_features = np.array(test_df)"
      ],
      "execution_count": 287,
      "outputs": []
    },
    {
      "cell_type": "code",
      "metadata": {
        "colab": {
          "base_uri": "https://localhost:8080/",
          "height": 112
        },
        "id": "BfJsC8Jlp6pB",
        "outputId": "393d5f5b-db44-43ad-f50a-9662658ee54d"
      },
      "source": [
        "train_df[1:3]"
      ],
      "execution_count": 289,
      "outputs": [
        {
          "output_type": "execute_result",
          "data": {
            "text/html": [
              "<div>\n",
              "<style scoped>\n",
              "    .dataframe tbody tr th:only-of-type {\n",
              "        vertical-align: middle;\n",
              "    }\n",
              "\n",
              "    .dataframe tbody tr th {\n",
              "        vertical-align: top;\n",
              "    }\n",
              "\n",
              "    .dataframe thead th {\n",
              "        text-align: right;\n",
              "    }\n",
              "</style>\n",
              "<table border=\"1\" class=\"dataframe\">\n",
              "  <thead>\n",
              "    <tr style=\"text-align: right;\">\n",
              "      <th></th>\n",
              "      <th>0</th>\n",
              "      <th>2</th>\n",
              "      <th>4</th>\n",
              "      <th>6</th>\n",
              "      <th>7</th>\n",
              "      <th>8</th>\n",
              "      <th>9</th>\n",
              "      <th>10</th>\n",
              "      <th>11</th>\n",
              "      <th>12</th>\n",
              "      <th>13</th>\n",
              "      <th>14</th>\n",
              "    </tr>\n",
              "  </thead>\n",
              "  <tbody>\n",
              "    <tr>\n",
              "      <th>7214</th>\n",
              "      <td>0.0</td>\n",
              "      <td>1.0</td>\n",
              "      <td>1.0</td>\n",
              "      <td>763.0</td>\n",
              "      <td>19.0</td>\n",
              "      <td>19.0</td>\n",
              "      <td>5.0</td>\n",
              "      <td>8.213382</td>\n",
              "      <td>3.091088</td>\n",
              "      <td>1.386544</td>\n",
              "      <td>1.098946</td>\n",
              "      <td>2.565026</td>\n",
              "    </tr>\n",
              "    <tr>\n",
              "      <th>40435</th>\n",
              "      <td>0.0</td>\n",
              "      <td>1.0</td>\n",
              "      <td>1.0</td>\n",
              "      <td>653.0</td>\n",
              "      <td>27.0</td>\n",
              "      <td>27.0</td>\n",
              "      <td>1.0</td>\n",
              "      <td>8.802372</td>\n",
              "      <td>2.833272</td>\n",
              "      <td>-6.907755</td>\n",
              "      <td>0.001000</td>\n",
              "      <td>3.044570</td>\n",
              "    </tr>\n",
              "  </tbody>\n",
              "</table>\n",
              "</div>"
            ],
            "text/plain": [
              "        0    2    4      6   ...        11        12        13        14\n",
              "7214   0.0  1.0  1.0  763.0  ...  3.091088  1.386544  1.098946  2.565026\n",
              "40435  0.0  1.0  1.0  653.0  ...  2.833272 -6.907755  0.001000  3.044570\n",
              "\n",
              "[2 rows x 12 columns]"
            ]
          },
          "metadata": {
            "tags": []
          },
          "execution_count": 289
        }
      ]
    },
    {
      "cell_type": "code",
      "metadata": {
        "colab": {
          "base_uri": "https://localhost:8080/"
        },
        "id": "BYCnmFlXlzMP",
        "outputId": "120783fb-68bb-46a4-8693-4806761b2080"
      },
      "source": [
        "train_df.shape"
      ],
      "execution_count": 288,
      "outputs": [
        {
          "output_type": "execute_result",
          "data": {
            "text/plain": [
              "(41213, 12)"
            ]
          },
          "metadata": {
            "tags": []
          },
          "execution_count": 288
        }
      ]
    },
    {
      "cell_type": "code",
      "metadata": {
        "colab": {
          "base_uri": "https://localhost:8080/"
        },
        "id": "7SIlaVJElzJ5",
        "outputId": "4080b218-5e7e-486b-8a13-80cb341159a6"
      },
      "source": [
        "scaler = StandardScaler()\r\n",
        "train_features = scaler.fit_transform(train_features)\r\n",
        "\r\n",
        "val_features = scaler.transform(val_features)\r\n",
        "test_features = scaler.transform(test_features)\r\n",
        "\r\n",
        "train_features = np.clip(train_features, -5, 5)\r\n",
        "val_features = np.clip(val_features, -5, 5)\r\n",
        "test_features = np.clip(test_features, -5, 5)\r\n",
        "\r\n",
        "\r\n",
        "print('Training labels shape:', train_labels.shape)\r\n",
        "print('Validation labels shape:', val_labels.shape)\r\n",
        "print('Test labels shape:', test_labels.shape)\r\n",
        "\r\n",
        "print('Training features shape:', train_features.shape)\r\n",
        "print('Validation features shape:', val_features.shape)\r\n",
        "print('Test features shape:', test_features.shape)"
      ],
      "execution_count": 290,
      "outputs": [
        {
          "output_type": "stream",
          "text": [
            "Training labels shape: (41213,)\n",
            "Validation labels shape: (4580,)\n",
            "Test labels shape: (5089,)\n",
            "Training features shape: (41213, 12)\n",
            "Validation features shape: (4580, 12)\n",
            "Test features shape: (5089, 12)\n"
          ],
          "name": "stdout"
        }
      ]
    },
    {
      "cell_type": "code",
      "metadata": {
        "colab": {
          "base_uri": "https://localhost:8080/"
        },
        "id": "n1J3vxMHsfbs",
        "outputId": "58db7168-373e-4896-e9fd-b24ffebff6ca"
      },
      "source": [
        "train_features"
      ],
      "execution_count": 336,
      "outputs": [
        {
          "output_type": "execute_result",
          "data": {
            "text/plain": [
              "array([[-1.1000763 , -1.9764386 , -2.24861783, ..., -1.80623138,\n",
              "         0.4566539 ,  0.66798162],\n",
              "       [-1.1000763 ,  0.50596057,  0.44471763, ...,  0.74013649,\n",
              "         0.4566539 ,  0.0484247 ],\n",
              "       [-1.1000763 ,  0.50596057,  0.44471763, ..., -1.80623138,\n",
              "        -2.13227409,  0.66798162],\n",
              "       ...,\n",
              "       [ 0.90902786,  0.50596057,  0.44471763, ...,  0.31477124,\n",
              "         0.4566539 ,  0.60494919],\n",
              "       [ 0.90902786,  0.50596057,  0.44471763, ...,  0.31477124,\n",
              "         0.4566539 ,  0.72808136],\n",
              "       [-1.1000763 ,  0.50596057,  0.44471763, ..., -1.80623138,\n",
              "         0.4566539 ,  0.46883358]])"
            ]
          },
          "metadata": {
            "tags": []
          },
          "execution_count": 336
        }
      ]
    },
    {
      "cell_type": "code",
      "metadata": {
        "colab": {
          "base_uri": "https://localhost:8080/",
          "height": 962
        },
        "id": "G70N9uUxlzHy",
        "outputId": "63ef7275-f981-4602-ed8f-3241249347a0"
      },
      "source": [
        "pos_df = pd.DataFrame(train_features[ bool_train_labels], columns=train_df.columns)\r\n",
        "neg_df = pd.DataFrame(train_features[~bool_train_labels], columns=train_df.columns)\r\n",
        "\r\n",
        "sns.jointplot(pos_df[7], pos_df[9],\r\n",
        "              kind='hex', xlim=(-5,5), ylim=(-5,5))\r\n",
        "plt.suptitle(\"Positive distribution\")\r\n",
        "\r\n",
        "sns.jointplot(neg_df[7], neg_df[9],\r\n",
        "              kind='hex', xlim=(-5,5), ylim=(-5,5))\r\n",
        "_ = plt.suptitle(\"Negative distribution\")"
      ],
      "execution_count": 291,
      "outputs": [
        {
          "output_type": "stream",
          "text": [
            "/usr/local/lib/python3.7/dist-packages/seaborn/_decorators.py:43: FutureWarning: Pass the following variables as keyword args: x, y. From version 0.12, the only valid positional argument will be `data`, and passing other arguments without an explicit keyword will result in an error or misinterpretation.\n",
            "  FutureWarning\n",
            "/usr/local/lib/python3.7/dist-packages/seaborn/_decorators.py:43: FutureWarning: Pass the following variables as keyword args: x, y. From version 0.12, the only valid positional argument will be `data`, and passing other arguments without an explicit keyword will result in an error or misinterpretation.\n",
            "  FutureWarning\n"
          ],
          "name": "stderr"
        },
        {
          "output_type": "display_data",
          "data": {
            "image/png": "[encoded data removed]",
            "text/plain": [
              "<Figure size 432x432 with 3 Axes>"
            ]
          },
          "metadata": {
            "tags": [],
            "needs_background": "light"
          }
        },
        {
          "output_type": "display_data",
          "data": {
            "image/png": "[encoded data removed]",
            "text/plain": [
              "<Figure size 432x432 with 3 Axes>"
            ]
          },
          "metadata": {
            "tags": [],
            "needs_background": "light"
          }
        }
      ]
    },
    {
      "cell_type": "code",
      "metadata": {
        "id": "066M5FQrlzFn"
      },
      "source": [
        "METRICS = [\r\n",
        "      keras.metrics.TruePositives(name='tp'),\r\n",
        "      keras.metrics.FalsePositives(name='fp'),\r\n",
        "      keras.metrics.TrueNegatives(name='tn'),\r\n",
        "      keras.metrics.FalseNegatives(name='fn'), \r\n",
        "      keras.metrics.BinaryAccuracy(name='accuracy'),\r\n",
        "      keras.metrics.Precision(name='precision'),\r\n",
        "      keras.metrics.Recall(name='recall'),\r\n",
        "      keras.metrics.AUC(name='auc'),\r\n",
        "]\r\n",
        "\r\n",
        "def make_model(metrics=METRICS, output_bias=None):\r\n",
        "  if output_bias is not None:\r\n",
        "    output_bias = tf.keras.initializers.Constant(output_bias)\r\n",
        "  model = keras.Sequential([\r\n",
        "      keras.layers.Dense(\r\n",
        "          16, activation='relu',\r\n",
        "          input_shape=(train_features.shape[-1],)),\r\n",
        "      keras.layers.Dropout(0.3),\r\n",
        "      keras.layers.Dense(12,activation  =\"relu\"),\r\n",
        "      keras.layers.Dropout(0.3),\r\n",
        "      keras.layers.Dense(12,activation  =\"relu\"),\r\n",
        "      keras.layers.Dropout(0.3),\r\n",
        "      keras.layers.Dense(12,activation  =\"relu\"),\r\n",
        "      keras.layers.Dropout(0.3),\r\n",
        "      keras.layers.Dense(8,activation  =\"relu\"),\r\n",
        "      keras.layers.Dropout(0.5),\r\n",
        "      keras.layers.Dense(4,activation  =\"relu\"),\r\n",
        "      keras.layers.Dropout(0.5),\r\n",
        "      keras.layers.Dense(1, activation='sigmoid',\r\n",
        "                         bias_initializer=output_bias),\r\n",
        "  ])\r\n",
        "\r\n",
        "  model.compile(\r\n",
        "      optimizer=keras.optimizers.Adam(lr=1e-3),\r\n",
        "      loss=keras.losses.BinaryCrossentropy(),\r\n",
        "      metrics=metrics)\r\n",
        "\r\n",
        "  return model"
      ],
      "execution_count": 332,
      "outputs": []
    },
    {
      "cell_type": "code",
      "metadata": {
        "id": "uGtI6rnLlzDd"
      },
      "source": [
        "EPOCHS = 100\r\n",
        "BATCH_SIZE = 128\r\n",
        "\r\n",
        "early_stopping = tf.keras.callbacks.EarlyStopping(\r\n",
        "    monitor='val_auc', \r\n",
        "    verbose=1,\r\n",
        "    patience=25,\r\n",
        "    mode='max',\r\n",
        "    restore_best_weights=True)"
      ],
      "execution_count": 333,
      "outputs": []
    },
    {
      "cell_type": "code",
      "metadata": {
        "colab": {
          "base_uri": "https://localhost:8080/"
        },
        "id": "2HegZBSrlzAw",
        "outputId": "7cbe1a6e-2462-40bb-8e3b-d970d439e9fd"
      },
      "source": [
        "model = make_model()\r\n",
        "model.summary()"
      ],
      "execution_count": 334,
      "outputs": [
        {
          "output_type": "stream",
          "text": [
            "Model: \"sequential_27\"\n",
            "_________________________________________________________________\n",
            "Layer (type)                 Output Shape              Param #   \n",
            "=================================================================\n",
            "dense_137 (Dense)            (None, 16)                208       \n",
            "_________________________________________________________________\n",
            "dropout_97 (Dropout)         (None, 16)                0         \n",
            "_________________________________________________________________\n",
            "dense_138 (Dense)            (None, 12)                204       \n",
            "_________________________________________________________________\n",
            "dropout_98 (Dropout)         (None, 12)                0         \n",
            "_________________________________________________________________\n",
            "dense_139 (Dense)            (None, 12)                156       \n",
            "_________________________________________________________________\n",
            "dropout_99 (Dropout)         (None, 12)                0         \n",
            "_________________________________________________________________\n",
            "dense_140 (Dense)            (None, 12)                156       \n",
            "_________________________________________________________________\n",
            "dropout_100 (Dropout)        (None, 12)                0         \n",
            "_________________________________________________________________\n",
            "dense_141 (Dense)            (None, 8)                 104       \n",
            "_________________________________________________________________\n",
            "dropout_101 (Dropout)        (None, 8)                 0         \n",
            "_________________________________________________________________\n",
            "dense_142 (Dense)            (None, 4)                 36        \n",
            "_________________________________________________________________\n",
            "dropout_102 (Dropout)        (None, 4)                 0         \n",
            "_________________________________________________________________\n",
            "dense_143 (Dense)            (None, 1)                 5         \n",
            "=================================================================\n",
            "Total params: 869\n",
            "Trainable params: 869\n",
            "Non-trainable params: 0\n",
            "_________________________________________________________________\n"
          ],
          "name": "stdout"
        }
      ]
    },
    {
      "cell_type": "code",
      "metadata": {
        "colab": {
          "base_uri": "https://localhost:8080/"
        },
        "id": "ghdVRhVQly3H",
        "outputId": "0c2ff01d-6711-45eb-8a45-d8a2328310c2"
      },
      "source": [
        "model.predict(train_features[:10])"
      ],
      "execution_count": 335,
      "outputs": [
        {
          "output_type": "execute_result",
          "data": {
            "text/plain": [
              "array([[0.5196365 ],\n",
              "       [0.5166676 ],\n",
              "       [0.5080648 ],\n",
              "       [0.512955  ],\n",
              "       [0.5209658 ],\n",
              "       [0.49857157],\n",
              "       [0.5307409 ],\n",
              "       [0.51810557],\n",
              "       [0.50818163],\n",
              "       [0.5144789 ]], dtype=float32)"
            ]
          },
          "metadata": {
            "tags": []
          },
          "execution_count": 335
        }
      ]
    },
    {
      "cell_type": "code",
      "metadata": {
        "colab": {
          "base_uri": "https://localhost:8080/"
        },
        "id": "iW2YybD9B93V",
        "outputId": "add087a0-9a9f-44bb-d3fc-62c1eec874c5"
      },
      "source": [
        "results = model.evaluate(train_features, train_labels, batch_size=BATCH_SIZE, verbose=0)\r\n",
        "print(\"Loss: {:0.4f}\".format(results[0]))"
      ],
      "execution_count": 296,
      "outputs": [
        {
          "output_type": "stream",
          "text": [
            "Loss: 0.9664\n"
          ],
          "name": "stdout"
        }
      ]
    },
    {
      "cell_type": "code",
      "metadata": {
        "colab": {
          "base_uri": "https://localhost:8080/"
        },
        "id": "BJ7qfmXhB90C",
        "outputId": "64e2db4d-4799-4e6d-a4fd-95f881e2511c"
      },
      "source": [
        "initial_bias = np.log([pos/neg])\r\n",
        "initial_bias"
      ],
      "execution_count": 297,
      "outputs": [
        {
          "output_type": "execute_result",
          "data": {
            "text/plain": [
              "array([-1.1529683])"
            ]
          },
          "metadata": {
            "tags": []
          },
          "execution_count": 297
        }
      ]
    },
    {
      "cell_type": "code",
      "metadata": {
        "colab": {
          "base_uri": "https://localhost:8080/"
        },
        "id": "QTM5G-WUB9yS",
        "outputId": "03243d02-c753-4ad1-ae68-e843c9c3d122"
      },
      "source": [
        "model = make_model(output_bias=initial_bias)\r\n",
        "model.predict(train_features[:10])"
      ],
      "execution_count": 298,
      "outputs": [
        {
          "output_type": "execute_result",
          "data": {
            "text/plain": [
              "array([[0.2524963 ],\n",
              "       [0.272869  ],\n",
              "       [0.28795308],\n",
              "       [0.26395112],\n",
              "       [0.3001739 ],\n",
              "       [0.26966152],\n",
              "       [0.29940987],\n",
              "       [0.2739531 ],\n",
              "       [0.27824718],\n",
              "       [0.2542472 ]], dtype=float32)"
            ]
          },
          "metadata": {
            "tags": []
          },
          "execution_count": 298
        }
      ]
    },
    {
      "cell_type": "code",
      "metadata": {
        "colab": {
          "base_uri": "https://localhost:8080/"
        },
        "id": "6kooUU86B9w2",
        "outputId": "8b80ecdd-c0c6-4db4-bf8f-4b4bc18bcc1d"
      },
      "source": [
        "results = model.evaluate(train_features, train_labels, batch_size=BATCH_SIZE, verbose=0)\r\n",
        "print(\"Loss: {:0.4f}\".format(results[0]))"
      ],
      "execution_count": 299,
      "outputs": [
        {
          "output_type": "stream",
          "text": [
            "Loss: 0.5592\n"
          ],
          "name": "stdout"
        }
      ]
    },
    {
      "cell_type": "code",
      "metadata": {
        "id": "SfQ_jWa5Ciry"
      },
      "source": [
        "import os\r\n",
        "import tempfile\r\n"
      ],
      "execution_count": 300,
      "outputs": []
    },
    {
      "cell_type": "code",
      "metadata": {
        "id": "6J29jz7XB9vE"
      },
      "source": [
        "initial_weights = os.path.join(tempfile.mkdtemp(), 'initial_weights')\r\n",
        "model.save_weights(initial_weights)"
      ],
      "execution_count": 301,
      "outputs": []
    },
    {
      "cell_type": "code",
      "metadata": {
        "id": "RgUyQOHMB9sL"
      },
      "source": [
        "model = make_model()\r\n",
        "model.load_weights(initial_weights)\r\n",
        "model.layers[-1].bias.assign([0.0])\r\n",
        "zero_bias_history = model.fit(\r\n",
        "    train_features,\r\n",
        "    train_labels,\r\n",
        "    batch_size=BATCH_SIZE,\r\n",
        "    epochs=20,\r\n",
        "    validation_data=(val_features, val_labels), \r\n",
        "    verbose=0)"
      ],
      "execution_count": 302,
      "outputs": []
    },
    {
      "cell_type": "code",
      "metadata": {
        "id": "ff0EIywYB9p4"
      },
      "source": [
        "model = make_model()\r\n",
        "model.load_weights(initial_weights)\r\n",
        "careful_bias_history = model.fit(\r\n",
        "    train_features,\r\n",
        "    train_labels,\r\n",
        "    batch_size=BATCH_SIZE,\r\n",
        "    epochs=20,\r\n",
        "    validation_data=(val_features, val_labels), \r\n",
        "    verbose=0)"
      ],
      "execution_count": 303,
      "outputs": []
    },
    {
      "cell_type": "code",
      "metadata": {
        "id": "kEyY_L0WB9mu"
      },
      "source": [
        "def plot_loss(history, label, n):\r\n",
        "  # Use a log scale on y-axis to show the wide range of values.\r\n",
        "  plt.semilogy(history.epoch, history.history['loss'],\r\n",
        "               color=colors[n], label='Train ' + label)\r\n",
        "  plt.semilogy(history.epoch, history.history['val_loss'],\r\n",
        "               color=colors[n], label='Val ' + label,\r\n",
        "               linestyle=\"--\")\r\n",
        "  plt.xlabel('Epoch')\r\n",
        "  plt.ylabel('Loss')"
      ],
      "execution_count": 304,
      "outputs": []
    },
    {
      "cell_type": "code",
      "metadata": {
        "id": "oVeLpySnDKBf"
      },
      "source": [
        "import matplotlib as mpl\r\n",
        "import matplotlib.pyplot as plt"
      ],
      "execution_count": 305,
      "outputs": []
    },
    {
      "cell_type": "code",
      "metadata": {
        "id": "3KvQgbjWDB5e"
      },
      "source": [
        "mpl.rcParams['figure.figsize'] = (12, 10)\r\n",
        "colors = plt.rcParams['axes.prop_cycle'].by_key()['color']"
      ],
      "execution_count": 306,
      "outputs": []
    },
    {
      "cell_type": "code",
      "metadata": {
        "colab": {
          "base_uri": "https://localhost:8080/",
          "height": 606
        },
        "id": "VJoegytRB9k6",
        "outputId": "6a841c89-ab44-4a9b-fd54-3a5253ef3bbc"
      },
      "source": [
        "plot_loss(zero_bias_history, \"Zero Bias\", 0)\r\n",
        "plot_loss(careful_bias_history, \"Careful Bias\", 1)"
      ],
      "execution_count": 307,
      "outputs": [
        {
          "output_type": "display_data",
          "data": {
            "image/png": "[encoded data removed]",
            "text/plain": [
              "<Figure size 864x720 with 1 Axes>"
            ]
          },
          "metadata": {
            "tags": [],
            "needs_background": "light"
          }
        }
      ]
    },
    {
      "cell_type": "code",
      "metadata": {
        "colab": {
          "base_uri": "https://localhost:8080/"
        },
        "id": "acFjt2RtC7X3",
        "outputId": "f8c081c7-cb70-4224-fa54-d4819ec583d9"
      },
      "source": [
        "model = make_model()\r\n",
        "model.load_weights(initial_weights)\r\n",
        "baseline_history = model.fit(\r\n",
        "    train_features,\r\n",
        "    train_labels,\r\n",
        "    batch_size=BATCH_SIZE,\r\n",
        "    epochs=EPOCHS,\r\n",
        "    callbacks=[early_stopping],\r\n",
        "    validation_data=(val_features, val_labels))"
      ],
      "execution_count": 308,
      "outputs": [
        {
          "output_type": "stream",
          "text": [
            "Epoch 1/100\n",
            "322/322 [==============================] - 4s 5ms/step - loss: 0.5582 - tp: 40.2415 - fp: 140.5820 - tn: 19168.6192 - fn: 5966.1424 - accuracy: 0.7585 - precision: 0.2224 - recall: 0.0082 - auc: 0.5168 - val_loss: 0.5447 - val_tp: 0.0000e+00 - val_fp: 0.0000e+00 - val_tn: 3506.0000 - val_fn: 1074.0000 - val_accuracy: 0.7655 - val_precision: 0.0000e+00 - val_recall: 0.0000e+00 - val_auc: 0.5001\n",
            "Epoch 2/100\n",
            "322/322 [==============================] - 1s 3ms/step - loss: 0.5451 - tp: 0.0000e+00 - fp: 0.0000e+00 - tn: 15804.4830 - fn: 4931.1022 - accuracy: 0.7651 - precision: 0.0000e+00 - recall: 0.0000e+00 - auc: 0.5037 - val_loss: 0.5448 - val_tp: 0.0000e+00 - val_fp: 0.0000e+00 - val_tn: 3506.0000 - val_fn: 1074.0000 - val_accuracy: 0.7655 - val_precision: 0.0000e+00 - val_recall: 0.0000e+00 - val_auc: 0.5021\n",
            "Epoch 3/100\n",
            "322/322 [==============================] - 1s 3ms/step - loss: 0.5479 - tp: 0.0000e+00 - fp: 0.0000e+00 - tn: 15806.6625 - fn: 4928.9226 - accuracy: 0.7627 - precision: 0.0000e+00 - recall: 0.0000e+00 - auc: 0.5009 - val_loss: 0.5448 - val_tp: 0.0000e+00 - val_fp: 0.0000e+00 - val_tn: 3506.0000 - val_fn: 1074.0000 - val_accuracy: 0.7655 - val_precision: 0.0000e+00 - val_recall: 0.0000e+00 - val_auc: 0.5003\n",
            "Epoch 4/100\n",
            "322/322 [==============================] - 1s 3ms/step - loss: 0.5504 - tp: 0.0000e+00 - fp: 0.0000e+00 - tn: 15770.9690 - fn: 4964.6161 - accuracy: 0.7606 - precision: 0.0000e+00 - recall: 0.0000e+00 - auc: 0.5009 - val_loss: 0.5446 - val_tp: 0.0000e+00 - val_fp: 0.0000e+00 - val_tn: 3506.0000 - val_fn: 1074.0000 - val_accuracy: 0.7655 - val_precision: 0.0000e+00 - val_recall: 0.0000e+00 - val_auc: 0.5019\n",
            "Epoch 5/100\n",
            "322/322 [==============================] - 1s 3ms/step - loss: 0.5456 - tp: 0.0000e+00 - fp: 0.0000e+00 - tn: 15817.5666 - fn: 4918.0186 - accuracy: 0.7642 - precision: 0.0000e+00 - recall: 0.0000e+00 - auc: 0.5104 - val_loss: 0.5435 - val_tp: 0.0000e+00 - val_fp: 0.0000e+00 - val_tn: 3506.0000 - val_fn: 1074.0000 - val_accuracy: 0.7655 - val_precision: 0.0000e+00 - val_recall: 0.0000e+00 - val_auc: 0.5408\n",
            "Epoch 6/100\n",
            "322/322 [==============================] - 1s 3ms/step - loss: 0.5467 - tp: 0.0000e+00 - fp: 0.0000e+00 - tn: 15792.9536 - fn: 4942.6316 - accuracy: 0.7628 - precision: 0.0000e+00 - recall: 0.0000e+00 - auc: 0.5165 - val_loss: 0.5406 - val_tp: 0.0000e+00 - val_fp: 0.0000e+00 - val_tn: 3506.0000 - val_fn: 1074.0000 - val_accuracy: 0.7655 - val_precision: 0.0000e+00 - val_recall: 0.0000e+00 - val_auc: 0.5626\n",
            "Epoch 7/100\n",
            "322/322 [==============================] - 1s 3ms/step - loss: 0.5454 - tp: 0.0000e+00 - fp: 1.5759 - tn: 15798.9319 - fn: 4935.0774 - accuracy: 0.7630 - precision: 0.0000e+00 - recall: 0.0000e+00 - auc: 0.5161 - val_loss: 0.5394 - val_tp: 0.0000e+00 - val_fp: 0.0000e+00 - val_tn: 3506.0000 - val_fn: 1074.0000 - val_accuracy: 0.7655 - val_precision: 0.0000e+00 - val_recall: 0.0000e+00 - val_auc: 0.5586\n",
            "Epoch 8/100\n",
            "322/322 [==============================] - 1s 3ms/step - loss: 0.5495 - tp: 0.0000e+00 - fp: 0.0000e+00 - tn: 15766.4799 - fn: 4969.1053 - accuracy: 0.7591 - precision: 0.0000e+00 - recall: 0.0000e+00 - auc: 0.5205 - val_loss: 0.5393 - val_tp: 0.0000e+00 - val_fp: 0.0000e+00 - val_tn: 3506.0000 - val_fn: 1074.0000 - val_accuracy: 0.7655 - val_precision: 0.0000e+00 - val_recall: 0.0000e+00 - val_auc: 0.5625\n",
            "Epoch 9/100\n",
            "322/322 [==============================] - 1s 3ms/step - loss: 0.5469 - tp: 0.0000e+00 - fp: 0.0000e+00 - tn: 15764.7276 - fn: 4970.8576 - accuracy: 0.7603 - precision: 0.0000e+00 - recall: 0.0000e+00 - auc: 0.5264 - val_loss: 0.5381 - val_tp: 0.0000e+00 - val_fp: 0.0000e+00 - val_tn: 3506.0000 - val_fn: 1074.0000 - val_accuracy: 0.7655 - val_precision: 0.0000e+00 - val_recall: 0.0000e+00 - val_auc: 0.5707\n",
            "Epoch 10/100\n",
            "322/322 [==============================] - 1s 3ms/step - loss: 0.5458 - tp: 0.0000e+00 - fp: 0.0000e+00 - tn: 15755.8080 - fn: 4979.7771 - accuracy: 0.7613 - precision: 0.0000e+00 - recall: 0.0000e+00 - auc: 0.5233 - val_loss: 0.5384 - val_tp: 0.0000e+00 - val_fp: 0.0000e+00 - val_tn: 3506.0000 - val_fn: 1074.0000 - val_accuracy: 0.7655 - val_precision: 0.0000e+00 - val_recall: 0.0000e+00 - val_auc: 0.5581\n",
            "Epoch 11/100\n",
            "322/322 [==============================] - 1s 3ms/step - loss: 0.5452 - tp: 0.0000e+00 - fp: 0.0000e+00 - tn: 15800.7059 - fn: 4934.8793 - accuracy: 0.7617 - precision: 0.0000e+00 - recall: 0.0000e+00 - auc: 0.5256 - val_loss: 0.5382 - val_tp: 0.0000e+00 - val_fp: 0.0000e+00 - val_tn: 3506.0000 - val_fn: 1074.0000 - val_accuracy: 0.7655 - val_precision: 0.0000e+00 - val_recall: 0.0000e+00 - val_auc: 0.5584\n",
            "Epoch 12/100\n",
            "322/322 [==============================] - 1s 3ms/step - loss: 0.5466 - tp: 0.0000e+00 - fp: 0.0000e+00 - tn: 15776.1889 - fn: 4959.3963 - accuracy: 0.7597 - precision: 0.0000e+00 - recall: 0.0000e+00 - auc: 0.5326 - val_loss: 0.5371 - val_tp: 0.0000e+00 - val_fp: 0.0000e+00 - val_tn: 3506.0000 - val_fn: 1074.0000 - val_accuracy: 0.7655 - val_precision: 0.0000e+00 - val_recall: 0.0000e+00 - val_auc: 0.5579\n",
            "Epoch 13/100\n",
            "322/322 [==============================] - 1s 3ms/step - loss: 0.5477 - tp: 0.0000e+00 - fp: 0.0000e+00 - tn: 15759.0372 - fn: 4976.5480 - accuracy: 0.7594 - precision: 0.0000e+00 - recall: 0.0000e+00 - auc: 0.5317 - val_loss: 0.5370 - val_tp: 0.0000e+00 - val_fp: 0.0000e+00 - val_tn: 3506.0000 - val_fn: 1074.0000 - val_accuracy: 0.7655 - val_precision: 0.0000e+00 - val_recall: 0.0000e+00 - val_auc: 0.5591\n",
            "Epoch 14/100\n",
            "322/322 [==============================] - 1s 3ms/step - loss: 0.5489 - tp: 0.0000e+00 - fp: 0.0000e+00 - tn: 15749.5697 - fn: 4986.0155 - accuracy: 0.7584 - precision: 0.0000e+00 - recall: 0.0000e+00 - auc: 0.5301 - val_loss: 0.5377 - val_tp: 0.0000e+00 - val_fp: 0.0000e+00 - val_tn: 3506.0000 - val_fn: 1074.0000 - val_accuracy: 0.7655 - val_precision: 0.0000e+00 - val_recall: 0.0000e+00 - val_auc: 0.5603\n",
            "Epoch 15/100\n",
            "322/322 [==============================] - 1s 3ms/step - loss: 0.5460 - tp: 0.0000e+00 - fp: 0.0000e+00 - tn: 15786.3715 - fn: 4949.2136 - accuracy: 0.7610 - precision: 0.0000e+00 - recall: 0.0000e+00 - auc: 0.5317 - val_loss: 0.5373 - val_tp: 0.0000e+00 - val_fp: 0.0000e+00 - val_tn: 3506.0000 - val_fn: 1074.0000 - val_accuracy: 0.7655 - val_precision: 0.0000e+00 - val_recall: 0.0000e+00 - val_auc: 0.5581\n",
            "Epoch 16/100\n",
            "322/322 [==============================] - 1s 3ms/step - loss: 0.5504 - tp: 0.0000e+00 - fp: 0.0000e+00 - tn: 15740.8328 - fn: 4994.7523 - accuracy: 0.7573 - precision: 0.0000e+00 - recall: 0.0000e+00 - auc: 0.5290 - val_loss: 0.5380 - val_tp: 0.0000e+00 - val_fp: 0.0000e+00 - val_tn: 3506.0000 - val_fn: 1074.0000 - val_accuracy: 0.7655 - val_precision: 0.0000e+00 - val_recall: 0.0000e+00 - val_auc: 0.5576\n",
            "Epoch 17/100\n",
            "322/322 [==============================] - 1s 3ms/step - loss: 0.5425 - tp: 0.0000e+00 - fp: 0.0000e+00 - tn: 15782.8235 - fn: 4952.7616 - accuracy: 0.7635 - precision: 0.0000e+00 - recall: 0.0000e+00 - auc: 0.5317 - val_loss: 0.5367 - val_tp: 0.0000e+00 - val_fp: 0.0000e+00 - val_tn: 3506.0000 - val_fn: 1074.0000 - val_accuracy: 0.7655 - val_precision: 0.0000e+00 - val_recall: 0.0000e+00 - val_auc: 0.5568\n",
            "Epoch 18/100\n",
            "322/322 [==============================] - 1s 3ms/step - loss: 0.5462 - tp: 0.0000e+00 - fp: 0.0000e+00 - tn: 15759.3034 - fn: 4976.2817 - accuracy: 0.7601 - precision: 0.0000e+00 - recall: 0.0000e+00 - auc: 0.5323 - val_loss: 0.5373 - val_tp: 0.0000e+00 - val_fp: 0.0000e+00 - val_tn: 3506.0000 - val_fn: 1074.0000 - val_accuracy: 0.7655 - val_precision: 0.0000e+00 - val_recall: 0.0000e+00 - val_auc: 0.5609\n",
            "Epoch 19/100\n",
            "322/322 [==============================] - 1s 3ms/step - loss: 0.5451 - tp: 0.0000e+00 - fp: 0.0000e+00 - tn: 15791.4768 - fn: 4944.1084 - accuracy: 0.7611 - precision: 0.0000e+00 - recall: 0.0000e+00 - auc: 0.5322 - val_loss: 0.5378 - val_tp: 0.0000e+00 - val_fp: 0.0000e+00 - val_tn: 3506.0000 - val_fn: 1074.0000 - val_accuracy: 0.7655 - val_precision: 0.0000e+00 - val_recall: 0.0000e+00 - val_auc: 0.5568\n",
            "Epoch 20/100\n",
            "322/322 [==============================] - 1s 3ms/step - loss: 0.5435 - tp: 0.0000e+00 - fp: 0.0000e+00 - tn: 15774.0929 - fn: 4961.4923 - accuracy: 0.7617 - precision: 0.0000e+00 - recall: 0.0000e+00 - auc: 0.5352 - val_loss: 0.5375 - val_tp: 0.0000e+00 - val_fp: 0.0000e+00 - val_tn: 3506.0000 - val_fn: 1074.0000 - val_accuracy: 0.7655 - val_precision: 0.0000e+00 - val_recall: 0.0000e+00 - val_auc: 0.5571\n",
            "Epoch 21/100\n",
            "322/322 [==============================] - 1s 3ms/step - loss: 0.5480 - tp: 0.0000e+00 - fp: 0.0000e+00 - tn: 15733.4365 - fn: 5002.1486 - accuracy: 0.7579 - precision: 0.0000e+00 - recall: 0.0000e+00 - auc: 0.5320 - val_loss: 0.5379 - val_tp: 0.0000e+00 - val_fp: 0.0000e+00 - val_tn: 3506.0000 - val_fn: 1074.0000 - val_accuracy: 0.7655 - val_precision: 0.0000e+00 - val_recall: 0.0000e+00 - val_auc: 0.5570\n",
            "Epoch 22/100\n",
            "322/322 [==============================] - 1s 3ms/step - loss: 0.5418 - tp: 0.0000e+00 - fp: 0.0000e+00 - tn: 15768.0248 - fn: 4967.5604 - accuracy: 0.7627 - precision: 0.0000e+00 - recall: 0.0000e+00 - auc: 0.5355 - val_loss: 0.5384 - val_tp: 0.0000e+00 - val_fp: 0.0000e+00 - val_tn: 3506.0000 - val_fn: 1074.0000 - val_accuracy: 0.7655 - val_precision: 0.0000e+00 - val_recall: 0.0000e+00 - val_auc: 0.5586\n",
            "Epoch 23/100\n",
            "322/322 [==============================] - 1s 3ms/step - loss: 0.5473 - tp: 0.0000e+00 - fp: 0.0000e+00 - tn: 15760.9814 - fn: 4974.6037 - accuracy: 0.7591 - precision: 0.0000e+00 - recall: 0.0000e+00 - auc: 0.5346 - val_loss: 0.5362 - val_tp: 0.0000e+00 - val_fp: 0.0000e+00 - val_tn: 3506.0000 - val_fn: 1074.0000 - val_accuracy: 0.7655 - val_precision: 0.0000e+00 - val_recall: 0.0000e+00 - val_auc: 0.5592\n",
            "Epoch 24/100\n",
            "322/322 [==============================] - 1s 3ms/step - loss: 0.5477 - tp: 0.0000e+00 - fp: 0.0000e+00 - tn: 15753.3158 - fn: 4982.2693 - accuracy: 0.7581 - precision: 0.0000e+00 - recall: 0.0000e+00 - auc: 0.5332 - val_loss: 0.5379 - val_tp: 0.0000e+00 - val_fp: 0.0000e+00 - val_tn: 3506.0000 - val_fn: 1074.0000 - val_accuracy: 0.7655 - val_precision: 0.0000e+00 - val_recall: 0.0000e+00 - val_auc: 0.5562\n",
            "Epoch 25/100\n",
            "322/322 [==============================] - 1s 3ms/step - loss: 0.5475 - tp: 0.0000e+00 - fp: 0.0000e+00 - tn: 15755.0588 - fn: 4980.5263 - accuracy: 0.7584 - precision: 0.0000e+00 - recall: 0.0000e+00 - auc: 0.5305 - val_loss: 0.5372 - val_tp: 0.0000e+00 - val_fp: 0.0000e+00 - val_tn: 3506.0000 - val_fn: 1074.0000 - val_accuracy: 0.7655 - val_precision: 0.0000e+00 - val_recall: 0.0000e+00 - val_auc: 0.5598\n",
            "Epoch 26/100\n",
            "322/322 [==============================] - 1s 3ms/step - loss: 0.5472 - tp: 0.0000e+00 - fp: 0.0000e+00 - tn: 15737.8916 - fn: 4997.6935 - accuracy: 0.7595 - precision: 0.0000e+00 - recall: 0.0000e+00 - auc: 0.5336 - val_loss: 0.5360 - val_tp: 0.0000e+00 - val_fp: 0.0000e+00 - val_tn: 3506.0000 - val_fn: 1074.0000 - val_accuracy: 0.7655 - val_precision: 0.0000e+00 - val_recall: 0.0000e+00 - val_auc: 0.5614\n",
            "Epoch 27/100\n",
            "322/322 [==============================] - 1s 3ms/step - loss: 0.5432 - tp: 0.0000e+00 - fp: 0.0000e+00 - tn: 15786.8545 - fn: 4948.7307 - accuracy: 0.7621 - precision: 0.0000e+00 - recall: 0.0000e+00 - auc: 0.5345 - val_loss: 0.5361 - val_tp: 0.0000e+00 - val_fp: 0.0000e+00 - val_tn: 3506.0000 - val_fn: 1074.0000 - val_accuracy: 0.7655 - val_precision: 0.0000e+00 - val_recall: 0.0000e+00 - val_auc: 0.5573\n",
            "Epoch 28/100\n",
            "322/322 [==============================] - 1s 3ms/step - loss: 0.5468 - tp: 0.0000e+00 - fp: 0.0000e+00 - tn: 15729.9907 - fn: 5005.5944 - accuracy: 0.7589 - precision: 0.0000e+00 - recall: 0.0000e+00 - auc: 0.5316 - val_loss: 0.5367 - val_tp: 0.0000e+00 - val_fp: 0.0000e+00 - val_tn: 3506.0000 - val_fn: 1074.0000 - val_accuracy: 0.7655 - val_precision: 0.0000e+00 - val_recall: 0.0000e+00 - val_auc: 0.5579\n",
            "Epoch 29/100\n",
            "322/322 [==============================] - 1s 3ms/step - loss: 0.5409 - tp: 0.0000e+00 - fp: 0.0000e+00 - tn: 15791.8173 - fn: 4943.7678 - accuracy: 0.7636 - precision: 0.0000e+00 - recall: 0.0000e+00 - auc: 0.5360 - val_loss: 0.5377 - val_tp: 0.0000e+00 - val_fp: 0.0000e+00 - val_tn: 3506.0000 - val_fn: 1074.0000 - val_accuracy: 0.7655 - val_precision: 0.0000e+00 - val_recall: 0.0000e+00 - val_auc: 0.5599\n",
            "Restoring model weights from the end of the best epoch.\n",
            "Epoch 00029: early stopping\n"
          ],
          "name": "stdout"
        }
      ]
    },
    {
      "cell_type": "code",
      "metadata": {
        "id": "p6AaXJH3C7TL"
      },
      "source": [
        "def plot_metrics(history):\r\n",
        "  metrics = ['loss', 'auc', 'precision', 'recall']\r\n",
        "  for n, metric in enumerate(metrics):\r\n",
        "    name = metric.replace(\"_\",\" \").capitalize()\r\n",
        "    plt.subplot(2,2,n+1)\r\n",
        "    plt.plot(history.epoch, history.history[metric], color=colors[0], label='Train')\r\n",
        "    plt.plot(history.epoch, history.history['val_'+metric],\r\n",
        "             color=colors[0], linestyle=\"--\", label='Val')\r\n",
        "    plt.xlabel('Epoch')\r\n",
        "    plt.ylabel(name)\r\n",
        "    if metric == 'loss':\r\n",
        "      plt.ylim([0, plt.ylim()[1]])\r\n",
        "    elif metric == 'auc':\r\n",
        "      plt.ylim([0.4,.8])\r\n",
        "    else:\r\n",
        "      plt.ylim([0,1])\r\n",
        "\r\n",
        "    plt.legend()"
      ],
      "execution_count": 311,
      "outputs": []
    },
    {
      "cell_type": "code",
      "metadata": {
        "colab": {
          "base_uri": "https://localhost:8080/",
          "height": 610
        },
        "id": "P7O3EUfGC7OO",
        "outputId": "8b8c2650-d790-4cc8-a150-f756baaecae1"
      },
      "source": [
        "plot_metrics(baseline_history)"
      ],
      "execution_count": 312,
      "outputs": [
        {
          "output_type": "display_data",
          "data": {
            "image/png": "[encoded data removed]",
            "text/plain": [
              "<Figure size 864x720 with 4 Axes>"
            ]
          },
          "metadata": {
            "tags": [],
            "needs_background": "light"
          }
        }
      ]
    },
    {
      "cell_type": "code",
      "metadata": {
        "id": "c6TzooP-C7MN"
      },
      "source": [
        "train_predictions_baseline = model.predict(train_features, batch_size=BATCH_SIZE)\r\n",
        "test_predictions_baseline = model.predict(test_features, batch_size=BATCH_SIZE)"
      ],
      "execution_count": 313,
      "outputs": []
    },
    {
      "cell_type": "code",
      "metadata": {
        "id": "MQoqzr9nC7Hp"
      },
      "source": [
        "def plot_cm(labels, predictions, p=0.5):\r\n",
        "  cm = confusion_matrix(labels, predictions > p)\r\n",
        "  plt.figure(figsize=(5,5))\r\n",
        "  sns.heatmap(cm, annot=True, fmt=\"d\")\r\n",
        "  plt.title('Confusion matrix @{:.2f}'.format(p))\r\n",
        "  plt.ylabel('Actual label')\r\n",
        "  plt.xlabel('Predicted label')\r\n",
        "\r\n",
        "  print('Legitimate Transactions Detected (True Negatives): ', cm[0][0])\r\n",
        "  print('Legitimate Transactions Incorrectly Detected (False Positives): ', cm[0][1])\r\n",
        "  print('Fraudulent Transactions Missed (False Negatives): ', cm[1][0])\r\n",
        "  print('Fraudulent Transactions Detected (True Positives): ', cm[1][1])\r\n",
        "  print('Total Fraudulent Transactions: ', np.sum(cm[1]))"
      ],
      "execution_count": 314,
      "outputs": []
    },
    {
      "cell_type": "code",
      "metadata": {
        "id": "zSFapcWeEbN5"
      },
      "source": [
        "from sklearn.metrics import confusion_matrix"
      ],
      "execution_count": 315,
      "outputs": []
    },
    {
      "cell_type": "code",
      "metadata": {
        "colab": {
          "base_uri": "https://localhost:8080/",
          "height": 623
        },
        "id": "VQ8RsDDAC7FP",
        "outputId": "d611bbe0-aaf0-4edf-d110-521faf161c86"
      },
      "source": [
        "baseline_results = model.evaluate(test_features, test_labels,\r\n",
        "                                  batch_size=BATCH_SIZE, verbose=0)\r\n",
        "for name, value in zip(model.metrics_names, baseline_results):\r\n",
        "  print(name, ': ', value)\r\n",
        "print()\r\n",
        "\r\n",
        "plot_cm(test_labels, test_predictions_baseline)"
      ],
      "execution_count": 316,
      "outputs": [
        {
          "output_type": "stream",
          "text": [
            "loss :  0.5546054244041443\n",
            "tp :  0.0\n",
            "fp :  0.0\n",
            "tn :  3826.0\n",
            "fn :  1263.0\n",
            "accuracy :  0.7518176436424255\n",
            "precision :  0.0\n",
            "recall :  0.0\n",
            "auc :  0.5477893948554993\n",
            "\n",
            "Legitimate Transactions Detected (True Negatives):  3826\n",
            "Legitimate Transactions Incorrectly Detected (False Positives):  0\n",
            "Fraudulent Transactions Missed (False Negatives):  1263\n",
            "Fraudulent Transactions Detected (True Positives):  0\n",
            "Total Fraudulent Transactions:  1263\n"
          ],
          "name": "stdout"
        },
        {
          "output_type": "display_data",
          "data": {
            "image/png": "[encoded data removed]",
            "text/plain": [
              "<Figure size 360x360 with 2 Axes>"
            ]
          },
          "metadata": {
            "tags": [],
            "needs_background": "light"
          }
        }
      ]
    },
    {
      "cell_type": "code",
      "metadata": {
        "id": "JbKVYr1fB9h5"
      },
      "source": [
        "def plot_roc(name, labels, predictions, **kwargs):\r\n",
        "  fp, tp, _ = sklearn.metrics.roc_curve(labels, predictions)\r\n",
        "\r\n",
        "  plt.plot(100*fp, 100*tp, label=name, linewidth=2, **kwargs)\r\n",
        "  plt.xlabel('False positives [%]')\r\n",
        "  plt.ylabel('True positives [%]')\r\n",
        "  plt.xlim([-0.5,100])\r\n",
        "  plt.ylim([10,80.5])\r\n",
        "  plt.grid(True)\r\n",
        "  ax = plt.gca()\r\n",
        "  ax.set_aspect('equal')"
      ],
      "execution_count": 323,
      "outputs": []
    },
    {
      "cell_type": "code",
      "metadata": {
        "id": "6CSSNZ3SEq9n"
      },
      "source": [
        "import sklearn"
      ],
      "execution_count": 324,
      "outputs": []
    },
    {
      "cell_type": "code",
      "metadata": {
        "colab": {
          "base_uri": "https://localhost:8080/",
          "height": 550
        },
        "id": "DOipElHoEmOy",
        "outputId": "8bcbb78c-015f-46b8-83ff-cd156f8851c5"
      },
      "source": [
        "plot_roc(\"Train Baseline\", train_labels, train_predictions_baseline, color=colors[0])\r\n",
        "plot_roc(\"Test Baseline\", test_labels, test_predictions_baseline, color=colors[0], linestyle='--')\r\n",
        "plt.legend(loc='lower right')"
      ],
      "execution_count": 325,
      "outputs": [
        {
          "output_type": "execute_result",
          "data": {
            "text/plain": [
              "<matplotlib.legend.Legend at 0x7f509a9eca50>"
            ]
          },
          "metadata": {
            "tags": []
          },
          "execution_count": 325
        },
        {
          "output_type": "display_data",
          "data": {
            "image/png": "[encoded data removed]",
            "text/plain": [
              "<Figure size 864x720 with 1 Axes>"
            ]
          },
          "metadata": {
            "tags": [],
            "needs_background": "light"
          }
        }
      ]
    },
    {
      "cell_type": "code",
      "metadata": {
        "colab": {
          "base_uri": "https://localhost:8080/"
        },
        "id": "A7cGTz4CEmLb",
        "outputId": "a70ac28c-5f51-4801-8844-c3d93c94bd25"
      },
      "source": [
        "weight_for_0 = (1 / neg)*(total)/2.0 \r\n",
        "weight_for_1 = (1 / pos)*(total)/2.0\r\n",
        "\r\n",
        "class_weight = {0: weight_for_0, 1: weight_for_1}\r\n",
        "\r\n",
        "print('Weight for class 0: {:.2f}'.format(weight_for_0))\r\n",
        "print('Weight for class 1: {:.2f}'.format(weight_for_1))"
      ],
      "execution_count": 326,
      "outputs": [
        {
          "output_type": "stream",
          "text": [
            "Weight for class 0: 0.66\n",
            "Weight for class 1: 2.08\n"
          ],
          "name": "stdout"
        }
      ]
    },
    {
      "cell_type": "code",
      "metadata": {
        "colab": {
          "base_uri": "https://localhost:8080/"
        },
        "id": "y8WV5nkTEmJY",
        "outputId": "0246cd78-9db6-41ed-81ae-10b0ea4c2790"
      },
      "source": [
        "weighted_model = make_model()\r\n",
        "weighted_model.load_weights(initial_weights)\r\n",
        "\r\n",
        "weighted_history = weighted_model.fit(\r\n",
        "    train_features,\r\n",
        "    train_labels,\r\n",
        "    batch_size=128,\r\n",
        "    epochs=EPOCHS,\r\n",
        "    \r\n",
        "    validation_data=(val_features, val_labels),\r\n",
        "    # The class weights go here\r\n",
        "    class_weight=class_weight) "
      ],
      "execution_count": 327,
      "outputs": [
        {
          "output_type": "stream",
          "text": [
            "Epoch 1/100\n",
            "322/322 [==============================] - 4s 6ms/step - loss: 0.8031 - tp: 403.1331 - fp: 1281.8452 - tn: 18310.5542 - fn: 5829.0526 - accuracy: 0.7287 - precision: 0.2391 - recall: 0.0554 - auc: 0.5045 - val_loss: 0.6051 - val_tp: 0.0000e+00 - val_fp: 0.0000e+00 - val_tn: 3506.0000 - val_fn: 1074.0000 - val_accuracy: 0.7655 - val_precision: 0.0000e+00 - val_recall: 0.0000e+00 - val_auc: 0.5140\n",
            "Epoch 2/100\n",
            "322/322 [==============================] - 1s 3ms/step - loss: 0.7332 - tp: 879.3901 - fp: 3018.2074 - tn: 12749.1176 - fn: 4088.8700 - accuracy: 0.6587 - precision: 0.2240 - recall: 0.1719 - auc: 0.4922 - val_loss: 0.6316 - val_tp: 0.0000e+00 - val_fp: 0.0000e+00 - val_tn: 3506.0000 - val_fn: 1074.0000 - val_accuracy: 0.7655 - val_precision: 0.0000e+00 - val_recall: 0.0000e+00 - val_auc: 0.5235\n",
            "Epoch 3/100\n",
            "322/322 [==============================] - 1s 3ms/step - loss: 0.7155 - tp: 1183.1548 - fp: 3801.1455 - tn: 11953.0588 - fn: 3798.2260 - accuracy: 0.6351 - precision: 0.2356 - recall: 0.2310 - auc: 0.5001 - val_loss: 0.6430 - val_tp: 0.0000e+00 - val_fp: 0.0000e+00 - val_tn: 3506.0000 - val_fn: 1074.0000 - val_accuracy: 0.7655 - val_precision: 0.0000e+00 - val_recall: 0.0000e+00 - val_auc: 0.5447\n",
            "Epoch 4/100\n",
            "322/322 [==============================] - 1s 3ms/step - loss: 0.7002 - tp: 1278.8762 - fp: 4221.9226 - tn: 11580.4768 - fn: 3654.3096 - accuracy: 0.6224 - precision: 0.2301 - recall: 0.2584 - auc: 0.5001 - val_loss: 0.6587 - val_tp: 0.0000e+00 - val_fp: 0.0000e+00 - val_tn: 3506.0000 - val_fn: 1074.0000 - val_accuracy: 0.7655 - val_precision: 0.0000e+00 - val_recall: 0.0000e+00 - val_auc: 0.5205\n",
            "Epoch 5/100\n",
            "322/322 [==============================] - 1s 3ms/step - loss: 0.6965 - tp: 1294.9009 - fp: 4178.5449 - tn: 11652.4861 - fn: 3609.6533 - accuracy: 0.6251 - precision: 0.2378 - recall: 0.2668 - auc: 0.5006 - val_loss: 0.6690 - val_tp: 0.0000e+00 - val_fp: 0.0000e+00 - val_tn: 3506.0000 - val_fn: 1074.0000 - val_accuracy: 0.7655 - val_precision: 0.0000e+00 - val_recall: 0.0000e+00 - val_auc: 0.5068\n",
            "Epoch 6/100\n",
            "322/322 [==============================] - 1s 3ms/step - loss: 0.6964 - tp: 1293.2415 - fp: 4197.1084 - tn: 11582.9040 - fn: 3662.3313 - accuracy: 0.6212 - precision: 0.2325 - recall: 0.2575 - auc: 0.4925 - val_loss: 0.6744 - val_tp: 0.0000e+00 - val_fp: 0.0000e+00 - val_tn: 3506.0000 - val_fn: 1074.0000 - val_accuracy: 0.7655 - val_precision: 0.0000e+00 - val_recall: 0.0000e+00 - val_auc: 0.5192\n",
            "Epoch 7/100\n",
            "322/322 [==============================] - 1s 3ms/step - loss: 0.6936 - tp: 1320.4056 - fp: 4228.7709 - tn: 11571.4458 - fn: 3614.9628 - accuracy: 0.6231 - precision: 0.2390 - recall: 0.2680 - auc: 0.5005 - val_loss: 0.6831 - val_tp: 13.0000 - val_fp: 42.0000 - val_tn: 3464.0000 - val_fn: 1061.0000 - val_accuracy: 0.7592 - val_precision: 0.2364 - val_recall: 0.0121 - val_auc: 0.5343\n",
            "Epoch 8/100\n",
            "322/322 [==============================] - 1s 3ms/step - loss: 0.6990 - tp: 1494.2353 - fp: 4642.6780 - tn: 11093.1827 - fn: 3505.4892 - accuracy: 0.6015 - precision: 0.2446 - recall: 0.3045 - auc: 0.4975 - val_loss: 0.6806 - val_tp: 0.0000e+00 - val_fp: 0.0000e+00 - val_tn: 3506.0000 - val_fn: 1074.0000 - val_accuracy: 0.7655 - val_precision: 0.0000e+00 - val_recall: 0.0000e+00 - val_auc: 0.5508\n",
            "Epoch 9/100\n",
            "322/322 [==============================] - 1s 3ms/step - loss: 0.6931 - tp: 1234.6873 - fp: 3807.5015 - tn: 11968.9040 - fn: 3724.4923 - accuracy: 0.6381 - precision: 0.2440 - recall: 0.2442 - auc: 0.5068 - val_loss: 0.6858 - val_tp: 7.0000 - val_fp: 22.0000 - val_tn: 3484.0000 - val_fn: 1067.0000 - val_accuracy: 0.7622 - val_precision: 0.2414 - val_recall: 0.0065 - val_auc: 0.5570\n",
            "Epoch 10/100\n",
            "322/322 [==============================] - 1s 3ms/step - loss: 0.6969 - tp: 1912.8483 - fp: 5954.5480 - tn: 9789.8050 - fn: 3078.3839 - accuracy: 0.5634 - precision: 0.2461 - recall: 0.3836 - auc: 0.5060 - val_loss: 0.6877 - val_tp: 140.0000 - val_fp: 388.0000 - val_tn: 3118.0000 - val_fn: 934.0000 - val_accuracy: 0.7114 - val_precision: 0.2652 - val_recall: 0.1304 - val_auc: 0.5604\n",
            "Epoch 11/100\n",
            "322/322 [==============================] - 1s 3ms/step - loss: 0.6934 - tp: 1830.0774 - fp: 5593.8824 - tn: 10174.3777 - fn: 3137.2477 - accuracy: 0.5811 - precision: 0.2462 - recall: 0.3604 - auc: 0.5109 - val_loss: 0.6815 - val_tp: 345.0000 - val_fp: 959.0000 - val_tn: 2547.0000 - val_fn: 729.0000 - val_accuracy: 0.6314 - val_precision: 0.2646 - val_recall: 0.3212 - val_auc: 0.5648\n",
            "Epoch 12/100\n",
            "322/322 [==============================] - 1s 3ms/step - loss: 0.6904 - tp: 2367.4087 - fp: 7207.0588 - tn: 8544.3220 - fn: 2616.7957 - accuracy: 0.5345 - precision: 0.2470 - recall: 0.4579 - auc: 0.5216 - val_loss: 0.6817 - val_tp: 509.0000 - val_fp: 1442.0000 - val_tn: 2064.0000 - val_fn: 565.0000 - val_accuracy: 0.5618 - val_precision: 0.2609 - val_recall: 0.4739 - val_auc: 0.5606\n",
            "Epoch 13/100\n",
            "322/322 [==============================] - 1s 3ms/step - loss: 0.6910 - tp: 2659.6873 - fp: 7956.4087 - tn: 7773.5511 - fn: 2345.9381 - accuracy: 0.5112 - precision: 0.2486 - recall: 0.5071 - auc: 0.5227 - val_loss: 0.6801 - val_tp: 979.0000 - val_fp: 2812.0000 - val_tn: 694.0000 - val_fn: 95.0000 - val_accuracy: 0.3653 - val_precision: 0.2582 - val_recall: 0.9115 - val_auc: 0.5594\n",
            "Epoch 14/100\n",
            "322/322 [==============================] - 1s 3ms/step - loss: 0.6922 - tp: 3031.0433 - fp: 9033.6440 - tn: 6712.4149 - fn: 1958.4830 - accuracy: 0.4724 - precision: 0.2517 - recall: 0.6002 - auc: 0.5265 - val_loss: 0.6830 - val_tp: 990.0000 - val_fp: 2838.0000 - val_tn: 668.0000 - val_fn: 84.0000 - val_accuracy: 0.3620 - val_precision: 0.2586 - val_recall: 0.9218 - val_auc: 0.5587\n",
            "Epoch 15/100\n",
            "322/322 [==============================] - 1s 3ms/step - loss: 0.6861 - tp: 3224.6378 - fp: 9536.6563 - tn: 6236.2043 - fn: 1738.0867 - accuracy: 0.4577 - precision: 0.2517 - recall: 0.6467 - auc: 0.5289 - val_loss: 0.6807 - val_tp: 978.0000 - val_fp: 2814.0000 - val_tn: 692.0000 - val_fn: 96.0000 - val_accuracy: 0.3646 - val_precision: 0.2579 - val_recall: 0.9106 - val_auc: 0.5674\n",
            "Epoch 16/100\n",
            "322/322 [==============================] - 1s 3ms/step - loss: 0.6904 - tp: 3110.2074 - fp: 9178.6471 - tn: 6557.1672 - fn: 1889.5635 - accuracy: 0.4639 - precision: 0.2530 - recall: 0.6224 - auc: 0.5276 - val_loss: 0.6833 - val_tp: 982.0000 - val_fp: 2837.0000 - val_tn: 669.0000 - val_fn: 92.0000 - val_accuracy: 0.3605 - val_precision: 0.2571 - val_recall: 0.9143 - val_auc: 0.5552\n",
            "Epoch 17/100\n",
            "322/322 [==============================] - 1s 3ms/step - loss: 0.6894 - tp: 3383.4396 - fp: 9727.2415 - tn: 6008.9505 - fn: 1615.9536 - accuracy: 0.4553 - precision: 0.2582 - recall: 0.6703 - auc: 0.5349 - val_loss: 0.6841 - val_tp: 986.0000 - val_fp: 2852.0000 - val_tn: 654.0000 - val_fn: 88.0000 - val_accuracy: 0.3581 - val_precision: 0.2569 - val_recall: 0.9181 - val_auc: 0.5561\n",
            "Epoch 18/100\n",
            "322/322 [==============================] - 1s 3ms/step - loss: 0.6857 - tp: 3182.3498 - fp: 9550.0495 - tn: 6235.6687 - fn: 1767.5170 - accuracy: 0.4546 - precision: 0.2490 - recall: 0.6405 - auc: 0.5249 - val_loss: 0.6870 - val_tp: 1001.0000 - val_fp: 2889.0000 - val_tn: 617.0000 - val_fn: 73.0000 - val_accuracy: 0.3533 - val_precision: 0.2573 - val_recall: 0.9320 - val_auc: 0.5557\n",
            "Epoch 19/100\n",
            "322/322 [==============================] - 1s 3ms/step - loss: 0.6880 - tp: 3408.1022 - fp: 10002.2105 - tn: 5772.7337 - fn: 1552.5387 - accuracy: 0.4395 - precision: 0.2532 - recall: 0.6898 - auc: 0.5336 - val_loss: 0.6830 - val_tp: 986.0000 - val_fp: 2847.0000 - val_tn: 659.0000 - val_fn: 88.0000 - val_accuracy: 0.3592 - val_precision: 0.2572 - val_recall: 0.9181 - val_auc: 0.5602\n",
            "Epoch 20/100\n",
            "322/322 [==============================] - 1s 3ms/step - loss: 0.6893 - tp: 3708.7152 - fp: 10797.4458 - tn: 4923.4458 - fn: 1305.9783 - accuracy: 0.4180 - precision: 0.2563 - recall: 0.7341 - auc: 0.5354 - val_loss: 0.6823 - val_tp: 1009.0000 - val_fp: 2893.0000 - val_tn: 613.0000 - val_fn: 65.0000 - val_accuracy: 0.3541 - val_precision: 0.2586 - val_recall: 0.9395 - val_auc: 0.5583\n",
            "Epoch 21/100\n",
            "322/322 [==============================] - 1s 3ms/step - loss: 0.6864 - tp: 3430.8421 - fp: 9933.2260 - tn: 5809.2817 - fn: 1562.2353 - accuracy: 0.4484 - precision: 0.2575 - recall: 0.6830 - auc: 0.5372 - val_loss: 0.6747 - val_tp: 966.0000 - val_fp: 2754.0000 - val_tn: 752.0000 - val_fn: 108.0000 - val_accuracy: 0.3751 - val_precision: 0.2597 - val_recall: 0.8994 - val_auc: 0.5648\n",
            "Epoch 22/100\n",
            "322/322 [==============================] - 1s 3ms/step - loss: 0.6845 - tp: 3320.0093 - fp: 9612.4520 - tn: 6175.4613 - fn: 1627.6625 - accuracy: 0.4634 - precision: 0.2582 - recall: 0.6672 - auc: 0.5414 - val_loss: 0.6933 - val_tp: 1026.0000 - val_fp: 2950.0000 - val_tn: 556.0000 - val_fn: 48.0000 - val_accuracy: 0.3454 - val_precision: 0.2580 - val_recall: 0.9553 - val_auc: 0.5565\n",
            "Epoch 23/100\n",
            "322/322 [==============================] - 1s 3ms/step - loss: 0.6845 - tp: 3477.0681 - fp: 10058.6780 - tn: 5708.7399 - fn: 1491.0991 - accuracy: 0.4416 - precision: 0.2560 - recall: 0.7039 - auc: 0.5425 - val_loss: 0.6832 - val_tp: 1015.0000 - val_fp: 2911.0000 - val_tn: 595.0000 - val_fn: 59.0000 - val_accuracy: 0.3515 - val_precision: 0.2585 - val_recall: 0.9451 - val_auc: 0.5552\n",
            "Epoch 24/100\n",
            "322/322 [==============================] - 1s 3ms/step - loss: 0.6853 - tp: 3389.3498 - fp: 9795.2012 - tn: 5972.9257 - fn: 1578.1084 - accuracy: 0.4513 - precision: 0.2587 - recall: 0.6908 - auc: 0.5438 - val_loss: 0.6818 - val_tp: 988.0000 - val_fp: 2815.0000 - val_tn: 691.0000 - val_fn: 86.0000 - val_accuracy: 0.3666 - val_precision: 0.2598 - val_recall: 0.9199 - val_auc: 0.5586\n",
            "Epoch 25/100\n",
            "322/322 [==============================] - 1s 3ms/step - loss: 0.6838 - tp: 3403.1827 - fp: 9756.5511 - tn: 5999.0279 - fn: 1576.8235 - accuracy: 0.4557 - precision: 0.2587 - recall: 0.6797 - auc: 0.5435 - val_loss: 0.6822 - val_tp: 1008.0000 - val_fp: 2884.0000 - val_tn: 622.0000 - val_fn: 66.0000 - val_accuracy: 0.3559 - val_precision: 0.2590 - val_recall: 0.9385 - val_auc: 0.5595\n",
            "Epoch 26/100\n",
            "322/322 [==============================] - 1s 3ms/step - loss: 0.6858 - tp: 3407.9907 - fp: 9822.6811 - tn: 5937.6935 - fn: 1567.2198 - accuracy: 0.4505 - precision: 0.2569 - recall: 0.6798 - auc: 0.5366 - val_loss: 0.6821 - val_tp: 1012.0000 - val_fp: 2904.0000 - val_tn: 602.0000 - val_fn: 62.0000 - val_accuracy: 0.3524 - val_precision: 0.2584 - val_recall: 0.9423 - val_auc: 0.5617\n",
            "Epoch 27/100\n",
            "322/322 [==============================] - 1s 3ms/step - loss: 0.6834 - tp: 3307.7461 - fp: 9774.8297 - tn: 6040.1796 - fn: 1612.8297 - accuracy: 0.4504 - precision: 0.2536 - recall: 0.6752 - auc: 0.5387 - val_loss: 0.6828 - val_tp: 1011.0000 - val_fp: 2901.0000 - val_tn: 605.0000 - val_fn: 63.0000 - val_accuracy: 0.3528 - val_precision: 0.2584 - val_recall: 0.9413 - val_auc: 0.5612\n",
            "Epoch 28/100\n",
            "322/322 [==============================] - 1s 3ms/step - loss: 0.6881 - tp: 3596.4272 - fp: 10435.8824 - tn: 5320.3189 - fn: 1382.9567 - accuracy: 0.4288 - precision: 0.2582 - recall: 0.7292 - auc: 0.5399 - val_loss: 0.6858 - val_tp: 1019.0000 - val_fp: 2914.0000 - val_tn: 592.0000 - val_fn: 55.0000 - val_accuracy: 0.3517 - val_precision: 0.2591 - val_recall: 0.9488 - val_auc: 0.5658\n",
            "Epoch 29/100\n",
            "322/322 [==============================] - 1s 3ms/step - loss: 0.6801 - tp: 3100.2817 - fp: 9098.2848 - tn: 6708.8235 - fn: 1828.1950 - accuracy: 0.4751 - precision: 0.2531 - recall: 0.6274 - auc: 0.5388 - val_loss: 0.6930 - val_tp: 1024.0000 - val_fp: 2938.0000 - val_tn: 568.0000 - val_fn: 50.0000 - val_accuracy: 0.3476 - val_precision: 0.2585 - val_recall: 0.9534 - val_auc: 0.5617\n",
            "Epoch 30/100\n",
            "322/322 [==============================] - 1s 3ms/step - loss: 0.6827 - tp: 3486.1424 - fp: 10358.4892 - tn: 5436.2817 - fn: 1454.6718 - accuracy: 0.4212 - precision: 0.2516 - recall: 0.7263 - auc: 0.5381 - val_loss: 0.6916 - val_tp: 1011.0000 - val_fp: 2883.0000 - val_tn: 623.0000 - val_fn: 63.0000 - val_accuracy: 0.3568 - val_precision: 0.2596 - val_recall: 0.9413 - val_auc: 0.5654\n",
            "Epoch 31/100\n",
            "322/322 [==============================] - 1s 3ms/step - loss: 0.6847 - tp: 4182.4644 - fp: 12338.4892 - tn: 3432.4025 - fn: 782.2291 - accuracy: 0.3570 - precision: 0.2527 - recall: 0.8639 - auc: 0.5394 - val_loss: 0.6911 - val_tp: 1016.0000 - val_fp: 2904.0000 - val_tn: 602.0000 - val_fn: 58.0000 - val_accuracy: 0.3533 - val_precision: 0.2592 - val_recall: 0.9460 - val_auc: 0.5606\n",
            "Epoch 32/100\n",
            "322/322 [==============================] - 1s 3ms/step - loss: 0.6849 - tp: 3404.2446 - fp: 9990.6471 - tn: 5794.9257 - fn: 1545.7678 - accuracy: 0.4430 - precision: 0.2539 - recall: 0.6867 - auc: 0.5320 - val_loss: 0.6806 - val_tp: 972.0000 - val_fp: 2781.0000 - val_tn: 725.0000 - val_fn: 102.0000 - val_accuracy: 0.3705 - val_precision: 0.2590 - val_recall: 0.9050 - val_auc: 0.5606\n",
            "Epoch 33/100\n",
            "322/322 [==============================] - 1s 3ms/step - loss: 0.6876 - tp: 4009.2539 - fp: 11750.5449 - tn: 3988.5604 - fn: 987.2260 - accuracy: 0.3744 - precision: 0.2553 - recall: 0.8266 - auc: 0.5480 - val_loss: 0.6848 - val_tp: 1007.0000 - val_fp: 2887.0000 - val_tn: 619.0000 - val_fn: 67.0000 - val_accuracy: 0.3550 - val_precision: 0.2586 - val_recall: 0.9376 - val_auc: 0.5629\n",
            "Epoch 34/100\n",
            "322/322 [==============================] - 1s 3ms/step - loss: 0.6851 - tp: 3143.3344 - fp: 9082.2539 - tn: 6707.0155 - fn: 1802.9814 - accuracy: 0.4708 - precision: 0.2552 - recall: 0.6354 - auc: 0.5402 - val_loss: 0.6896 - val_tp: 1012.0000 - val_fp: 2896.0000 - val_tn: 610.0000 - val_fn: 62.0000 - val_accuracy: 0.3541 - val_precision: 0.2590 - val_recall: 0.9423 - val_auc: 0.5716\n",
            "Epoch 35/100\n",
            "322/322 [==============================] - 1s 3ms/step - loss: 0.6882 - tp: 3356.3777 - fp: 9671.0464 - tn: 6084.2012 - fn: 1623.9598 - accuracy: 0.4530 - precision: 0.2590 - recall: 0.6781 - auc: 0.5402 - val_loss: 0.6770 - val_tp: 983.0000 - val_fp: 2807.0000 - val_tn: 699.0000 - val_fn: 91.0000 - val_accuracy: 0.3672 - val_precision: 0.2594 - val_recall: 0.9153 - val_auc: 0.5642\n",
            "Epoch 36/100\n",
            "322/322 [==============================] - 1s 3ms/step - loss: 0.6833 - tp: 3215.8173 - fp: 9154.0155 - tn: 6628.5697 - fn: 1737.1827 - accuracy: 0.4761 - precision: 0.2606 - recall: 0.6496 - auc: 0.5480 - val_loss: 0.6898 - val_tp: 991.0000 - val_fp: 2839.0000 - val_tn: 667.0000 - val_fn: 83.0000 - val_accuracy: 0.3620 - val_precision: 0.2587 - val_recall: 0.9227 - val_auc: 0.5623\n",
            "Epoch 37/100\n",
            "322/322 [==============================] - 1s 3ms/step - loss: 0.6825 - tp: 3301.1548 - fp: 9585.6409 - tn: 6183.2105 - fn: 1665.5789 - accuracy: 0.4565 - precision: 0.2551 - recall: 0.6646 - auc: 0.5438 - val_loss: 0.6838 - val_tp: 970.0000 - val_fp: 2770.0000 - val_tn: 736.0000 - val_fn: 104.0000 - val_accuracy: 0.3725 - val_precision: 0.2594 - val_recall: 0.9032 - val_auc: 0.5632\n",
            "Epoch 38/100\n",
            "322/322 [==============================] - 1s 3ms/step - loss: 0.6847 - tp: 3511.7183 - fp: 10273.9009 - tn: 5492.6254 - fn: 1457.3406 - accuracy: 0.4443 - precision: 0.2530 - recall: 0.6798 - auc: 0.5363 - val_loss: 0.6833 - val_tp: 994.0000 - val_fp: 2851.0000 - val_tn: 655.0000 - val_fn: 80.0000 - val_accuracy: 0.3600 - val_precision: 0.2585 - val_recall: 0.9255 - val_auc: 0.5629\n",
            "Epoch 39/100\n",
            "322/322 [==============================] - 1s 3ms/step - loss: 0.6832 - tp: 3360.7245 - fp: 9693.9412 - tn: 6090.9195 - fn: 1590.0000 - accuracy: 0.4559 - precision: 0.2578 - recall: 0.6789 - auc: 0.5441 - val_loss: 0.6833 - val_tp: 994.0000 - val_fp: 2845.0000 - val_tn: 661.0000 - val_fn: 80.0000 - val_accuracy: 0.3614 - val_precision: 0.2589 - val_recall: 0.9255 - val_auc: 0.5654\n",
            "Epoch 40/100\n",
            "322/322 [==============================] - 1s 3ms/step - loss: 0.6822 - tp: 3331.1207 - fp: 9620.8266 - tn: 6162.2724 - fn: 1621.3653 - accuracy: 0.4600 - precision: 0.2571 - recall: 0.6735 - auc: 0.5409 - val_loss: 0.6919 - val_tp: 1007.0000 - val_fp: 2879.0000 - val_tn: 627.0000 - val_fn: 67.0000 - val_accuracy: 0.3568 - val_precision: 0.2591 - val_recall: 0.9376 - val_auc: 0.5559\n",
            "Epoch 41/100\n",
            "322/322 [==============================] - 1s 3ms/step - loss: 0.6829 - tp: 3364.5356 - fp: 9593.6873 - tn: 6173.5573 - fn: 1603.8050 - accuracy: 0.4570 - precision: 0.2593 - recall: 0.6824 - auc: 0.5469 - val_loss: 0.6832 - val_tp: 1000.0000 - val_fp: 2860.0000 - val_tn: 646.0000 - val_fn: 74.0000 - val_accuracy: 0.3594 - val_precision: 0.2591 - val_recall: 0.9311 - val_auc: 0.5642\n",
            "Epoch 42/100\n",
            "322/322 [==============================] - 1s 3ms/step - loss: 0.6820 - tp: 3344.5325 - fp: 9638.6811 - tn: 6131.2539 - fn: 1621.1176 - accuracy: 0.4569 - precision: 0.2582 - recall: 0.6773 - auc: 0.5465 - val_loss: 0.6871 - val_tp: 1029.0000 - val_fp: 2966.0000 - val_tn: 540.0000 - val_fn: 45.0000 - val_accuracy: 0.3426 - val_precision: 0.2576 - val_recall: 0.9581 - val_auc: 0.5594\n",
            "Epoch 43/100\n",
            "322/322 [==============================] - 1s 3ms/step - loss: 0.6844 - tp: 3257.6068 - fp: 9384.7833 - tn: 6385.6037 - fn: 1707.5913 - accuracy: 0.4616 - precision: 0.2571 - recall: 0.6603 - auc: 0.5426 - val_loss: 0.6849 - val_tp: 1019.0000 - val_fp: 2934.0000 - val_tn: 572.0000 - val_fn: 55.0000 - val_accuracy: 0.3474 - val_precision: 0.2578 - val_recall: 0.9488 - val_auc: 0.5602\n",
            "Epoch 44/100\n",
            "322/322 [==============================] - 1s 3ms/step - loss: 0.6865 - tp: 3289.1517 - fp: 9609.6811 - tn: 6129.1889 - fn: 1707.5635 - accuracy: 0.4564 - precision: 0.2549 - recall: 0.6512 - auc: 0.5372 - val_loss: 0.6821 - val_tp: 1005.0000 - val_fp: 2868.0000 - val_tn: 638.0000 - val_fn: 69.0000 - val_accuracy: 0.3587 - val_precision: 0.2595 - val_recall: 0.9358 - val_auc: 0.5614\n",
            "Epoch 45/100\n",
            "322/322 [==============================] - 1s 3ms/step - loss: 0.6893 - tp: 4023.2260 - fp: 11446.5542 - tn: 4248.1950 - fn: 1017.6099 - accuracy: 0.4086 - precision: 0.2655 - recall: 0.7899 - auc: 0.5512 - val_loss: 0.6772 - val_tp: 1003.0000 - val_fp: 2844.0000 - val_tn: 662.0000 - val_fn: 71.0000 - val_accuracy: 0.3635 - val_precision: 0.2607 - val_recall: 0.9339 - val_auc: 0.5620\n",
            "Epoch 46/100\n",
            "322/322 [==============================] - 1s 3ms/step - loss: 0.6826 - tp: 3163.8019 - fp: 9145.0650 - tn: 6618.0712 - fn: 1808.6471 - accuracy: 0.4759 - precision: 0.2534 - recall: 0.6165 - auc: 0.5370 - val_loss: 0.6823 - val_tp: 990.0000 - val_fp: 2830.0000 - val_tn: 676.0000 - val_fn: 84.0000 - val_accuracy: 0.3638 - val_precision: 0.2592 - val_recall: 0.9218 - val_auc: 0.5611\n",
            "Epoch 47/100\n",
            "322/322 [==============================] - 1s 3ms/step - loss: 0.6805 - tp: 3204.0186 - fp: 9167.9938 - tn: 6625.1858 - fn: 1738.3870 - accuracy: 0.4771 - precision: 0.2586 - recall: 0.6409 - auc: 0.5485 - val_loss: 0.6840 - val_tp: 1020.0000 - val_fp: 2935.0000 - val_tn: 571.0000 - val_fn: 54.0000 - val_accuracy: 0.3474 - val_precision: 0.2579 - val_recall: 0.9497 - val_auc: 0.5612\n",
            "Epoch 48/100\n",
            "322/322 [==============================] - 1s 3ms/step - loss: 0.6812 - tp: 3302.7337 - fp: 9612.3498 - tn: 6168.4087 - fn: 1652.0929 - accuracy: 0.4540 - precision: 0.2541 - recall: 0.6729 - auc: 0.5400 - val_loss: 0.6779 - val_tp: 972.0000 - val_fp: 2767.0000 - val_tn: 739.0000 - val_fn: 102.0000 - val_accuracy: 0.3736 - val_precision: 0.2600 - val_recall: 0.9050 - val_auc: 0.5601\n",
            "Epoch 49/100\n",
            "322/322 [==============================] - 1s 3ms/step - loss: 0.6834 - tp: 3362.2167 - fp: 9529.4644 - tn: 6241.4365 - fn: 1602.4675 - accuracy: 0.4640 - precision: 0.2618 - recall: 0.6760 - auc: 0.5452 - val_loss: 0.6832 - val_tp: 1017.0000 - val_fp: 2909.0000 - val_tn: 597.0000 - val_fn: 57.0000 - val_accuracy: 0.3524 - val_precision: 0.2590 - val_recall: 0.9469 - val_auc: 0.5630\n",
            "Epoch 50/100\n",
            "322/322 [==============================] - 1s 3ms/step - loss: 0.6840 - tp: 3367.0000 - fp: 9814.4985 - tn: 5982.6502 - fn: 1571.4365 - accuracy: 0.4470 - precision: 0.2549 - recall: 0.6803 - auc: 0.5401 - val_loss: 0.6807 - val_tp: 1018.0000 - val_fp: 2925.0000 - val_tn: 581.0000 - val_fn: 56.0000 - val_accuracy: 0.3491 - val_precision: 0.2582 - val_recall: 0.9479 - val_auc: 0.5587\n",
            "Epoch 51/100\n",
            "322/322 [==============================] - 1s 3ms/step - loss: 0.6845 - tp: 3429.2477 - fp: 9908.9752 - tn: 5835.8266 - fn: 1561.5356 - accuracy: 0.4463 - precision: 0.2571 - recall: 0.6852 - auc: 0.5428 - val_loss: 0.6813 - val_tp: 1029.0000 - val_fp: 2991.0000 - val_tn: 515.0000 - val_fn: 45.0000 - val_accuracy: 0.3371 - val_precision: 0.2560 - val_recall: 0.9581 - val_auc: 0.5610\n",
            "Epoch 52/100\n",
            "322/322 [==============================] - 1s 3ms/step - loss: 0.6810 - tp: 3362.9505 - fp: 9629.3839 - tn: 6151.0341 - fn: 1592.2167 - accuracy: 0.4567 - precision: 0.2579 - recall: 0.6811 - auc: 0.5417 - val_loss: 0.6781 - val_tp: 1003.0000 - val_fp: 2864.0000 - val_tn: 642.0000 - val_fn: 71.0000 - val_accuracy: 0.3592 - val_precision: 0.2594 - val_recall: 0.9339 - val_auc: 0.5654\n",
            "Epoch 53/100\n",
            "322/322 [==============================] - 1s 3ms/step - loss: 0.6834 - tp: 3271.2477 - fp: 9420.6254 - tn: 6346.6873 - fn: 1697.0248 - accuracy: 0.4665 - precision: 0.2602 - recall: 0.6619 - auc: 0.5425 - val_loss: 0.6745 - val_tp: 1013.0000 - val_fp: 2899.0000 - val_tn: 607.0000 - val_fn: 61.0000 - val_accuracy: 0.3537 - val_precision: 0.2589 - val_recall: 0.9432 - val_auc: 0.5600\n",
            "Epoch 54/100\n",
            "322/322 [==============================] - 1s 3ms/step - loss: 0.6848 - tp: 3707.4675 - fp: 10577.1858 - tn: 5142.4118 - fn: 1308.5201 - accuracy: 0.4384 - precision: 0.2617 - recall: 0.7220 - auc: 0.5442 - val_loss: 0.6770 - val_tp: 1014.0000 - val_fp: 2906.0000 - val_tn: 600.0000 - val_fn: 60.0000 - val_accuracy: 0.3524 - val_precision: 0.2587 - val_recall: 0.9441 - val_auc: 0.5596\n",
            "Epoch 55/100\n",
            "322/322 [==============================] - 1s 3ms/step - loss: 0.6814 - tp: 3618.7337 - fp: 10596.8452 - tn: 5168.8297 - fn: 1351.1765 - accuracy: 0.4358 - precision: 0.2540 - recall: 0.7075 - auc: 0.5372 - val_loss: 0.6756 - val_tp: 1014.0000 - val_fp: 2917.0000 - val_tn: 589.0000 - val_fn: 60.0000 - val_accuracy: 0.3500 - val_precision: 0.2579 - val_recall: 0.9441 - val_auc: 0.5594\n",
            "Epoch 56/100\n",
            "322/322 [==============================] - 1s 3ms/step - loss: 0.6854 - tp: 4258.4923 - fp: 12336.5975 - tn: 3388.7585 - fn: 751.7368 - accuracy: 0.3781 - precision: 0.2600 - recall: 0.8397 - auc: 0.5468 - val_loss: 0.6707 - val_tp: 1021.0000 - val_fp: 2934.0000 - val_tn: 572.0000 - val_fn: 53.0000 - val_accuracy: 0.3478 - val_precision: 0.2582 - val_recall: 0.9507 - val_auc: 0.5613\n",
            "Epoch 57/100\n",
            "322/322 [==============================] - 1s 3ms/step - loss: 0.6785 - tp: 3582.3313 - fp: 10361.4799 - tn: 5424.9628 - fn: 1366.8111 - accuracy: 0.4467 - precision: 0.2550 - recall: 0.6985 - auc: 0.5396 - val_loss: 0.6771 - val_tp: 1028.0000 - val_fp: 2976.0000 - val_tn: 530.0000 - val_fn: 46.0000 - val_accuracy: 0.3402 - val_precision: 0.2567 - val_recall: 0.9572 - val_auc: 0.5558\n",
            "Epoch 58/100\n",
            "322/322 [==============================] - 1s 3ms/step - loss: 0.6823 - tp: 3901.7214 - fp: 11327.7957 - tn: 4452.5728 - fn: 1053.4954 - accuracy: 0.3928 - precision: 0.2571 - recall: 0.8091 - auc: 0.5407 - val_loss: 0.6773 - val_tp: 1024.0000 - val_fp: 2974.0000 - val_tn: 532.0000 - val_fn: 50.0000 - val_accuracy: 0.3397 - val_precision: 0.2561 - val_recall: 0.9534 - val_auc: 0.5559\n",
            "Epoch 59/100\n",
            "322/322 [==============================] - 1s 3ms/step - loss: 0.6817 - tp: 4395.8545 - fp: 12826.6347 - tn: 2930.2353 - fn: 582.8607 - accuracy: 0.3485 - precision: 0.2552 - recall: 0.8954 - auc: 0.5454 - val_loss: 0.6727 - val_tp: 998.0000 - val_fp: 2824.0000 - val_tn: 682.0000 - val_fn: 76.0000 - val_accuracy: 0.3668 - val_precision: 0.2611 - val_recall: 0.9292 - val_auc: 0.5641\n",
            "Epoch 60/100\n",
            "322/322 [==============================] - 1s 3ms/step - loss: 0.6795 - tp: 3510.3127 - fp: 10168.8359 - tn: 5604.7214 - fn: 1451.7152 - accuracy: 0.4422 - precision: 0.2562 - recall: 0.7018 - auc: 0.5423 - val_loss: 0.6838 - val_tp: 1014.0000 - val_fp: 2904.0000 - val_tn: 602.0000 - val_fn: 60.0000 - val_accuracy: 0.3528 - val_precision: 0.2588 - val_recall: 0.9441 - val_auc: 0.5596\n",
            "Epoch 61/100\n",
            "322/322 [==============================] - 1s 3ms/step - loss: 0.6841 - tp: 3571.2848 - fp: 10148.7276 - tn: 5590.0093 - fn: 1425.5635 - accuracy: 0.4421 - precision: 0.2625 - recall: 0.7178 - auc: 0.5473 - val_loss: 0.6697 - val_tp: 1000.0000 - val_fp: 2852.0000 - val_tn: 654.0000 - val_fn: 74.0000 - val_accuracy: 0.3611 - val_precision: 0.2596 - val_recall: 0.9311 - val_auc: 0.5627\n",
            "Epoch 62/100\n",
            "322/322 [==============================] - 1s 3ms/step - loss: 0.6809 - tp: 3402.1889 - fp: 9716.2508 - tn: 6039.7647 - fn: 1577.3808 - accuracy: 0.4580 - precision: 0.2596 - recall: 0.6815 - auc: 0.5458 - val_loss: 0.6762 - val_tp: 1002.0000 - val_fp: 2877.0000 - val_tn: 629.0000 - val_fn: 72.0000 - val_accuracy: 0.3561 - val_precision: 0.2583 - val_recall: 0.9330 - val_auc: 0.5591\n",
            "Epoch 63/100\n",
            "322/322 [==============================] - 1s 3ms/step - loss: 0.6849 - tp: 3442.4768 - fp: 9841.7616 - tn: 5878.6842 - fn: 1572.6625 - accuracy: 0.4511 - precision: 0.2601 - recall: 0.6840 - auc: 0.5399 - val_loss: 0.6656 - val_tp: 1002.0000 - val_fp: 2884.0000 - val_tn: 622.0000 - val_fn: 72.0000 - val_accuracy: 0.3546 - val_precision: 0.2578 - val_recall: 0.9330 - val_auc: 0.5599\n",
            "Epoch 64/100\n",
            "322/322 [==============================] - 1s 3ms/step - loss: 0.6794 - tp: 3365.7461 - fp: 9709.5046 - tn: 6069.3096 - fn: 1591.0248 - accuracy: 0.4566 - precision: 0.2573 - recall: 0.6765 - auc: 0.5456 - val_loss: 0.6787 - val_tp: 1019.0000 - val_fp: 2959.0000 - val_tn: 547.0000 - val_fn: 55.0000 - val_accuracy: 0.3419 - val_precision: 0.2562 - val_recall: 0.9488 - val_auc: 0.5563\n",
            "Epoch 65/100\n",
            "322/322 [==============================] - 1s 3ms/step - loss: 0.6798 - tp: 3584.7276 - fp: 10554.3406 - tn: 5222.0836 - fn: 1374.4334 - accuracy: 0.4325 - precision: 0.2528 - recall: 0.7053 - auc: 0.5395 - val_loss: 0.6750 - val_tp: 1026.0000 - val_fp: 2979.0000 - val_tn: 527.0000 - val_fn: 48.0000 - val_accuracy: 0.3391 - val_precision: 0.2562 - val_recall: 0.9553 - val_auc: 0.5578\n",
            "Epoch 66/100\n",
            "322/322 [==============================] - 1s 3ms/step - loss: 0.6853 - tp: 4078.6130 - fp: 11939.9040 - tn: 3784.6904 - fn: 932.3777 - accuracy: 0.3807 - precision: 0.2575 - recall: 0.8147 - auc: 0.5365 - val_loss: 0.6710 - val_tp: 1025.0000 - val_fp: 2974.0000 - val_tn: 532.0000 - val_fn: 49.0000 - val_accuracy: 0.3400 - val_precision: 0.2563 - val_recall: 0.9544 - val_auc: 0.5603\n",
            "Epoch 67/100\n",
            "322/322 [==============================] - 1s 3ms/step - loss: 0.6792 - tp: 3689.6966 - fp: 10770.2941 - tn: 4994.4675 - fn: 1281.1269 - accuracy: 0.4293 - precision: 0.2537 - recall: 0.7206 - auc: 0.5387 - val_loss: 0.6704 - val_tp: 995.0000 - val_fp: 2844.0000 - val_tn: 662.0000 - val_fn: 79.0000 - val_accuracy: 0.3618 - val_precision: 0.2592 - val_recall: 0.9264 - val_auc: 0.5601\n",
            "Epoch 68/100\n",
            "322/322 [==============================] - 1s 3ms/step - loss: 0.6835 - tp: 4466.4520 - fp: 13166.6068 - tn: 2582.3127 - fn: 520.2136 - accuracy: 0.3409 - precision: 0.2552 - recall: 0.8977 - auc: 0.5343 - val_loss: 0.6752 - val_tp: 1012.0000 - val_fp: 2924.0000 - val_tn: 582.0000 - val_fn: 62.0000 - val_accuracy: 0.3480 - val_precision: 0.2571 - val_recall: 0.9423 - val_auc: 0.5612\n",
            "Epoch 69/100\n",
            "322/322 [==============================] - 1s 3ms/step - loss: 0.6805 - tp: 4499.2415 - fp: 13297.2663 - tn: 2468.6718 - fn: 470.4056 - accuracy: 0.3363 - precision: 0.2535 - recall: 0.9077 - auc: 0.5426 - val_loss: 0.6738 - val_tp: 990.0000 - val_fp: 2825.0000 - val_tn: 681.0000 - val_fn: 84.0000 - val_accuracy: 0.3648 - val_precision: 0.2595 - val_recall: 0.9218 - val_auc: 0.5651\n",
            "Epoch 70/100\n",
            "322/322 [==============================] - 1s 3ms/step - loss: 0.6805 - tp: 4298.5759 - fp: 12681.8793 - tn: 3088.1827 - fn: 666.9474 - accuracy: 0.3609 - precision: 0.2546 - recall: 0.8624 - auc: 0.5455 - val_loss: 0.6761 - val_tp: 1005.0000 - val_fp: 2890.0000 - val_tn: 616.0000 - val_fn: 69.0000 - val_accuracy: 0.3539 - val_precision: 0.2580 - val_recall: 0.9358 - val_auc: 0.5599\n",
            "Epoch 71/100\n",
            "322/322 [==============================] - 1s 3ms/step - loss: 0.6833 - tp: 4572.7121 - fp: 13486.4458 - tn: 2266.5263 - fn: 409.9009 - accuracy: 0.3299 - precision: 0.2552 - recall: 0.9178 - auc: 0.5416 - val_loss: 0.6741 - val_tp: 1008.0000 - val_fp: 2892.0000 - val_tn: 614.0000 - val_fn: 66.0000 - val_accuracy: 0.3541 - val_precision: 0.2585 - val_recall: 0.9385 - val_auc: 0.5600\n",
            "Epoch 72/100\n",
            "322/322 [==============================] - 1s 3ms/step - loss: 0.6795 - tp: 4280.0867 - fp: 12532.5789 - tn: 3242.5418 - fn: 680.3777 - accuracy: 0.3605 - precision: 0.2550 - recall: 0.8705 - auc: 0.5479 - val_loss: 0.6751 - val_tp: 1002.0000 - val_fp: 2862.0000 - val_tn: 644.0000 - val_fn: 72.0000 - val_accuracy: 0.3594 - val_precision: 0.2593 - val_recall: 0.9330 - val_auc: 0.5625\n",
            "Epoch 73/100\n",
            "322/322 [==============================] - 1s 3ms/step - loss: 0.6769 - tp: 4044.1455 - fp: 11882.0526 - tn: 3908.9505 - fn: 900.4365 - accuracy: 0.3730 - precision: 0.2529 - recall: 0.8356 - auc: 0.5544 - val_loss: 0.6763 - val_tp: 1002.0000 - val_fp: 2889.0000 - val_tn: 617.0000 - val_fn: 72.0000 - val_accuracy: 0.3535 - val_precision: 0.2575 - val_recall: 0.9330 - val_auc: 0.5640\n",
            "Epoch 74/100\n",
            "322/322 [==============================] - 1s 3ms/step - loss: 0.6796 - tp: 4201.4675 - fp: 12242.9721 - tn: 3534.1053 - fn: 757.0402 - accuracy: 0.3619 - precision: 0.2552 - recall: 0.8691 - auc: 0.5530 - val_loss: 0.6767 - val_tp: 1015.0000 - val_fp: 2937.0000 - val_tn: 569.0000 - val_fn: 59.0000 - val_accuracy: 0.3459 - val_precision: 0.2568 - val_recall: 0.9451 - val_auc: 0.5709\n",
            "Epoch 75/100\n",
            "322/322 [==============================] - 1s 3ms/step - loss: 0.6779 - tp: 3964.8638 - fp: 11520.1331 - tn: 4246.6378 - fn: 1003.9505 - accuracy: 0.3999 - precision: 0.2538 - recall: 0.7868 - auc: 0.5474 - val_loss: 0.6720 - val_tp: 988.0000 - val_fp: 2833.0000 - val_tn: 673.0000 - val_fn: 86.0000 - val_accuracy: 0.3627 - val_precision: 0.2586 - val_recall: 0.9199 - val_auc: 0.5625\n",
            "Epoch 76/100\n",
            "322/322 [==============================] - 1s 3ms/step - loss: 0.6789 - tp: 3879.5820 - fp: 11438.3251 - tn: 4357.9102 - fn: 1059.7678 - accuracy: 0.3978 - precision: 0.2518 - recall: 0.7780 - auc: 0.5410 - val_loss: 0.6778 - val_tp: 1000.0000 - val_fp: 2876.0000 - val_tn: 630.0000 - val_fn: 74.0000 - val_accuracy: 0.3559 - val_precision: 0.2580 - val_recall: 0.9311 - val_auc: 0.5612\n",
            "Epoch 77/100\n",
            "322/322 [==============================] - 1s 3ms/step - loss: 0.6830 - tp: 4563.4025 - fp: 13421.6533 - tn: 2332.5294 - fn: 418.0000 - accuracy: 0.3309 - precision: 0.2544 - recall: 0.9170 - auc: 0.5390 - val_loss: 0.6762 - val_tp: 1004.0000 - val_fp: 2896.0000 - val_tn: 610.0000 - val_fn: 70.0000 - val_accuracy: 0.3524 - val_precision: 0.2574 - val_recall: 0.9348 - val_auc: 0.5612\n",
            "Epoch 78/100\n",
            "322/322 [==============================] - 1s 3ms/step - loss: 0.6779 - tp: 3500.3498 - fp: 10158.5975 - tn: 5644.5046 - fn: 1432.1331 - accuracy: 0.4487 - precision: 0.2551 - recall: 0.6921 - auc: 0.5407 - val_loss: 0.6743 - val_tp: 996.0000 - val_fp: 2846.0000 - val_tn: 660.0000 - val_fn: 78.0000 - val_accuracy: 0.3616 - val_precision: 0.2592 - val_recall: 0.9274 - val_auc: 0.5646\n",
            "Epoch 79/100\n",
            "322/322 [==============================] - 1s 3ms/step - loss: 0.6902 - tp: 4537.9598 - fp: 13164.0867 - tn: 2538.0341 - fn: 495.5046 - accuracy: 0.3394 - precision: 0.2591 - recall: 0.9104 - auc: 0.5435 - val_loss: 0.6685 - val_tp: 998.0000 - val_fp: 2844.0000 - val_tn: 662.0000 - val_fn: 76.0000 - val_accuracy: 0.3624 - val_precision: 0.2598 - val_recall: 0.9292 - val_auc: 0.5712\n",
            "Epoch 80/100\n",
            "322/322 [==============================] - 1s 3ms/step - loss: 0.6809 - tp: 3536.5139 - fp: 10246.8328 - tn: 5502.8266 - fn: 1449.4118 - accuracy: 0.4414 - precision: 0.2559 - recall: 0.6950 - auc: 0.5390 - val_loss: 0.6710 - val_tp: 995.0000 - val_fp: 2834.0000 - val_tn: 672.0000 - val_fn: 79.0000 - val_accuracy: 0.3640 - val_precision: 0.2599 - val_recall: 0.9264 - val_auc: 0.5638\n",
            "Epoch 81/100\n",
            "322/322 [==============================] - 1s 3ms/step - loss: 0.6804 - tp: 3912.2755 - fp: 11303.2198 - tn: 4458.2353 - fn: 1061.8545 - accuracy: 0.4128 - precision: 0.2561 - recall: 0.7647 - auc: 0.5470 - val_loss: 0.6701 - val_tp: 980.0000 - val_fp: 2777.0000 - val_tn: 729.0000 - val_fn: 94.0000 - val_accuracy: 0.3731 - val_precision: 0.2608 - val_recall: 0.9125 - val_auc: 0.5647\n",
            "Epoch 82/100\n",
            "322/322 [==============================] - 1s 3ms/step - loss: 0.6767 - tp: 4099.4458 - fp: 11926.1703 - tn: 3849.8235 - fn: 860.1455 - accuracy: 0.4038 - precision: 0.2541 - recall: 0.7836 - auc: 0.5481 - val_loss: 0.6697 - val_tp: 999.0000 - val_fp: 2834.0000 - val_tn: 672.0000 - val_fn: 75.0000 - val_accuracy: 0.3648 - val_precision: 0.2606 - val_recall: 0.9302 - val_auc: 0.5627\n",
            "Epoch 83/100\n",
            "322/322 [==============================] - 1s 3ms/step - loss: 0.6830 - tp: 4348.7554 - fp: 12743.6749 - tn: 3026.2291 - fn: 616.9257 - accuracy: 0.3442 - precision: 0.2541 - recall: 0.8912 - auc: 0.5439 - val_loss: 0.6754 - val_tp: 997.0000 - val_fp: 2836.0000 - val_tn: 670.0000 - val_fn: 77.0000 - val_accuracy: 0.3640 - val_precision: 0.2601 - val_recall: 0.9283 - val_auc: 0.5667\n",
            "Epoch 84/100\n",
            "322/322 [==============================] - 1s 3ms/step - loss: 0.6807 - tp: 4456.4892 - fp: 13068.3220 - tn: 2675.9598 - fn: 534.8142 - accuracy: 0.3432 - precision: 0.2543 - recall: 0.8955 - auc: 0.5454 - val_loss: 0.6699 - val_tp: 999.0000 - val_fp: 2859.0000 - val_tn: 647.0000 - val_fn: 75.0000 - val_accuracy: 0.3594 - val_precision: 0.2589 - val_recall: 0.9302 - val_auc: 0.5667\n",
            "Epoch 85/100\n",
            "322/322 [==============================] - 1s 3ms/step - loss: 0.6799 - tp: 3400.4799 - fp: 9645.3591 - tn: 6119.5789 - fn: 1570.1672 - accuracy: 0.4604 - precision: 0.2606 - recall: 0.6791 - auc: 0.5459 - val_loss: 0.6737 - val_tp: 1020.0000 - val_fp: 2956.0000 - val_tn: 550.0000 - val_fn: 54.0000 - val_accuracy: 0.3428 - val_precision: 0.2565 - val_recall: 0.9497 - val_auc: 0.5595\n",
            "Epoch 86/100\n",
            "322/322 [==============================] - 1s 3ms/step - loss: 0.6757 - tp: 3347.2477 - fp: 9810.7461 - tn: 6014.8173 - fn: 1562.7740 - accuracy: 0.4508 - precision: 0.2515 - recall: 0.6771 - auc: 0.5364 - val_loss: 0.6788 - val_tp: 1015.0000 - val_fp: 2927.0000 - val_tn: 579.0000 - val_fn: 59.0000 - val_accuracy: 0.3480 - val_precision: 0.2575 - val_recall: 0.9451 - val_auc: 0.5627\n",
            "Epoch 87/100\n",
            "322/322 [==============================] - 1s 3ms/step - loss: 0.6814 - tp: 4568.1889 - fp: 13378.1053 - tn: 2369.6780 - fn: 419.6130 - accuracy: 0.3259 - precision: 0.2529 - recall: 0.9266 - auc: 0.5431 - val_loss: 0.6724 - val_tp: 1011.0000 - val_fp: 2899.0000 - val_tn: 607.0000 - val_fn: 63.0000 - val_accuracy: 0.3533 - val_precision: 0.2586 - val_recall: 0.9413 - val_auc: 0.5610\n",
            "Epoch 88/100\n",
            "322/322 [==============================] - 1s 3ms/step - loss: 0.6805 - tp: 3670.6904 - fp: 10796.7554 - tn: 4978.4149 - fn: 1289.7245 - accuracy: 0.4244 - precision: 0.2517 - recall: 0.7151 - auc: 0.5342 - val_loss: 0.6741 - val_tp: 1006.0000 - val_fp: 2873.0000 - val_tn: 633.0000 - val_fn: 68.0000 - val_accuracy: 0.3579 - val_precision: 0.2593 - val_recall: 0.9367 - val_auc: 0.5682\n",
            "Epoch 89/100\n",
            "322/322 [==============================] - 1s 3ms/step - loss: 0.6820 - tp: 3798.4180 - fp: 10958.5387 - tn: 4801.0774 - fn: 1177.5511 - accuracy: 0.4093 - precision: 0.2600 - recall: 0.7763 - auc: 0.5465 - val_loss: 0.6743 - val_tp: 1009.0000 - val_fp: 2904.0000 - val_tn: 602.0000 - val_fn: 65.0000 - val_accuracy: 0.3517 - val_precision: 0.2579 - val_recall: 0.9395 - val_auc: 0.5579\n",
            "Epoch 90/100\n",
            "322/322 [==============================] - 1s 3ms/step - loss: 0.6860 - tp: 3348.7090 - fp: 9756.3498 - tn: 6065.4675 - fn: 1565.0588 - accuracy: 0.4543 - precision: 0.2535 - recall: 0.6740 - auc: 0.5362 - val_loss: 0.6794 - val_tp: 1017.0000 - val_fp: 2943.0000 - val_tn: 563.0000 - val_fn: 57.0000 - val_accuracy: 0.3450 - val_precision: 0.2568 - val_recall: 0.9469 - val_auc: 0.5601\n",
            "Epoch 91/100\n",
            "322/322 [==============================] - 1s 3ms/step - loss: 0.6822 - tp: 4031.2601 - fp: 11734.1238 - tn: 3998.4613 - fn: 971.7399 - accuracy: 0.3760 - precision: 0.2534 - recall: 0.8214 - auc: 0.5423 - val_loss: 0.6682 - val_tp: 1014.0000 - val_fp: 2917.0000 - val_tn: 589.0000 - val_fn: 60.0000 - val_accuracy: 0.3500 - val_precision: 0.2579 - val_recall: 0.9441 - val_auc: 0.5595\n",
            "Epoch 92/100\n",
            "322/322 [==============================] - 1s 3ms/step - loss: 0.6785 - tp: 3481.4923 - fp: 9899.0186 - tn: 5867.9814 - fn: 1487.0929 - accuracy: 0.4510 - precision: 0.2594 - recall: 0.6976 - auc: 0.5459 - val_loss: 0.6715 - val_tp: 1007.0000 - val_fp: 2895.0000 - val_tn: 611.0000 - val_fn: 67.0000 - val_accuracy: 0.3533 - val_precision: 0.2581 - val_recall: 0.9376 - val_auc: 0.5628\n",
            "Epoch 93/100\n",
            "322/322 [==============================] - 1s 3ms/step - loss: 0.6763 - tp: 3444.2693 - fp: 9809.0588 - tn: 5971.4118 - fn: 1510.8452 - accuracy: 0.4595 - precision: 0.2602 - recall: 0.6956 - auc: 0.5512 - val_loss: 0.6703 - val_tp: 1008.0000 - val_fp: 2885.0000 - val_tn: 621.0000 - val_fn: 66.0000 - val_accuracy: 0.3557 - val_precision: 0.2589 - val_recall: 0.9385 - val_auc: 0.5639\n",
            "Epoch 94/100\n",
            "322/322 [==============================] - 1s 3ms/step - loss: 0.6801 - tp: 3735.0372 - fp: 10807.3034 - tn: 4946.0650 - fn: 1247.1796 - accuracy: 0.4309 - precision: 0.2586 - recall: 0.7287 - auc: 0.5430 - val_loss: 0.6720 - val_tp: 1013.0000 - val_fp: 2915.0000 - val_tn: 591.0000 - val_fn: 61.0000 - val_accuracy: 0.3502 - val_precision: 0.2579 - val_recall: 0.9432 - val_auc: 0.5617\n",
            "Epoch 95/100\n",
            "322/322 [==============================] - 1s 3ms/step - loss: 0.6838 - tp: 4389.5882 - fp: 12756.6130 - tn: 2957.9938 - fn: 631.3901 - accuracy: 0.3643 - precision: 0.2569 - recall: 0.8513 - auc: 0.5359 - val_loss: 0.6681 - val_tp: 997.0000 - val_fp: 2837.0000 - val_tn: 669.0000 - val_fn: 77.0000 - val_accuracy: 0.3638 - val_precision: 0.2600 - val_recall: 0.9283 - val_auc: 0.5632\n",
            "Epoch 96/100\n",
            "322/322 [==============================] - 1s 3ms/step - loss: 0.6788 - tp: 4627.1115 - fp: 13592.8824 - tn: 2178.9536 - fn: 336.6378 - accuracy: 0.3315 - precision: 0.2546 - recall: 0.9266 - auc: 0.5444 - val_loss: 0.6752 - val_tp: 1007.0000 - val_fp: 2902.0000 - val_tn: 604.0000 - val_fn: 67.0000 - val_accuracy: 0.3517 - val_precision: 0.2576 - val_recall: 0.9376 - val_auc: 0.5637\n",
            "Epoch 97/100\n",
            "322/322 [==============================] - 1s 3ms/step - loss: 0.6781 - tp: 3794.1053 - fp: 11170.1579 - tn: 4625.1641 - fn: 1146.1579 - accuracy: 0.3963 - precision: 0.2525 - recall: 0.7860 - auc: 0.5388 - val_loss: 0.6744 - val_tp: 1014.0000 - val_fp: 2925.0000 - val_tn: 581.0000 - val_fn: 60.0000 - val_accuracy: 0.3483 - val_precision: 0.2574 - val_recall: 0.9441 - val_auc: 0.5641\n",
            "Epoch 98/100\n",
            "322/322 [==============================] - 1s 3ms/step - loss: 0.6822 - tp: 4509.5944 - fp: 13087.1641 - tn: 2641.1796 - fn: 497.6471 - accuracy: 0.3443 - precision: 0.2570 - recall: 0.9015 - auc: 0.5447 - val_loss: 0.6691 - val_tp: 996.0000 - val_fp: 2861.0000 - val_tn: 645.0000 - val_fn: 78.0000 - val_accuracy: 0.3583 - val_precision: 0.2582 - val_recall: 0.9274 - val_auc: 0.5606\n",
            "Epoch 99/100\n",
            "322/322 [==============================] - 1s 3ms/step - loss: 0.6822 - tp: 3901.3746 - fp: 11045.8885 - tn: 4671.9381 - fn: 1116.3839 - accuracy: 0.4248 - precision: 0.2636 - recall: 0.7604 - auc: 0.5469 - val_loss: 0.6686 - val_tp: 1008.0000 - val_fp: 2904.0000 - val_tn: 602.0000 - val_fn: 66.0000 - val_accuracy: 0.3515 - val_precision: 0.2577 - val_recall: 0.9385 - val_auc: 0.5649\n",
            "Epoch 100/100\n",
            "322/322 [==============================] - 1s 3ms/step - loss: 0.6794 - tp: 3426.0774 - fp: 9811.5542 - tn: 5946.2198 - fn: 1551.7337 - accuracy: 0.4520 - precision: 0.2580 - recall: 0.6845 - auc: 0.5464 - val_loss: 0.6729 - val_tp: 1005.0000 - val_fp: 2889.0000 - val_tn: 617.0000 - val_fn: 69.0000 - val_accuracy: 0.3541 - val_precision: 0.2581 - val_recall: 0.9358 - val_auc: 0.5617\n"
          ],
          "name": "stdout"
        }
      ]
    },
    {
      "cell_type": "code",
      "metadata": {
        "colab": {
          "base_uri": "https://localhost:8080/",
          "height": 610
        },
        "id": "4mvhAUsUEmF_",
        "outputId": "39652d57-983b-437f-bc1a-be521f2f4d3a"
      },
      "source": [
        "plot_metrics(weighted_history)"
      ],
      "execution_count": 328,
      "outputs": [
        {
          "output_type": "display_data",
          "data": {
            "image/png": "[encoded data removed]",
            "text/plain": [
              "<Figure size 864x720 with 4 Axes>"
            ]
          },
          "metadata": {
            "tags": [],
            "needs_background": "light"
          }
        }
      ]
    },
    {
      "cell_type": "code",
      "metadata": {
        "id": "xmocWMJ9EmDE"
      },
      "source": [
        "train_predictions_weighted = weighted_model.predict(train_features, batch_size=BATCH_SIZE)\r\n",
        "test_predictions_weighted = weighted_model.predict(test_features, batch_size=BATCH_SIZE)"
      ],
      "execution_count": 329,
      "outputs": []
    },
    {
      "cell_type": "code",
      "metadata": {
        "colab": {
          "base_uri": "https://localhost:8080/",
          "height": 623
        },
        "id": "-SkBcadyEmAg",
        "outputId": "19a498ea-9713-44e2-9fa9-6bf18df3570c"
      },
      "source": [
        "weighted_results = weighted_model.evaluate(test_features, test_labels,\r\n",
        "                                           batch_size=BATCH_SIZE, verbose=0)\r\n",
        "for name, value in zip(weighted_model.metrics_names, weighted_results):\r\n",
        "  print(name, ': ', value)\r\n",
        "print()\r\n",
        "\r\n",
        "plot_cm(test_labels, test_predictions_weighted)"
      ],
      "execution_count": 330,
      "outputs": [
        {
          "output_type": "stream",
          "text": [
            "loss :  0.6728733777999878\n",
            "tp :  1160.0\n",
            "fp :  3188.0\n",
            "tn :  638.0\n",
            "fn :  103.0\n",
            "accuracy :  0.35331106185913086\n",
            "precision :  0.2667893171310425\n",
            "recall :  0.9184481501579285\n",
            "auc :  0.5517199635505676\n",
            "\n",
            "Legitimate Transactions Detected (True Negatives):  638\n",
            "Legitimate Transactions Incorrectly Detected (False Positives):  3188\n",
            "Fraudulent Transactions Missed (False Negatives):  103\n",
            "Fraudulent Transactions Detected (True Positives):  1160\n",
            "Total Fraudulent Transactions:  1263\n"
          ],
          "name": "stdout"
        },
        {
          "output_type": "display_data",
          "data": {
            "image/png": "[encoded data removed]",
            "text/plain": [
              "<Figure size 360x360 with 2 Axes>"
            ]
          },
          "metadata": {
            "tags": [],
            "needs_background": "light"
          }
        }
      ]
    },
    {
      "cell_type": "code",
      "metadata": {
        "colab": {
          "base_uri": "https://localhost:8080/",
          "height": 624
        },
        "id": "b4OZesa_B9fY",
        "outputId": "ff4f6433-39ce-44bb-e721-f305aac65582"
      },
      "source": [
        "plot_roc(\"Train Baseline\", train_labels, train_predictions_baseline, color=colors[0])\r\n",
        "plot_roc(\"Test Baseline\", test_labels, test_predictions_baseline, color=colors[0], linestyle='--')\r\n",
        "\r\n",
        "plot_roc(\"Train Weighted\", train_labels, train_predictions_weighted, color=colors[1])\r\n",
        "plot_roc(\"Test Weighted\", test_labels, test_predictions_weighted, color=colors[1], linestyle='--')\r\n",
        "\r\n",
        "\r\n",
        "plt.legend(loc='lower right')"
      ],
      "execution_count": 256,
      "outputs": [
        {
          "output_type": "execute_result",
          "data": {
            "text/plain": [
              "<matplotlib.legend.Legend at 0x7f508a2bfad0>"
            ]
          },
          "metadata": {
            "tags": []
          },
          "execution_count": 256
        },
        {
          "output_type": "display_data",
          "data": {
            "image/png": "[encoded data removed]",
            "text/plain": [
              "<Figure size 864x720 with 1 Axes>"
            ]
          },
          "metadata": {
            "tags": [],
            "needs_background": "light"
          }
        }
      ]
    },
    {
      "cell_type": "code",
      "metadata": {
        "id": "PEOqmi3vFIdS"
      },
      "source": [
        "pos_features = train_features[bool_train_labels]\r\n",
        "neg_features = train_features[~bool_train_labels]\r\n",
        "\r\n",
        "pos_labels = train_labels[bool_train_labels]\r\n",
        "neg_labels = train_labels[~bool_train_labels]"
      ],
      "execution_count": 257,
      "outputs": []
    },
    {
      "cell_type": "code",
      "metadata": {
        "colab": {
          "base_uri": "https://localhost:8080/",
          "height": 432
        },
        "id": "yyma2JbGFIaA",
        "outputId": "52c4a788-e73c-4ad4-cb99-58919fbd57ff"
      },
      "source": [
        "ids = np.arange(len(pos_features))\r\n",
        "choices = np.random.choice(ids, len(neg_features))\r\n",
        "\r\n",
        "res_pos_features = pos_features[choices]\r\n",
        "res_pos_labels = pos_labels[choices]\r\n",
        "\r\n",
        "res_pos_features.shape"
      ],
      "execution_count": 258,
      "outputs": [
        {
          "output_type": "error",
          "ename": "KeyError",
          "evalue": "ignored",
          "traceback": [
            "\u001b[0;31m---------------------------------------------------------------------------\u001b[0m",
            "\u001b[0;31mKeyError\u001b[0m                                  Traceback (most recent call last)",
            "\u001b[0;32m<ipython-input-258-8cc3f3e70986>\u001b[0m in \u001b[0;36m<module>\u001b[0;34m()\u001b[0m\n\u001b[1;32m      3\u001b[0m \u001b[0;34m\u001b[0m\u001b[0m\n\u001b[1;32m      4\u001b[0m \u001b[0mres_pos_features\u001b[0m \u001b[0;34m=\u001b[0m \u001b[0mpos_features\u001b[0m\u001b[0;34m[\u001b[0m\u001b[0mchoices\u001b[0m\u001b[0;34m]\u001b[0m\u001b[0;34m\u001b[0m\u001b[0;34m\u001b[0m\u001b[0m\n\u001b[0;32m----> 5\u001b[0;31m \u001b[0mres_pos_labels\u001b[0m \u001b[0;34m=\u001b[0m \u001b[0mpos_labels\u001b[0m\u001b[0;34m[\u001b[0m\u001b[0mchoices\u001b[0m\u001b[0;34m]\u001b[0m\u001b[0;34m\u001b[0m\u001b[0;34m\u001b[0m\u001b[0m\n\u001b[0m\u001b[1;32m      6\u001b[0m \u001b[0;34m\u001b[0m\u001b[0m\n\u001b[1;32m      7\u001b[0m \u001b[0mres_pos_features\u001b[0m\u001b[0;34m.\u001b[0m\u001b[0mshape\u001b[0m\u001b[0;34m\u001b[0m\u001b[0;34m\u001b[0m\u001b[0m\n",
            "\u001b[0;32m/usr/local/lib/python3.7/dist-packages/pandas/core/series.py\u001b[0m in \u001b[0;36m__getitem__\u001b[0;34m(self, key)\u001b[0m\n\u001b[1;32m    904\u001b[0m             \u001b[0;32mreturn\u001b[0m \u001b[0mself\u001b[0m\u001b[0;34m.\u001b[0m\u001b[0m_get_values\u001b[0m\u001b[0;34m(\u001b[0m\u001b[0mkey\u001b[0m\u001b[0;34m)\u001b[0m\u001b[0;34m\u001b[0m\u001b[0;34m\u001b[0m\u001b[0m\n\u001b[1;32m    905\u001b[0m \u001b[0;34m\u001b[0m\u001b[0m\n\u001b[0;32m--> 906\u001b[0;31m         \u001b[0;32mreturn\u001b[0m \u001b[0mself\u001b[0m\u001b[0;34m.\u001b[0m\u001b[0m_get_with\u001b[0m\u001b[0;34m(\u001b[0m\u001b[0mkey\u001b[0m\u001b[0;34m)\u001b[0m\u001b[0;34m\u001b[0m\u001b[0;34m\u001b[0m\u001b[0m\n\u001b[0m\u001b[1;32m    907\u001b[0m \u001b[0;34m\u001b[0m\u001b[0m\n\u001b[1;32m    908\u001b[0m     \u001b[0;32mdef\u001b[0m \u001b[0m_get_with\u001b[0m\u001b[0;34m(\u001b[0m\u001b[0mself\u001b[0m\u001b[0;34m,\u001b[0m \u001b[0mkey\u001b[0m\u001b[0;34m)\u001b[0m\u001b[0;34m:\u001b[0m\u001b[0;34m\u001b[0m\u001b[0;34m\u001b[0m\u001b[0m\n",
            "\u001b[0;32m/usr/local/lib/python3.7/dist-packages/pandas/core/series.py\u001b[0m in \u001b[0;36m_get_with\u001b[0;34m(self, key)\u001b[0m\n\u001b[1;32m    939\u001b[0m             \u001b[0;31m#  (i.e. self.iloc) or label-based (i.e. self.loc)\u001b[0m\u001b[0;34m\u001b[0m\u001b[0;34m\u001b[0m\u001b[0;34m\u001b[0m\u001b[0m\n\u001b[1;32m    940\u001b[0m             \u001b[0;32mif\u001b[0m \u001b[0;32mnot\u001b[0m \u001b[0mself\u001b[0m\u001b[0;34m.\u001b[0m\u001b[0mindex\u001b[0m\u001b[0;34m.\u001b[0m\u001b[0m_should_fallback_to_positional\u001b[0m\u001b[0;34m(\u001b[0m\u001b[0;34m)\u001b[0m\u001b[0;34m:\u001b[0m\u001b[0;34m\u001b[0m\u001b[0;34m\u001b[0m\u001b[0m\n\u001b[0;32m--> 941\u001b[0;31m                 \u001b[0;32mreturn\u001b[0m \u001b[0mself\u001b[0m\u001b[0;34m.\u001b[0m\u001b[0mloc\u001b[0m\u001b[0;34m[\u001b[0m\u001b[0mkey\u001b[0m\u001b[0;34m]\u001b[0m\u001b[0;34m\u001b[0m\u001b[0;34m\u001b[0m\u001b[0m\n\u001b[0m\u001b[1;32m    942\u001b[0m             \u001b[0;32melse\u001b[0m\u001b[0;34m:\u001b[0m\u001b[0;34m\u001b[0m\u001b[0;34m\u001b[0m\u001b[0m\n\u001b[1;32m    943\u001b[0m                 \u001b[0;32mreturn\u001b[0m \u001b[0mself\u001b[0m\u001b[0;34m.\u001b[0m\u001b[0miloc\u001b[0m\u001b[0;34m[\u001b[0m\u001b[0mkey\u001b[0m\u001b[0;34m]\u001b[0m\u001b[0;34m\u001b[0m\u001b[0;34m\u001b[0m\u001b[0m\n",
            "\u001b[0;32m/usr/local/lib/python3.7/dist-packages/pandas/core/indexing.py\u001b[0m in \u001b[0;36m__getitem__\u001b[0;34m(self, key)\u001b[0m\n\u001b[1;32m    877\u001b[0m \u001b[0;34m\u001b[0m\u001b[0m\n\u001b[1;32m    878\u001b[0m             \u001b[0mmaybe_callable\u001b[0m \u001b[0;34m=\u001b[0m \u001b[0mcom\u001b[0m\u001b[0;34m.\u001b[0m\u001b[0mapply_if_callable\u001b[0m\u001b[0;34m(\u001b[0m\u001b[0mkey\u001b[0m\u001b[0;34m,\u001b[0m \u001b[0mself\u001b[0m\u001b[0;34m.\u001b[0m\u001b[0mobj\u001b[0m\u001b[0;34m)\u001b[0m\u001b[0;34m\u001b[0m\u001b[0;34m\u001b[0m\u001b[0m\n\u001b[0;32m--> 879\u001b[0;31m             \u001b[0;32mreturn\u001b[0m \u001b[0mself\u001b[0m\u001b[0;34m.\u001b[0m\u001b[0m_getitem_axis\u001b[0m\u001b[0;34m(\u001b[0m\u001b[0mmaybe_callable\u001b[0m\u001b[0;34m,\u001b[0m \u001b[0maxis\u001b[0m\u001b[0;34m=\u001b[0m\u001b[0maxis\u001b[0m\u001b[0;34m)\u001b[0m\u001b[0;34m\u001b[0m\u001b[0;34m\u001b[0m\u001b[0m\n\u001b[0m\u001b[1;32m    880\u001b[0m \u001b[0;34m\u001b[0m\u001b[0m\n\u001b[1;32m    881\u001b[0m     \u001b[0;32mdef\u001b[0m \u001b[0m_is_scalar_access\u001b[0m\u001b[0;34m(\u001b[0m\u001b[0mself\u001b[0m\u001b[0;34m,\u001b[0m \u001b[0mkey\u001b[0m\u001b[0;34m:\u001b[0m \u001b[0mTuple\u001b[0m\u001b[0;34m)\u001b[0m\u001b[0;34m:\u001b[0m\u001b[0;34m\u001b[0m\u001b[0;34m\u001b[0m\u001b[0m\n",
            "\u001b[0;32m/usr/local/lib/python3.7/dist-packages/pandas/core/indexing.py\u001b[0m in \u001b[0;36m_getitem_axis\u001b[0;34m(self, key, axis)\u001b[0m\n\u001b[1;32m   1097\u001b[0m                     \u001b[0;32mraise\u001b[0m \u001b[0mValueError\u001b[0m\u001b[0;34m(\u001b[0m\u001b[0;34m\"Cannot index with multidimensional key\"\u001b[0m\u001b[0;34m)\u001b[0m\u001b[0;34m\u001b[0m\u001b[0;34m\u001b[0m\u001b[0m\n\u001b[1;32m   1098\u001b[0m \u001b[0;34m\u001b[0m\u001b[0m\n\u001b[0;32m-> 1099\u001b[0;31m                 \u001b[0;32mreturn\u001b[0m \u001b[0mself\u001b[0m\u001b[0;34m.\u001b[0m\u001b[0m_getitem_iterable\u001b[0m\u001b[0;34m(\u001b[0m\u001b[0mkey\u001b[0m\u001b[0;34m,\u001b[0m \u001b[0maxis\u001b[0m\u001b[0;34m=\u001b[0m\u001b[0maxis\u001b[0m\u001b[0;34m)\u001b[0m\u001b[0;34m\u001b[0m\u001b[0;34m\u001b[0m\u001b[0m\n\u001b[0m\u001b[1;32m   1100\u001b[0m \u001b[0;34m\u001b[0m\u001b[0m\n\u001b[1;32m   1101\u001b[0m             \u001b[0;31m# nested tuple slicing\u001b[0m\u001b[0;34m\u001b[0m\u001b[0;34m\u001b[0m\u001b[0;34m\u001b[0m\u001b[0m\n",
            "\u001b[0;32m/usr/local/lib/python3.7/dist-packages/pandas/core/indexing.py\u001b[0m in \u001b[0;36m_getitem_iterable\u001b[0;34m(self, key, axis)\u001b[0m\n\u001b[1;32m   1035\u001b[0m \u001b[0;34m\u001b[0m\u001b[0m\n\u001b[1;32m   1036\u001b[0m         \u001b[0;31m# A collection of keys\u001b[0m\u001b[0;34m\u001b[0m\u001b[0;34m\u001b[0m\u001b[0;34m\u001b[0m\u001b[0m\n\u001b[0;32m-> 1037\u001b[0;31m         \u001b[0mkeyarr\u001b[0m\u001b[0;34m,\u001b[0m \u001b[0mindexer\u001b[0m \u001b[0;34m=\u001b[0m \u001b[0mself\u001b[0m\u001b[0;34m.\u001b[0m\u001b[0m_get_listlike_indexer\u001b[0m\u001b[0;34m(\u001b[0m\u001b[0mkey\u001b[0m\u001b[0;34m,\u001b[0m \u001b[0maxis\u001b[0m\u001b[0;34m,\u001b[0m \u001b[0mraise_missing\u001b[0m\u001b[0;34m=\u001b[0m\u001b[0;32mFalse\u001b[0m\u001b[0;34m)\u001b[0m\u001b[0;34m\u001b[0m\u001b[0;34m\u001b[0m\u001b[0m\n\u001b[0m\u001b[1;32m   1038\u001b[0m         return self.obj._reindex_with_indexers(\n\u001b[1;32m   1039\u001b[0m             \u001b[0;34m{\u001b[0m\u001b[0maxis\u001b[0m\u001b[0;34m:\u001b[0m \u001b[0;34m[\u001b[0m\u001b[0mkeyarr\u001b[0m\u001b[0;34m,\u001b[0m \u001b[0mindexer\u001b[0m\u001b[0;34m]\u001b[0m\u001b[0;34m}\u001b[0m\u001b[0;34m,\u001b[0m \u001b[0mcopy\u001b[0m\u001b[0;34m=\u001b[0m\u001b[0;32mTrue\u001b[0m\u001b[0;34m,\u001b[0m \u001b[0mallow_dups\u001b[0m\u001b[0;34m=\u001b[0m\u001b[0;32mTrue\u001b[0m\u001b[0;34m\u001b[0m\u001b[0;34m\u001b[0m\u001b[0m\n",
            "\u001b[0;32m/usr/local/lib/python3.7/dist-packages/pandas/core/indexing.py\u001b[0m in \u001b[0;36m_get_listlike_indexer\u001b[0;34m(self, key, axis, raise_missing)\u001b[0m\n\u001b[1;32m   1252\u001b[0m             \u001b[0mkeyarr\u001b[0m\u001b[0;34m,\u001b[0m \u001b[0mindexer\u001b[0m\u001b[0;34m,\u001b[0m \u001b[0mnew_indexer\u001b[0m \u001b[0;34m=\u001b[0m \u001b[0max\u001b[0m\u001b[0;34m.\u001b[0m\u001b[0m_reindex_non_unique\u001b[0m\u001b[0;34m(\u001b[0m\u001b[0mkeyarr\u001b[0m\u001b[0;34m)\u001b[0m\u001b[0;34m\u001b[0m\u001b[0;34m\u001b[0m\u001b[0m\n\u001b[1;32m   1253\u001b[0m \u001b[0;34m\u001b[0m\u001b[0m\n\u001b[0;32m-> 1254\u001b[0;31m         \u001b[0mself\u001b[0m\u001b[0;34m.\u001b[0m\u001b[0m_validate_read_indexer\u001b[0m\u001b[0;34m(\u001b[0m\u001b[0mkeyarr\u001b[0m\u001b[0;34m,\u001b[0m \u001b[0mindexer\u001b[0m\u001b[0;34m,\u001b[0m \u001b[0maxis\u001b[0m\u001b[0;34m,\u001b[0m \u001b[0mraise_missing\u001b[0m\u001b[0;34m=\u001b[0m\u001b[0mraise_missing\u001b[0m\u001b[0;34m)\u001b[0m\u001b[0;34m\u001b[0m\u001b[0;34m\u001b[0m\u001b[0m\n\u001b[0m\u001b[1;32m   1255\u001b[0m         \u001b[0;32mreturn\u001b[0m \u001b[0mkeyarr\u001b[0m\u001b[0;34m,\u001b[0m \u001b[0mindexer\u001b[0m\u001b[0;34m\u001b[0m\u001b[0;34m\u001b[0m\u001b[0m\n\u001b[1;32m   1256\u001b[0m \u001b[0;34m\u001b[0m\u001b[0m\n",
            "\u001b[0;32m/usr/local/lib/python3.7/dist-packages/pandas/core/indexing.py\u001b[0m in \u001b[0;36m_validate_read_indexer\u001b[0;34m(self, key, indexer, axis, raise_missing)\u001b[0m\n\u001b[1;32m   1314\u001b[0m                 \u001b[0;32mwith\u001b[0m \u001b[0moption_context\u001b[0m\u001b[0;34m(\u001b[0m\u001b[0;34m\"display.max_seq_items\"\u001b[0m\u001b[0;34m,\u001b[0m \u001b[0;36m10\u001b[0m\u001b[0;34m,\u001b[0m \u001b[0;34m\"display.width\"\u001b[0m\u001b[0;34m,\u001b[0m \u001b[0;36m80\u001b[0m\u001b[0;34m)\u001b[0m\u001b[0;34m:\u001b[0m\u001b[0;34m\u001b[0m\u001b[0;34m\u001b[0m\u001b[0m\n\u001b[1;32m   1315\u001b[0m                     raise KeyError(\n\u001b[0;32m-> 1316\u001b[0;31m                         \u001b[0;34m\"Passing list-likes to .loc or [] with any missing labels \"\u001b[0m\u001b[0;34m\u001b[0m\u001b[0;34m\u001b[0m\u001b[0m\n\u001b[0m\u001b[1;32m   1317\u001b[0m                         \u001b[0;34m\"is no longer supported. \"\u001b[0m\u001b[0;34m\u001b[0m\u001b[0;34m\u001b[0m\u001b[0m\n\u001b[1;32m   1318\u001b[0m                         \u001b[0;34mf\"The following labels were missing: {not_found}. \"\u001b[0m\u001b[0;34m\u001b[0m\u001b[0;34m\u001b[0m\u001b[0m\n",
            "\u001b[0;31mKeyError\u001b[0m: \"Passing list-likes to .loc or [] with any missing labels is no longer supported. The following labels were missing: Int64Index([4667, 5475, 7916, 1253, 3384,\\n            ...\\n            1731,  806,  402,  262, 9556],\\n           dtype='int64', length=25055). See https://pandas.pydata.org/pandas-docs/stable/user_guide/indexing.html#deprecate-loc-reindex-listlike\""
          ]
        }
      ]
    },
    {
      "cell_type": "code",
      "metadata": {
        "id": "QQT_0uEcFIYN"
      },
      "source": [
        ""
      ],
      "execution_count": null,
      "outputs": []
    },
    {
      "cell_type": "code",
      "metadata": {
        "id": "aqeptFcTFIWe"
      },
      "source": [
        ""
      ],
      "execution_count": null,
      "outputs": []
    },
    {
      "cell_type": "code",
      "metadata": {
        "id": "qZL9THidFIUn"
      },
      "source": [
        ""
      ],
      "execution_count": null,
      "outputs": []
    },
    {
      "cell_type": "code",
      "metadata": {
        "id": "B71stakTFIRB"
      },
      "source": [
        ""
      ],
      "execution_count": null,
      "outputs": []
    },
    {
      "cell_type": "code",
      "metadata": {
        "colab": {
          "base_uri": "https://localhost:8080/"
        },
        "id": "G6nyG-pQvD7N",
        "outputId": "50183708-37e9-4ea9-8775-ddfd066adcea"
      },
      "source": [
        "df1.columns"
      ],
      "execution_count": 59,
      "outputs": [
        {
          "output_type": "execute_result",
          "data": {
            "text/plain": [
              "Index(['City_Code', 'Region_Code', 'Accomodation_Type', 'Reco_Insurance_Type',\n",
              "       'Upper_Age', 'Lower_Age', 'Is_Spouse', 'Health Indicator',\n",
              "       'Holding_Policy_Duration', 'Holding_Policy_Type', 'Reco_Policy_Cat',\n",
              "       'Reco_Policy_Premium'],\n",
              "      dtype='object')"
            ]
          },
          "metadata": {
            "tags": []
          },
          "execution_count": 59
        }
      ]
    },
    {
      "cell_type": "code",
      "metadata": {
        "id": "7PNF0uJpXKlC"
      },
      "source": [
        "#dealing with categorical variables\r\n",
        "from sklearn.compose import ColumnTransformer\r\n",
        "from sklearn.preprocessing import OneHotEncoder\r\n",
        "ct = ColumnTransformer(transformers=[('encoder', OneHotEncoder(), [2,3,6])], remainder='passthrough')\r\n",
        "X = np.array(ct.fit_transform(df1))\r\n",
        "X_11=X\r\n",
        "X_t = np.array(ct.transform(df2))"
      ],
      "execution_count": null,
      "outputs": []
    },
    {
      "cell_type": "code",
      "metadata": {
        "colab": {
          "base_uri": "https://localhost:8080/"
        },
        "id": "zk3CHCcnYLk1",
        "outputId": "01cbed54-89b3-4bde-8923-2e4e02bd3aec"
      },
      "source": [
        "print(X.shape)\r\n",
        "X[1]"
      ],
      "execution_count": 61,
      "outputs": [
        {
          "output_type": "stream",
          "text": [
            "(50882, 15)\n"
          ],
          "name": "stdout"
        },
        {
          "output_type": "execute_result",
          "data": {
            "text/plain": [
              "array([1.000e+00, 0.000e+00, 0.000e+00, 1.000e+00, 1.000e+00, 0.000e+00,\n",
              "       4.000e+00, 1.117e+03, 7.500e+01, 2.200e+01, 2.000e+00, 8.500e+00,\n",
              "       2.000e+00, 2.200e+01, 3.051e+04])"
            ]
          },
          "metadata": {
            "tags": []
          },
          "execution_count": 61
        }
      ]
    },
    {
      "cell_type": "code",
      "metadata": {
        "colab": {
          "base_uri": "https://localhost:8080/"
        },
        "id": "_tcT3_iGYM7D",
        "outputId": "e8fec521-de90-4dce-a56a-8c113a1efbb2"
      },
      "source": [
        "print(X_t.shape)\r\n",
        "X_t[1]"
      ],
      "execution_count": 62,
      "outputs": [
        {
          "output_type": "stream",
          "text": [
            "(21805, 15)\n"
          ],
          "name": "stdout"
        },
        {
          "output_type": "execute_result",
          "data": {
            "text/plain": [
              "array([1.00000e+00, 0.00000e+00, 0.00000e+00, 1.00000e+00, 0.00000e+00,\n",
              "       1.00000e+00, 3.00000e+00, 7.00000e+00, 6.90000e+01, 6.80000e+01,\n",
              "       1.00000e+00, 3.00000e+00, 3.00000e+00, 1.80000e+01, 3.22048e+04])"
            ]
          },
          "metadata": {
            "tags": []
          },
          "execution_count": 62
        }
      ]
    },
    {
      "cell_type": "code",
      "metadata": {
        "id": "LNx9GZAIIjDB"
      },
      "source": [
        "from sklearn.model_selection import train_test_split\r\n",
        "X_train, X_test, y_train, y_test = train_test_split(X, y, test_size = 0.1, random_state = 1)"
      ],
      "execution_count": 63,
      "outputs": []
    },
    {
      "cell_type": "code",
      "metadata": {
        "id": "fG24caL_Qlco"
      },
      "source": [
        "from sklearn.preprocessing import MinMaxScaler\r\n",
        "mm  =MinMaxScaler()\r\n",
        "X_train[:,16:] = mm.fit_transform(X_train[:,16:])\r\n",
        "X_test[:,16:] = mm.transform(X_test[:,16:])\r\n",
        "#X_t[:,6:] = sc.transform(X_t[:,6:])"
      ],
      "execution_count": null,
      "outputs": []
    },
    {
      "cell_type": "code",
      "metadata": {
        "id": "XO7s_Td4SXzK"
      },
      "source": [
        "X_t[:,16:] = mm.transform(X_t[:,16:])"
      ],
      "execution_count": null,
      "outputs": []
    },
    {
      "cell_type": "code",
      "metadata": {
        "colab": {
          "base_uri": "https://localhost:8080/"
        },
        "id": "81wDO9rmRTh5",
        "outputId": "c93a9754-a4f5-4564-b7a9-0c519696719f"
      },
      "source": [
        "X_train[1]"
      ],
      "execution_count": null,
      "outputs": [
        {
          "output_type": "execute_result",
          "data": {
            "text/plain": [
              "array([1.        , 0.        , 1.        , 0.        , 1.        ,\n",
              "       0.        , 1.        , 0.        , 0.        , 0.        ,\n",
              "       0.        , 0.        , 0.        , 0.        , 0.        ,\n",
              "       0.        , 0.08571429, 0.18601647, 0.22807018, 0.25423729,\n",
              "       0.4       , 0.66666667, 0.42857143, 0.23794105])"
            ]
          },
          "metadata": {
            "tags": []
          },
          "execution_count": 182
        }
      ]
    },
    {
      "cell_type": "code",
      "metadata": {
        "id": "SKBaICTZa_CN"
      },
      "source": [
        "from sklearn.preprocessing import StandardScaler\r\n",
        "sc = StandardScaler()\r\n",
        "X_train = sc.fit_transform(X_train)\r\n",
        "X_test = sc.transform(X_test)\r\n",
        "X_t = sc.transform(X_t)"
      ],
      "execution_count": 64,
      "outputs": []
    },
    {
      "cell_type": "code",
      "metadata": {
        "id": "bS9N_zAeqFhV"
      },
      "source": [
        "from sklearn.preprocessing import StandardScaler\r\n",
        "sc = StandardScaler()\r\n",
        "X_train[:,6:] = sc.fit_transform(X_train[:,6:])\r\n",
        "X_test[:,6:] = sc.transform(X_test[:,6:])\r\n",
        "#X_t[:,6:] = sc.transform(X_t[:,6:])"
      ],
      "execution_count": null,
      "outputs": []
    },
    {
      "cell_type": "code",
      "metadata": {
        "id": "0KDnuIXuR-hp"
      },
      "source": [
        "X_t[:,6:] = sc.transform(X_t[:,6:])"
      ],
      "execution_count": null,
      "outputs": []
    },
    {
      "cell_type": "code",
      "metadata": {
        "colab": {
          "base_uri": "https://localhost:8080/"
        },
        "id": "J1uflTU-SArK",
        "outputId": "7f00651a-7eee-45e8-b0e4-5ee0e4cb4575"
      },
      "source": [
        "X_t[1]"
      ],
      "execution_count": 65,
      "outputs": [
        {
          "output_type": "execute_result",
          "data": {
            "text/plain": [
              "array([ 0.90669693, -0.90669693, -1.97172889,  1.97172889, -2.23680071,\n",
              "        2.23680071, -0.52380293, -1.21269832,  1.39371707,  1.45744058,\n",
              "       -0.54315428, -0.72690473,  0.59925333,  0.45395264,  2.73371032])"
            ]
          },
          "metadata": {
            "tags": []
          },
          "execution_count": 65
        }
      ]
    },
    {
      "cell_type": "code",
      "metadata": {
        "id": "BQo5e1bOa--3"
      },
      "source": [
        "pca = PCA(n_components = 12)\r\n",
        "X_train = pca.fit_transform(X_train)\r\n",
        "X_test = pca.transform(X_test)\r\n",
        "X_t = pca.transform(X_t)"
      ],
      "execution_count": null,
      "outputs": []
    },
    {
      "cell_type": "code",
      "metadata": {
        "id": "hgwhji6Oa-8o"
      },
      "source": [
        ""
      ],
      "execution_count": null,
      "outputs": []
    },
    {
      "cell_type": "code",
      "metadata": {
        "id": "MC_JmrwMa-5q"
      },
      "source": [
        ""
      ],
      "execution_count": null,
      "outputs": []
    },
    {
      "cell_type": "code",
      "metadata": {
        "id": "IIdGCQcKY_kh"
      },
      "source": [
        "# training and testing"
      ],
      "execution_count": null,
      "outputs": []
    },
    {
      "cell_type": "code",
      "metadata": {
        "id": "PkmQSjbxZJ4L"
      },
      "source": [
        ""
      ],
      "execution_count": null,
      "outputs": []
    },
    {
      "cell_type": "code",
      "metadata": {
        "colab": {
          "base_uri": "https://localhost:8080/"
        },
        "id": "Xnjdm8WzZr_O",
        "outputId": "79324e44-8ad6-448f-ed35-6b455f94863e"
      },
      "source": [
        "from sklearn.ensemble import RandomForestClassifier\r\n",
        "classifier = RandomForestClassifier(n_estimators = 20, criterion = 'entropy', random_state = 0)\r\n",
        "classifier.fit(X_train, y_train)"
      ],
      "execution_count": null,
      "outputs": [
        {
          "output_type": "execute_result",
          "data": {
            "text/plain": [
              "RandomForestClassifier(bootstrap=True, ccp_alpha=0.0, class_weight=None,\n",
              "                       criterion='entropy', max_depth=None, max_features='auto',\n",
              "                       max_leaf_nodes=None, max_samples=None,\n",
              "                       min_impurity_decrease=0.0, min_impurity_split=None,\n",
              "                       min_samples_leaf=1, min_samples_split=2,\n",
              "                       min_weight_fraction_leaf=0.0, n_estimators=20,\n",
              "                       n_jobs=None, oob_score=False, random_state=0, verbose=0,\n",
              "                       warm_start=False)"
            ]
          },
          "metadata": {
            "tags": []
          },
          "execution_count": 219
        }
      ]
    },
    {
      "cell_type": "code",
      "metadata": {
        "colab": {
          "base_uri": "https://localhost:8080/"
        },
        "id": "t22gqC9dZ1_j",
        "outputId": "c544cbbc-3d47-4d56-f82b-a2d21a7dc95c"
      },
      "source": [
        "y_pred = classifier.predict(X_test)\r\n",
        "from sklearn.metrics import confusion_matrix, accuracy_score\r\n",
        "cm = confusion_matrix(y_test, y_pred)\r\n",
        "print(cm)\r\n",
        "pred_prob1 = classifier.predict_proba(X_test)\r\n",
        "accuracy_score(y_test, y_pred)"
      ],
      "execution_count": null,
      "outputs": [
        {
          "output_type": "stream",
          "text": [
            "[[3785  102]\n",
            " [1163   39]]\n"
          ],
          "name": "stdout"
        },
        {
          "output_type": "execute_result",
          "data": {
            "text/plain": [
              "0.751424641383376"
            ]
          },
          "metadata": {
            "tags": []
          },
          "execution_count": 220
        }
      ]
    },
    {
      "cell_type": "code",
      "metadata": {
        "colab": {
          "base_uri": "https://localhost:8080/"
        },
        "id": "KRjmBHhkZ18T",
        "outputId": "e9273a92-497a-4ec4-ea63-d06b93a4b714"
      },
      "source": [
        "roc_score = roc_auc_score(y_test,y_pred, average='micro')\r\n",
        "print(roc_score)"
      ],
      "execution_count": null,
      "outputs": [
        {
          "output_type": "stream",
          "text": [
            "0.5031023031248408\n"
          ],
          "name": "stdout"
        }
      ]
    },
    {
      "cell_type": "code",
      "metadata": {
        "colab": {
          "base_uri": "https://localhost:8080/"
        },
        "id": "aBO0ciJjptI3",
        "outputId": "05387538-a041-4006-9999-bc429d48a119"
      },
      "source": [
        "from xgboost import XGBClassifier\r\n",
        "classifier = XGBClassifier(scale_pos_weight=3)\r\n",
        "classifier.fit(X_train, y_train)"
      ],
      "execution_count": null,
      "outputs": [
        {
          "output_type": "execute_result",
          "data": {
            "text/plain": [
              "XGBClassifier(base_score=0.5, booster='gbtree', colsample_bylevel=1,\n",
              "              colsample_bynode=1, colsample_bytree=1, gamma=0,\n",
              "              learning_rate=0.1, max_delta_step=0, max_depth=3,\n",
              "              min_child_weight=1, missing=None, n_estimators=100, n_jobs=1,\n",
              "              nthread=None, objective='binary:logistic', random_state=0,\n",
              "              reg_alpha=0, reg_lambda=1, scale_pos_weight=3, seed=None,\n",
              "              silent=None, subsample=1, verbosity=1)"
            ]
          },
          "metadata": {
            "tags": []
          },
          "execution_count": 369
        }
      ]
    },
    {
      "cell_type": "code",
      "metadata": {
        "colab": {
          "base_uri": "https://localhost:8080/"
        },
        "id": "U6sY7rtMps-C",
        "outputId": "3d5f19b6-9853-4263-8e8d-1eb78f16e751"
      },
      "source": [
        "\r\n",
        "from sklearn.metrics import confusion_matrix, accuracy_score\r\n",
        "y_pred = classifier.predict(X_test)\r\n",
        "cm = confusion_matrix(y_test, y_pred)\r\n",
        "print(cm)\r\n",
        "accuracy_score(y_test, y_pred)"
      ],
      "execution_count": null,
      "outputs": [
        {
          "output_type": "stream",
          "text": [
            "[[2178 1709]\n",
            " [ 479  723]]\n"
          ],
          "name": "stdout"
        },
        {
          "output_type": "execute_result",
          "data": {
            "text/plain": [
              "0.5700530556101395"
            ]
          },
          "metadata": {
            "tags": []
          },
          "execution_count": 370
        }
      ]
    },
    {
      "cell_type": "code",
      "metadata": {
        "colab": {
          "base_uri": "https://localhost:8080/"
        },
        "id": "M9busNSNp0SV",
        "outputId": "7aecad83-0358-4031-c8cc-97304b16cf32"
      },
      "source": [
        "roc_score = roc_auc_score(y_test,y_pred, average='micro')\r\n",
        "print(roc_score)"
      ],
      "execution_count": null,
      "outputs": [
        {
          "output_type": "stream",
          "text": [
            "0.5809134034819764\n"
          ],
          "name": "stdout"
        }
      ]
    },
    {
      "cell_type": "code",
      "metadata": {
        "colab": {
          "base_uri": "https://localhost:8080/"
        },
        "id": "0vJ7sKXPyyFz",
        "outputId": "46e0b5de-ab28-4a67-f6bf-aac3a2788b50"
      },
      "source": [
        "pred_prob1 = classifier.predict_proba(X_t)[:,1]\r\n",
        "pred_prob1"
      ],
      "execution_count": null,
      "outputs": [
        {
          "output_type": "execute_result",
          "data": {
            "text/plain": [
              "array([0.52014345, 0.5251127 , 0.54684716, ..., 0.0070267 , 0.54690206,\n",
              "       0.3766286 ], dtype=float32)"
            ]
          },
          "metadata": {
            "tags": []
          },
          "execution_count": 322
        }
      ]
    },
    {
      "cell_type": "code",
      "metadata": {
        "id": "g0jprjiNZ16b"
      },
      "source": [
        "from sklearn.metrics import roc_curve\r\n",
        "\r\n",
        "# roc curve for models\r\n",
        "fpr1, tpr1, thresh1 = roc_curve(y_test, pred_prob1[:,1], pos_label=1)\r\n",
        "random_probs = [0 for i in range(len(y_test))]\r\n",
        "p_fpr, p_tpr, _ = roc_curve(y_test, random_probs, pos_label=1)"
      ],
      "execution_count": null,
      "outputs": []
    },
    {
      "cell_type": "code",
      "metadata": {
        "colab": {
          "base_uri": "https://localhost:8080/",
          "height": 347
        },
        "id": "rHuzM8tscsza",
        "outputId": "89fab572-60ae-4e88-fcd8-ac513fd77341"
      },
      "source": [
        "plt.style.use('seaborn')\r\n",
        "\r\n",
        "# plot roc curves\r\n",
        "plt.plot(fpr1, tpr1, linestyle='--',color='orange', label='Logistic Regression')\r\n",
        "plt.plot(fpr2, tpr2, linestyle='--',color='green', label='KNN')\r\n",
        "plt.show()"
      ],
      "execution_count": null,
      "outputs": [
        {
          "output_type": "display_data",
          "data": {
            "image/png": "[encoded data removed]",
            "text/plain": [
              "<Figure size 576x396 with 1 Axes>"
            ]
          },
          "metadata": {
            "tags": []
          }
        }
      ]
    },
    {
      "cell_type": "code",
      "metadata": {
        "colab": {
          "base_uri": "https://localhost:8080/"
        },
        "id": "bKeClVLvcwhv",
        "outputId": "f4c8dd1d-886a-46eb-9a4e-94e8abe331b4"
      },
      "source": [
        "from sklearn.neighbors import KNeighborsClassifier\r\n",
        "classifier = KNeighborsClassifier(n_neighbors = 40, metric = 'minkowski', p = 2)\r\n",
        "classifier.fit(X_train, y_train)\r\n",
        "y_pred = classifier.predict(X_test)\r\n",
        "from sklearn.metrics import confusion_matrix, accuracy_score\r\n",
        "cm = confusion_matrix(y_test, y_pred)\r\n",
        "print(cm)\r\n",
        "pred_prob2 = classifier.predict_proba(X_test)\r\n",
        "accuracy_score(y_test, y_pred)"
      ],
      "execution_count": null,
      "outputs": [
        {
          "output_type": "stream",
          "text": [
            "[[3886    1]\n",
            " [1202    0]]\n"
          ],
          "name": "stdout"
        },
        {
          "output_type": "execute_result",
          "data": {
            "text/plain": [
              "0.7636077814894872"
            ]
          },
          "metadata": {
            "tags": []
          },
          "execution_count": 225
        }
      ]
    },
    {
      "cell_type": "code",
      "metadata": {
        "id": "vFtP84zPdJvO"
      },
      "source": [
        "from sklearn.metrics import roc_curve\r\n",
        "\r\n",
        "# roc curve for models\r\n",
        "fpr2, tpr2, thresh2 = roc_curve(y_test, pred_prob2[:,1], pos_label=1)\r\n",
        "random_probs = [0 for i in range(len(y_test))]\r\n",
        "p_fpr, p_tpr, _ = roc_curve(y_test, random_probs, pos_label=1)\r\n"
      ],
      "execution_count": null,
      "outputs": []
    },
    {
      "cell_type": "code",
      "metadata": {
        "colab": {
          "base_uri": "https://localhost:8080/"
        },
        "id": "N16b7_2dvfb5",
        "outputId": "0264af0c-60af-47db-b3c1-44ab8602e02a"
      },
      "source": [
        "initial_bias = np.log([pos/neg])\r\n",
        "initial_bias"
      ],
      "execution_count": 66,
      "outputs": [
        {
          "output_type": "execute_result",
          "data": {
            "text/plain": [
              "array([-1.1529683])"
            ]
          },
          "metadata": {
            "tags": []
          },
          "execution_count": 66
        }
      ]
    },
    {
      "cell_type": "code",
      "metadata": {
        "id": "B0QLinj-dqWQ"
      },
      "source": [
        "import tensorflow as tf\r\n",
        "from tensorflow import keras"
      ],
      "execution_count": 67,
      "outputs": []
    },
    {
      "cell_type": "code",
      "metadata": {
        "id": "z0dxymh6hE7U"
      },
      "source": [
        "ann = tf.keras.models.Sequential()\r\n",
        "ann.add(tf.keras.layers.Dense(units=12, activation='relu'))\r\n",
        "ann.add(tf.keras.layers.Dense(units=12, activation='relu'))\r\n",
        "ann.add(tf.keras.layers.Dense(units=12, activation='relu'))\r\n",
        "ann.add(tf.keras.layers.Dense(units=12, activation='relu'))\r\n",
        "ann.add(tf.keras.layers.Dense(units=12, activation='relu'))\r\n",
        "ann.add(tf.keras.layers.Dense(units=12, activation='relu'))\r\n",
        "ann.add(tf.keras.layers.Dense(units=12, activation='relu'))\r\n",
        "ann.add(tf.keras.layers.Dense(units=12, activation='relu'))\r\n",
        "ann.add(tf.keras.layers.Dense(units=12, activation='relu'))\r\n",
        "ann.add(tf.keras.layers.Dense(units=12, activation='tanh'))\r\n",
        "ann.add(tf.keras.layers.Dense(units=8, activation='tanh'))\r\n",
        "ann.add(tf.keras.layers.Dense(units=6, activation='sigmoid'))\r\n",
        "ann.add(tf.keras.layers.Dense(units=1, activation='sigmoid'))"
      ],
      "execution_count": 68,
      "outputs": []
    },
    {
      "cell_type": "code",
      "metadata": {
        "id": "RmCUXn_08eqD"
      },
      "source": [
        "ann.summary()"
      ],
      "execution_count": null,
      "outputs": []
    },
    {
      "cell_type": "code",
      "metadata": {
        "id": "cMEz3n_j8zxL"
      },
      "source": [
        "from tensorflow.keras.optimizers import Adam\r\n",
        "from tensorflow.keras.optimizers import RMSprop\r\n"
      ],
      "execution_count": 74,
      "outputs": []
    },
    {
      "cell_type": "code",
      "metadata": {
        "id": "O2e50h4Wwl-u"
      },
      "source": [
        "weight_for_0 = (1 / neg)*(total)/2.0 \r\n",
        "weight_for_1 = (1 / pos)*(total)/2.0\r\n",
        "\r\n",
        "class_weight = {0: weight_for_0, 1: weight_for_1}"
      ],
      "execution_count": 76,
      "outputs": []
    },
    {
      "cell_type": "code",
      "metadata": {
        "id": "-9BBJrOlhNVL"
      },
      "source": [
        "ann.compile(optimizer = Adam(learning_rate=0.001), loss = 'binary_crossentropy', metrics = METRICS)"
      ],
      "execution_count": 75,
      "outputs": []
    },
    {
      "cell_type": "code",
      "metadata": {
        "id": "iRfDz1VSjICQ"
      },
      "source": [
        "METRICS = [ \r\n",
        "      keras.metrics.BinaryAccuracy(name='accuracy'),\r\n",
        "      keras.metrics.TrueNegatives(name='tn'),\r\n",
        "      keras.metrics.FalseNegatives(name='fn'), \r\n",
        "      keras.metrics.Precision(name='precision'),\r\n",
        "      keras.metrics.Recall(name='recall'),\r\n",
        "      keras.metrics.AUC(name='auc')\r\n",
        "]\r\n"
      ],
      "execution_count": 72,
      "outputs": []
    },
    {
      "cell_type": "code",
      "metadata": {
        "colab": {
          "base_uri": "https://localhost:8080/"
        },
        "id": "REqnAMBYrPwn",
        "outputId": "17428e51-4fbf-4174-b9f7-16d9ff318314"
      },
      "source": [
        "X_train[1]"
      ],
      "execution_count": null,
      "outputs": [
        {
          "output_type": "execute_result",
          "data": {
            "text/plain": [
              "array([-0.7387942 , -0.60857413, -1.84014223,  0.56183023, -1.61669309,\n",
              "       -0.50782946,  0.32451056, -0.5461423 ,  0.21894095, -0.1466391 ,\n",
              "        0.29063443,  0.03748724])"
            ]
          },
          "metadata": {
            "tags": []
          },
          "execution_count": 232
        }
      ]
    },
    {
      "cell_type": "code",
      "metadata": {
        "colab": {
          "base_uri": "https://localhost:8080/"
        },
        "id": "iKgLJO_EhPrO",
        "outputId": "5fbe83f6-cdff-4e96-b0c0-e8d72ade4599"
      },
      "source": [
        "ann.fit(X_train, y_train, batch_size = 32, epochs = 100,class_weight=class_weight)"
      ],
      "execution_count": 77,
      "outputs": [
        {
          "output_type": "stream",
          "text": [
            "Epoch 1/100\n",
            "1432/1432 [==============================] - 5s 2ms/step - loss: 0.6957 - accuracy: 0.3850 - tn: 6041.0537 - fn: 1743.2687 - precision: 0.2499 - recall: 0.7594 - auc: 0.5087\n",
            "Epoch 2/100\n",
            "1432/1432 [==============================] - 3s 2ms/step - loss: 0.6878 - accuracy: 0.3891 - tn: 4246.3119 - fn: 824.5052 - precision: 0.2636 - recall: 0.8488 - auc: 0.5497\n",
            "Epoch 3/100\n",
            "1432/1432 [==============================] - 3s 2ms/step - loss: 0.6811 - accuracy: 0.3953 - tn: 4440.9798 - fn: 831.5017 - precision: 0.2615 - recall: 0.8463 - auc: 0.5528\n",
            "Epoch 4/100\n",
            "1432/1432 [==============================] - 3s 2ms/step - loss: 0.6823 - accuracy: 0.3982 - tn: 4526.9177 - fn: 855.8772 - precision: 0.2643 - recall: 0.8449 - auc: 0.5524\n",
            "Epoch 5/100\n",
            "1432/1432 [==============================] - 3s 2ms/step - loss: 0.6810 - accuracy: 0.3908 - tn: 4138.3161 - fn: 720.1752 - precision: 0.2669 - recall: 0.8712 - auc: 0.5563\n",
            "Epoch 6/100\n",
            "1432/1432 [==============================] - 3s 2ms/step - loss: 0.6781 - accuracy: 0.3889 - tn: 4131.1193 - fn: 709.1793 - precision: 0.2634 - recall: 0.8697 - auc: 0.5512\n",
            "Epoch 7/100\n",
            "1432/1432 [==============================] - 3s 2ms/step - loss: 0.6768 - accuracy: 0.3818 - tn: 3943.3315 - fn: 635.3650 - precision: 0.2635 - recall: 0.8865 - auc: 0.5608\n",
            "Epoch 8/100\n",
            "1432/1432 [==============================] - 3s 2ms/step - loss: 0.6768 - accuracy: 0.3879 - tn: 4155.2722 - fn: 689.4061 - precision: 0.2652 - recall: 0.8803 - auc: 0.5601\n",
            "Epoch 9/100\n",
            "1432/1432 [==============================] - 3s 2ms/step - loss: 0.6749 - accuracy: 0.3886 - tn: 4100.8144 - fn: 663.8974 - precision: 0.2636 - recall: 0.8802 - auc: 0.5566\n",
            "Epoch 10/100\n",
            "1432/1432 [==============================] - 3s 2ms/step - loss: 0.6750 - accuracy: 0.3815 - tn: 3845.1012 - fn: 576.0740 - precision: 0.2658 - recall: 0.8992 - auc: 0.5566\n",
            "Epoch 11/100\n",
            "1432/1432 [==============================] - 3s 2ms/step - loss: 0.6743 - accuracy: 0.3852 - tn: 4034.2463 - fn: 632.3412 - precision: 0.2646 - recall: 0.8894 - auc: 0.5629\n",
            "Epoch 12/100\n",
            "1432/1432 [==============================] - 3s 2ms/step - loss: 0.6747 - accuracy: 0.3940 - tn: 4103.7788 - fn: 627.8932 - precision: 0.2667 - recall: 0.8800 - auc: 0.5630\n",
            "Epoch 13/100\n",
            "1432/1432 [==============================] - 3s 2ms/step - loss: 0.6742 - accuracy: 0.3937 - tn: 4101.5115 - fn: 629.5331 - precision: 0.2667 - recall: 0.8828 - auc: 0.5613\n",
            "Epoch 14/100\n",
            "1432/1432 [==============================] - 3s 2ms/step - loss: 0.6768 - accuracy: 0.3800 - tn: 3788.3140 - fn: 567.5164 - precision: 0.2663 - recall: 0.8995 - auc: 0.5619\n",
            "Epoch 15/100\n",
            "1432/1432 [==============================] - 3s 2ms/step - loss: 0.6752 - accuracy: 0.3841 - tn: 3978.5785 - fn: 610.5918 - precision: 0.2641 - recall: 0.8869 - auc: 0.5584\n",
            "Epoch 16/100\n",
            "1432/1432 [==============================] - 3s 2ms/step - loss: 0.6740 - accuracy: 0.3874 - tn: 3989.5220 - fn: 586.5394 - precision: 0.2680 - recall: 0.8952 - auc: 0.5687\n",
            "Epoch 17/100\n",
            "1432/1432 [==============================] - 3s 2ms/step - loss: 0.6727 - accuracy: 0.3809 - tn: 3850.3866 - fn: 555.8018 - precision: 0.2649 - recall: 0.9026 - auc: 0.5616\n",
            "Epoch 18/100\n",
            "1432/1432 [==============================] - 3s 2ms/step - loss: 0.6754 - accuracy: 0.3867 - tn: 3906.2959 - fn: 573.3594 - precision: 0.2687 - recall: 0.8963 - auc: 0.5614\n",
            "Epoch 19/100\n",
            "1432/1432 [==============================] - 3s 2ms/step - loss: 0.6764 - accuracy: 0.3757 - tn: 3645.2463 - fn: 527.7634 - precision: 0.2667 - recall: 0.9061 - auc: 0.5589\n",
            "Epoch 20/100\n",
            "1432/1432 [==============================] - 3s 2ms/step - loss: 0.6753 - accuracy: 0.3882 - tn: 3919.9588 - fn: 580.8011 - precision: 0.2691 - recall: 0.8938 - auc: 0.5607\n",
            "Epoch 21/100\n",
            "1432/1432 [==============================] - 3s 2ms/step - loss: 0.6760 - accuracy: 0.3882 - tn: 4023.8548 - fn: 601.0195 - precision: 0.2700 - recall: 0.8956 - auc: 0.5628\n",
            "Epoch 22/100\n",
            "1432/1432 [==============================] - 3s 2ms/step - loss: 0.6756 - accuracy: 0.3891 - tn: 4021.2882 - fn: 584.8807 - precision: 0.2702 - recall: 0.8995 - auc: 0.5622\n",
            "Epoch 23/100\n",
            "1432/1432 [==============================] - 3s 2ms/step - loss: 0.6741 - accuracy: 0.3940 - tn: 4047.8011 - fn: 582.9023 - precision: 0.2712 - recall: 0.8943 - auc: 0.5680\n",
            "Epoch 24/100\n",
            "1432/1432 [==============================] - 3s 2ms/step - loss: 0.6747 - accuracy: 0.3922 - tn: 4133.6239 - fn: 619.8946 - precision: 0.2706 - recall: 0.8907 - auc: 0.5685\n",
            "Epoch 25/100\n",
            "1432/1432 [==============================] - 3s 2ms/step - loss: 0.6726 - accuracy: 0.3918 - tn: 4026.5080 - fn: 572.8583 - precision: 0.2692 - recall: 0.8948 - auc: 0.5675\n",
            "Epoch 26/100\n",
            "1432/1432 [==============================] - 3s 2ms/step - loss: 0.6726 - accuracy: 0.3944 - tn: 4096.1228 - fn: 583.4075 - precision: 0.2706 - recall: 0.8946 - auc: 0.5677\n",
            "Epoch 27/100\n",
            "1432/1432 [==============================] - 3s 2ms/step - loss: 0.6706 - accuracy: 0.3951 - tn: 4102.5869 - fn: 572.1717 - precision: 0.2693 - recall: 0.8956 - auc: 0.5701\n",
            "Epoch 28/100\n",
            "1432/1432 [==============================] - 3s 2ms/step - loss: 0.6731 - accuracy: 0.3970 - tn: 4082.0140 - fn: 575.7369 - precision: 0.2723 - recall: 0.8941 - auc: 0.5705\n",
            "Epoch 29/100\n",
            "1432/1432 [==============================] - 3s 2ms/step - loss: 0.6697 - accuracy: 0.3897 - tn: 3950.0370 - fn: 533.1933 - precision: 0.2688 - recall: 0.9032 - auc: 0.5688\n",
            "Epoch 30/100\n",
            "1432/1432 [==============================] - 3s 2ms/step - loss: 0.6695 - accuracy: 0.3958 - tn: 4069.3503 - fn: 562.0747 - precision: 0.2697 - recall: 0.8994 - auc: 0.5714\n",
            "Epoch 31/100\n",
            "1432/1432 [==============================] - 3s 2ms/step - loss: 0.6691 - accuracy: 0.4007 - tn: 4252.1703 - fn: 605.7858 - precision: 0.2688 - recall: 0.8863 - auc: 0.5707\n",
            "Epoch 32/100\n",
            "1432/1432 [==============================] - 3s 2ms/step - loss: 0.6760 - accuracy: 0.3898 - tn: 3943.1375 - fn: 547.0133 - precision: 0.2733 - recall: 0.9026 - auc: 0.5685\n",
            "Epoch 33/100\n",
            "1432/1432 [==============================] - 3s 2ms/step - loss: 0.6736 - accuracy: 0.3868 - tn: 3914.9491 - fn: 545.2519 - precision: 0.2681 - recall: 0.8998 - auc: 0.5668\n",
            "Epoch 34/100\n",
            "1432/1432 [==============================] - 3s 2ms/step - loss: 0.6717 - accuracy: 0.3954 - tn: 4052.5639 - fn: 547.1731 - precision: 0.2704 - recall: 0.8967 - auc: 0.5699\n",
            "Epoch 35/100\n",
            "1432/1432 [==============================] - 3s 2ms/step - loss: 0.6736 - accuracy: 0.3889 - tn: 3858.4592 - fn: 494.0558 - precision: 0.2745 - recall: 0.9153 - auc: 0.5691\n",
            "Epoch 36/100\n",
            "1432/1432 [==============================] - 3s 2ms/step - loss: 0.6753 - accuracy: 0.3961 - tn: 4141.9435 - fn: 576.9679 - precision: 0.2728 - recall: 0.8950 - auc: 0.5679\n",
            "Epoch 37/100\n",
            "1432/1432 [==============================] - 3s 2ms/step - loss: 0.6721 - accuracy: 0.3876 - tn: 3833.1270 - fn: 470.9386 - precision: 0.2727 - recall: 0.9181 - auc: 0.5741\n",
            "Epoch 38/100\n",
            "1432/1432 [==============================] - 3s 2ms/step - loss: 0.6691 - accuracy: 0.3871 - tn: 3848.2428 - fn: 505.3992 - precision: 0.2675 - recall: 0.9072 - auc: 0.5691\n",
            "Epoch 39/100\n",
            "1432/1432 [==============================] - 3s 2ms/step - loss: 0.6735 - accuracy: 0.3942 - tn: 3895.2415 - fn: 515.4459 - precision: 0.2747 - recall: 0.9070 - auc: 0.5720\n",
            "Epoch 40/100\n",
            "1432/1432 [==============================] - 3s 2ms/step - loss: 0.6720 - accuracy: 0.3928 - tn: 3970.5115 - fn: 520.0963 - precision: 0.2729 - recall: 0.9084 - auc: 0.5749\n",
            "Epoch 41/100\n",
            "1432/1432 [==============================] - 3s 2ms/step - loss: 0.6741 - accuracy: 0.3931 - tn: 3980.9791 - fn: 546.2624 - precision: 0.2723 - recall: 0.8994 - auc: 0.5712\n",
            "Epoch 42/100\n",
            "1432/1432 [==============================] - 3s 2ms/step - loss: 0.6739 - accuracy: 0.3848 - tn: 3847.3301 - fn: 494.7502 - precision: 0.2706 - recall: 0.9118 - auc: 0.5716\n",
            "Epoch 43/100\n",
            "1432/1432 [==============================] - 3s 2ms/step - loss: 0.6722 - accuracy: 0.3904 - tn: 4012.8786 - fn: 547.4020 - precision: 0.2708 - recall: 0.9039 - auc: 0.5719\n",
            "Epoch 44/100\n",
            "1432/1432 [==============================] - 3s 2ms/step - loss: 0.6692 - accuracy: 0.3957 - tn: 4182.6329 - fn: 585.9539 - precision: 0.2683 - recall: 0.8930 - auc: 0.5738\n",
            "Epoch 45/100\n",
            "1432/1432 [==============================] - 3s 2ms/step - loss: 0.6678 - accuracy: 0.3897 - tn: 3999.4306 - fn: 535.6839 - precision: 0.2668 - recall: 0.8986 - auc: 0.5705\n",
            "Epoch 46/100\n",
            "1432/1432 [==============================] - 3s 2ms/step - loss: 0.6713 - accuracy: 0.3885 - tn: 4015.0991 - fn: 552.8953 - precision: 0.2675 - recall: 0.9000 - auc: 0.5744\n",
            "Epoch 47/100\n",
            "1432/1432 [==============================] - 3s 2ms/step - loss: 0.6688 - accuracy: 0.3912 - tn: 4078.3098 - fn: 544.8088 - precision: 0.2693 - recall: 0.9046 - auc: 0.5773\n",
            "Epoch 48/100\n",
            "1432/1432 [==============================] - 3s 2ms/step - loss: 0.6691 - accuracy: 0.3947 - tn: 4059.1249 - fn: 542.8402 - precision: 0.2717 - recall: 0.9039 - auc: 0.5730\n",
            "Epoch 49/100\n",
            "1432/1432 [==============================] - 3s 2ms/step - loss: 0.6664 - accuracy: 0.3911 - tn: 4025.9044 - fn: 520.6197 - precision: 0.2665 - recall: 0.9004 - auc: 0.5765\n",
            "Epoch 50/100\n",
            "1432/1432 [==============================] - 3s 2ms/step - loss: 0.6686 - accuracy: 0.4009 - tn: 4229.4717 - fn: 577.5806 - precision: 0.2706 - recall: 0.8905 - auc: 0.5790\n",
            "Epoch 51/100\n",
            "1432/1432 [==============================] - 3s 2ms/step - loss: 0.6724 - accuracy: 0.3927 - tn: 4080.8765 - fn: 541.7446 - precision: 0.2728 - recall: 0.9063 - auc: 0.5733\n",
            "Epoch 52/100\n",
            "1432/1432 [==============================] - 3s 2ms/step - loss: 0.6697 - accuracy: 0.4012 - tn: 4184.1431 - fn: 556.5813 - precision: 0.2740 - recall: 0.9000 - auc: 0.5803\n",
            "Epoch 53/100\n",
            "1432/1432 [==============================] - 3s 2ms/step - loss: 0.6716 - accuracy: 0.3957 - tn: 4004.5645 - fn: 513.7481 - precision: 0.2727 - recall: 0.9047 - auc: 0.5750\n",
            "Epoch 54/100\n",
            "1432/1432 [==============================] - 3s 2ms/step - loss: 0.6716 - accuracy: 0.3847 - tn: 3802.5625 - fn: 481.6588 - precision: 0.2701 - recall: 0.9135 - auc: 0.5723\n",
            "Epoch 55/100\n",
            "1432/1432 [==============================] - 3s 2ms/step - loss: 0.6712 - accuracy: 0.3885 - tn: 3942.4522 - fn: 518.7920 - precision: 0.2707 - recall: 0.9067 - auc: 0.5703\n",
            "Epoch 56/100\n",
            "1432/1432 [==============================] - 3s 2ms/step - loss: 0.6686 - accuracy: 0.3851 - tn: 3835.0454 - fn: 481.0809 - precision: 0.2675 - recall: 0.9105 - auc: 0.5693\n",
            "Epoch 57/100\n",
            "1432/1432 [==============================] - 3s 2ms/step - loss: 0.6676 - accuracy: 0.3924 - tn: 4077.4250 - fn: 556.5157 - precision: 0.2657 - recall: 0.8922 - auc: 0.5706\n",
            "Epoch 58/100\n",
            "1432/1432 [==============================] - 3s 2ms/step - loss: 0.6705 - accuracy: 0.3837 - tn: 3754.9449 - fn: 473.1905 - precision: 0.2686 - recall: 0.9135 - auc: 0.5696\n",
            "Epoch 59/100\n",
            "1432/1432 [==============================] - 3s 2ms/step - loss: 0.6647 - accuracy: 0.3838 - tn: 3831.6539 - fn: 455.7955 - precision: 0.2663 - recall: 0.9190 - auc: 0.5717\n",
            "Epoch 60/100\n",
            "1432/1432 [==============================] - 3s 2ms/step - loss: 0.6711 - accuracy: 0.3899 - tn: 3888.6713 - fn: 480.3915 - precision: 0.2723 - recall: 0.9130 - auc: 0.5688\n",
            "Epoch 61/100\n",
            "1432/1432 [==============================] - 3s 2ms/step - loss: 0.6704 - accuracy: 0.3852 - tn: 3836.6113 - fn: 474.5890 - precision: 0.2686 - recall: 0.9124 - auc: 0.5685\n",
            "Epoch 62/100\n",
            "1432/1432 [==============================] - 3s 2ms/step - loss: 0.6706 - accuracy: 0.3898 - tn: 3836.6615 - fn: 478.1591 - precision: 0.2727 - recall: 0.9149 - auc: 0.5753\n",
            "Epoch 63/100\n",
            "1432/1432 [==============================] - 3s 2ms/step - loss: 0.6710 - accuracy: 0.3971 - tn: 4025.7125 - fn: 508.2582 - precision: 0.2731 - recall: 0.9047 - auc: 0.5760\n",
            "Epoch 64/100\n",
            "1432/1432 [==============================] - 3s 2ms/step - loss: 0.6630 - accuracy: 0.3907 - tn: 3804.3231 - fn: 448.0649 - precision: 0.2688 - recall: 0.9161 - auc: 0.5795\n",
            "Epoch 65/100\n",
            "1432/1432 [==============================] - 3s 2ms/step - loss: 0.6715 - accuracy: 0.3906 - tn: 3874.9463 - fn: 487.3580 - precision: 0.2736 - recall: 0.9122 - auc: 0.5758\n",
            "Epoch 66/100\n",
            "1432/1432 [==============================] - 3s 2ms/step - loss: 0.6696 - accuracy: 0.3938 - tn: 3951.4487 - fn: 469.3671 - precision: 0.2737 - recall: 0.9142 - auc: 0.5779\n",
            "Epoch 67/100\n",
            "1432/1432 [==============================] - 3s 2ms/step - loss: 0.6678 - accuracy: 0.3895 - tn: 3806.8828 - fn: 450.7579 - precision: 0.2704 - recall: 0.9159 - auc: 0.5696\n",
            "Epoch 68/100\n",
            "1432/1432 [==============================] - 3s 2ms/step - loss: 0.6697 - accuracy: 0.3960 - tn: 4018.1270 - fn: 485.0970 - precision: 0.2753 - recall: 0.9139 - auc: 0.5814\n",
            "Epoch 69/100\n",
            "1432/1432 [==============================] - 3s 2ms/step - loss: 0.6677 - accuracy: 0.3975 - tn: 4028.4536 - fn: 490.0272 - precision: 0.2727 - recall: 0.9099 - auc: 0.5783\n",
            "Epoch 70/100\n",
            "1432/1432 [==============================] - 3s 2ms/step - loss: 0.6703 - accuracy: 0.3887 - tn: 3895.9567 - fn: 483.1333 - precision: 0.2708 - recall: 0.9135 - auc: 0.5818\n",
            "Epoch 71/100\n",
            "1432/1432 [==============================] - 3s 2ms/step - loss: 0.6690 - accuracy: 0.3910 - tn: 3941.2128 - fn: 480.3210 - precision: 0.2719 - recall: 0.9141 - auc: 0.5817\n",
            "Epoch 72/100\n",
            "1432/1432 [==============================] - 3s 2ms/step - loss: 0.6670 - accuracy: 0.4018 - tn: 4248.2261 - fn: 550.2247 - precision: 0.2710 - recall: 0.8983 - auc: 0.5827\n",
            "Epoch 73/100\n",
            "1432/1432 [==============================] - 3s 2ms/step - loss: 0.6691 - accuracy: 0.3951 - tn: 4067.7906 - fn: 513.2505 - precision: 0.2713 - recall: 0.9041 - auc: 0.5817\n",
            "Epoch 74/100\n",
            "1432/1432 [==============================] - 3s 2ms/step - loss: 0.6693 - accuracy: 0.3928 - tn: 3872.4703 - fn: 451.7913 - precision: 0.2758 - recall: 0.9203 - auc: 0.5832\n",
            "Epoch 75/100\n",
            "1432/1432 [==============================] - 3s 2ms/step - loss: 0.6661 - accuracy: 0.3989 - tn: 4156.5248 - fn: 512.9930 - precision: 0.2716 - recall: 0.9057 - auc: 0.5867\n",
            "Epoch 76/100\n",
            "1432/1432 [==============================] - 3s 2ms/step - loss: 0.6710 - accuracy: 0.3927 - tn: 3976.0768 - fn: 491.8304 - precision: 0.2741 - recall: 0.9132 - auc: 0.5823\n",
            "Epoch 77/100\n",
            "1432/1432 [==============================] - 3s 2ms/step - loss: 0.6721 - accuracy: 0.3950 - tn: 4054.2226 - fn: 514.8562 - precision: 0.2742 - recall: 0.9070 - auc: 0.5809\n",
            "Epoch 78/100\n",
            "1432/1432 [==============================] - 3s 2ms/step - loss: 0.6682 - accuracy: 0.3875 - tn: 3855.3419 - fn: 464.0342 - precision: 0.2706 - recall: 0.9165 - auc: 0.5803\n",
            "Epoch 79/100\n",
            "1432/1432 [==============================] - 3s 2ms/step - loss: 0.6677 - accuracy: 0.4036 - tn: 4244.4962 - fn: 543.7676 - precision: 0.2741 - recall: 0.8992 - auc: 0.5754\n",
            "Epoch 80/100\n",
            "1432/1432 [==============================] - 3s 2ms/step - loss: 0.6675 - accuracy: 0.3956 - tn: 4041.3594 - fn: 491.8339 - precision: 0.2729 - recall: 0.9120 - auc: 0.5805\n",
            "Epoch 81/100\n",
            "1432/1432 [==============================] - 3s 2ms/step - loss: 0.6700 - accuracy: 0.3795 - tn: 3784.0816 - fn: 478.5311 - precision: 0.2678 - recall: 0.9175 - auc: 0.5754\n",
            "Epoch 82/100\n",
            "1432/1432 [==============================] - 3s 2ms/step - loss: 0.6701 - accuracy: 0.3958 - tn: 4110.9909 - fn: 539.6420 - precision: 0.2713 - recall: 0.9005 - auc: 0.5800\n",
            "Epoch 83/100\n",
            "1432/1432 [==============================] - 3s 2ms/step - loss: 0.6678 - accuracy: 0.3929 - tn: 3996.0921 - fn: 498.0077 - precision: 0.2717 - recall: 0.9103 - auc: 0.5786\n",
            "Epoch 84/100\n",
            "1432/1432 [==============================] - 3s 2ms/step - loss: 0.6702 - accuracy: 0.3908 - tn: 4011.9602 - fn: 517.9121 - precision: 0.2703 - recall: 0.9035 - auc: 0.5762\n",
            "Epoch 85/100\n",
            "1432/1432 [==============================] - 3s 2ms/step - loss: 0.6687 - accuracy: 0.3941 - tn: 4012.8332 - fn: 499.3001 - precision: 0.2712 - recall: 0.9060 - auc: 0.5791\n",
            "Epoch 86/100\n",
            "1432/1432 [==============================] - 3s 2ms/step - loss: 0.6702 - accuracy: 0.3964 - tn: 4080.2024 - fn: 507.5038 - precision: 0.2736 - recall: 0.9089 - auc: 0.5793\n",
            "Epoch 87/100\n",
            "1432/1432 [==============================] - 3s 2ms/step - loss: 0.6674 - accuracy: 0.3867 - tn: 3779.1982 - fn: 444.5659 - precision: 0.2714 - recall: 0.9213 - auc: 0.5797\n",
            "Epoch 88/100\n",
            "1432/1432 [==============================] - 3s 2ms/step - loss: 0.6664 - accuracy: 0.3935 - tn: 4069.9881 - fn: 522.8032 - precision: 0.2690 - recall: 0.9036 - auc: 0.5831\n",
            "Epoch 89/100\n",
            "1432/1432 [==============================] - 3s 2ms/step - loss: 0.6701 - accuracy: 0.3859 - tn: 3789.0321 - fn: 445.4271 - precision: 0.2709 - recall: 0.9176 - auc: 0.5745\n",
            "Epoch 90/100\n",
            "1432/1432 [==============================] - 3s 2ms/step - loss: 0.6704 - accuracy: 0.3964 - tn: 4064.3545 - fn: 518.7209 - precision: 0.2757 - recall: 0.9094 - auc: 0.5808\n",
            "Epoch 91/100\n",
            "1432/1432 [==============================] - 3s 2ms/step - loss: 0.6669 - accuracy: 0.3886 - tn: 3876.4159 - fn: 461.1479 - precision: 0.2704 - recall: 0.9168 - auc: 0.5821\n",
            "Epoch 92/100\n",
            "1432/1432 [==============================] - 3s 2ms/step - loss: 0.6658 - accuracy: 0.3879 - tn: 3898.5213 - fn: 476.7627 - precision: 0.2679 - recall: 0.9115 - auc: 0.5792\n",
            "Epoch 93/100\n",
            "1432/1432 [==============================] - 3s 2ms/step - loss: 0.6686 - accuracy: 0.3972 - tn: 3946.8751 - fn: 464.1326 - precision: 0.2767 - recall: 0.9148 - auc: 0.5797\n",
            "Epoch 94/100\n",
            "1432/1432 [==============================] - 3s 2ms/step - loss: 0.6652 - accuracy: 0.4008 - tn: 4151.2177 - fn: 523.8548 - precision: 0.2711 - recall: 0.8990 - auc: 0.5842\n",
            "Epoch 95/100\n",
            "1432/1432 [==============================] - 3s 2ms/step - loss: 0.6670 - accuracy: 0.3971 - tn: 4129.4731 - fn: 523.4403 - precision: 0.2725 - recall: 0.9069 - auc: 0.5868\n",
            "Epoch 96/100\n",
            "1432/1432 [==============================] - 3s 2ms/step - loss: 0.6646 - accuracy: 0.3918 - tn: 4055.8186 - fn: 527.1144 - precision: 0.2682 - recall: 0.9030 - auc: 0.5855\n",
            "Epoch 97/100\n",
            "1432/1432 [==============================] - 3s 2ms/step - loss: 0.6673 - accuracy: 0.3912 - tn: 4023.4766 - fn: 508.4522 - precision: 0.2704 - recall: 0.9083 - auc: 0.5811\n",
            "Epoch 98/100\n",
            "1432/1432 [==============================] - 3s 2ms/step - loss: 0.6695 - accuracy: 0.3891 - tn: 3946.0216 - fn: 487.6399 - precision: 0.2725 - recall: 0.9170 - auc: 0.5856\n",
            "Epoch 99/100\n",
            "1432/1432 [==============================] - 3s 2ms/step - loss: 0.6684 - accuracy: 0.3979 - tn: 4099.2645 - fn: 515.9463 - precision: 0.2746 - recall: 0.9087 - auc: 0.5832\n",
            "Epoch 100/100\n",
            "1432/1432 [==============================] - 3s 2ms/step - loss: 0.6704 - accuracy: 0.3959 - tn: 4008.8849 - fn: 500.1800 - precision: 0.2735 - recall: 0.9070 - auc: 0.5827\n"
          ],
          "name": "stdout"
        },
        {
          "output_type": "execute_result",
          "data": {
            "text/plain": [
              "<tensorflow.python.keras.callbacks.History at 0x7f509dbffd50>"
            ]
          },
          "metadata": {
            "tags": []
          },
          "execution_count": 77
        }
      ]
    },
    {
      "cell_type": "code",
      "metadata": {
        "colab": {
          "base_uri": "https://localhost:8080/"
        },
        "id": "7TOav8qqhTcf",
        "outputId": "e6d1413b-bbae-4bfc-d717-52bb762503a1"
      },
      "source": [
        "y_pred = ann.predict(X_test)\r\n",
        "y_pred = (y_pred > 0.5)*1\r\n",
        "y_pred"
      ],
      "execution_count": 79,
      "outputs": [
        {
          "output_type": "execute_result",
          "data": {
            "text/plain": [
              "array([[1],\n",
              "       [1],\n",
              "       [1],\n",
              "       ...,\n",
              "       [1],\n",
              "       [0],\n",
              "       [1]])"
            ]
          },
          "metadata": {
            "tags": []
          },
          "execution_count": 79
        }
      ]
    },
    {
      "cell_type": "code",
      "metadata": {
        "colab": {
          "base_uri": "https://localhost:8080/"
        },
        "id": "tGJRYS6fcGBx",
        "outputId": "30cd7336-3691-45c3-bff4-c9accfa415a0"
      },
      "source": [
        "pred_prob1 = ann.predict_proba(X_t)\r\n",
        "pred_prob1"
      ],
      "execution_count": 78,
      "outputs": [
        {
          "output_type": "stream",
          "text": [
            "/usr/local/lib/python3.7/dist-packages/tensorflow/python/keras/engine/sequential.py:425: UserWarning: `model.predict_proba()` is deprecated and will be removed after 2021-01-01. Please use `model.predict()` instead.\n",
            "  warnings.warn('`model.predict_proba()` is deprecated and '\n"
          ],
          "name": "stderr"
        },
        {
          "output_type": "execute_result",
          "data": {
            "text/plain": [
              "array([[0.55814546],\n",
              "       [0.5581954 ],\n",
              "       [0.5543182 ],\n",
              "       ...,\n",
              "       [0.13234347],\n",
              "       [0.5324693 ],\n",
              "       [0.25628895]], dtype=float32)"
            ]
          },
          "metadata": {
            "tags": []
          },
          "execution_count": 78
        }
      ]
    },
    {
      "cell_type": "code",
      "metadata": {
        "colab": {
          "base_uri": "https://localhost:8080/"
        },
        "id": "FSobIphPhV2U",
        "outputId": "26535ff2-7b60-41ff-e7b5-4bf4958beeaf"
      },
      "source": [
        "from sklearn.metrics import confusion_matrix, accuracy_score\r\n",
        "cm = confusion_matrix(y_test, y_pred)\r\n",
        "print(cm)\r\n",
        "accuracy_score(y_test, y_pred)"
      ],
      "execution_count": null,
      "outputs": [
        {
          "output_type": "stream",
          "text": [
            "[[3886    1]\n",
            " [1202    0]]\n"
          ],
          "name": "stdout"
        },
        {
          "output_type": "execute_result",
          "data": {
            "text/plain": [
              "0.7636077814894872"
            ]
          },
          "metadata": {
            "tags": []
          },
          "execution_count": 236
        }
      ]
    },
    {
      "cell_type": "code",
      "metadata": {
        "colab": {
          "base_uri": "https://localhost:8080/"
        },
        "id": "1pyZREHljmaB",
        "outputId": "daa144ef-f292-4272-950b-1871a25142d5"
      },
      "source": [
        "roc_score = roc_auc_score(y_test,y_pred, average='micro')\r\n",
        "print(roc_score)"
      ],
      "execution_count": 80,
      "outputs": [
        {
          "output_type": "stream",
          "text": [
            "0.5550150743529672\n"
          ],
          "name": "stdout"
        }
      ]
    },
    {
      "cell_type": "code",
      "metadata": {
        "id": "eNedrSw6jnjQ"
      },
      "source": [
        "from sklearn.metrics import f1_score"
      ],
      "execution_count": null,
      "outputs": []
    },
    {
      "cell_type": "code",
      "metadata": {
        "colab": {
          "base_uri": "https://localhost:8080/"
        },
        "id": "wYdXkq99jnfm",
        "outputId": "b70c24e4-8ab8-44a9-bca2-8e5dda8dc693"
      },
      "source": [
        "f1_score(y_test,y_pred)"
      ],
      "execution_count": null,
      "outputs": [
        {
          "output_type": "execute_result",
          "data": {
            "text/plain": [
              "0.0"
            ]
          },
          "metadata": {
            "tags": []
          },
          "execution_count": 48
        }
      ]
    },
    {
      "cell_type": "code",
      "metadata": {
        "colab": {
          "base_uri": "https://localhost:8080/"
        },
        "id": "rvx9CD1rjncT",
        "outputId": "84dee7b6-dcb5-46f3-d173-bc79b82bf56e"
      },
      "source": [
        "from sklearn.linear_model import LogisticRegression\r\n",
        "lr = LogisticRegression(solver='newton-cg', class_weight='balanced',penalty=\"l2\",max_iter=500)\r\n",
        "lr.fit(X_train, y_train)\r\n",
        "\r\n",
        "# Predicting on the test data\r\n"
      ],
      "execution_count": null,
      "outputs": [
        {
          "output_type": "execute_result",
          "data": {
            "text/plain": [
              "LogisticRegression(C=1.0, class_weight='balanced', dual=False,\n",
              "                   fit_intercept=True, intercept_scaling=1, l1_ratio=None,\n",
              "                   max_iter=500, multi_class='auto', n_jobs=None, penalty='l2',\n",
              "                   random_state=None, solver='newton-cg', tol=0.0001, verbose=0,\n",
              "                   warm_start=False)"
            ]
          },
          "metadata": {
            "tags": []
          },
          "execution_count": 215
        }
      ]
    },
    {
      "cell_type": "code",
      "metadata": {
        "colab": {
          "base_uri": "https://localhost:8080/"
        },
        "id": "Ezv7CUgajnao",
        "outputId": "c7c11509-37c8-451c-eb18-f0275d080305"
      },
      "source": [
        "pred_test = lr.predict(X_test)\r\n",
        "print(pred_test)\r\n",
        "\r\n",
        "#Calculating and printing the f1 score \r\n",
        "#f1_test = f1_score(y_test, pred_test)\r\n",
        "#print('The f1 score for the testing data:', f1_test)\r\n",
        "\r\n",
        "#Ploting the confusion matrix\r\n",
        "confusion_matrix(y_test, pred_test)"
      ],
      "execution_count": null,
      "outputs": [
        {
          "output_type": "stream",
          "text": [
            "[1 1 1 ... 1 0 0]\n"
          ],
          "name": "stdout"
        },
        {
          "output_type": "execute_result",
          "data": {
            "text/plain": [
              "array([[1637, 2250],\n",
              "       [ 404,  798]])"
            ]
          },
          "metadata": {
            "tags": []
          },
          "execution_count": 216
        }
      ]
    },
    {
      "cell_type": "code",
      "metadata": {
        "colab": {
          "base_uri": "https://localhost:8080/"
        },
        "id": "gpFP0T-hjnYU",
        "outputId": "76432fa4-9464-4b90-f7a2-e7e6f39a5561"
      },
      "source": [
        "roc_score = roc_auc_score(y_test,pred_test)\r\n",
        "print(roc_score)"
      ],
      "execution_count": null,
      "outputs": [
        {
          "output_type": "stream",
          "text": [
            "0.5425204626368795\n"
          ],
          "name": "stdout"
        }
      ]
    },
    {
      "cell_type": "code",
      "metadata": {
        "colab": {
          "base_uri": "https://localhost:8080/"
        },
        "id": "38RltDdHUffN",
        "outputId": "9ecdc3d6-5cf8-4366-a36e-ab13b75349ae"
      },
      "source": [
        "pred_prob1 = lr.predict_proba(X_t)[:,1]\r\n",
        "pred_prob1"
      ],
      "execution_count": null,
      "outputs": [
        {
          "output_type": "execute_result",
          "data": {
            "text/plain": [
              "array([0.36997071, 0.50830944, 0.50619787, ..., 0.32607136, 0.5357957 ,\n",
              "       0.35563597])"
            ]
          },
          "metadata": {
            "tags": []
          },
          "execution_count": 140
        }
      ]
    },
    {
      "cell_type": "code",
      "metadata": {
        "id": "gzWZMLifUqa1"
      },
      "source": [
        ""
      ],
      "execution_count": null,
      "outputs": []
    },
    {
      "cell_type": "code",
      "metadata": {
        "id": "G2tD_-FgjnWc",
        "colab": {
          "base_uri": "https://localhost:8080/",
          "height": 343
        },
        "outputId": "6e4d2338-be5d-49ac-efe2-6500b9987873"
      },
      "source": [
        "y_pred_ = lr.predict(X_t)\r\n",
        "y_pred_ = (y_pred_ > 0.5)"
      ],
      "execution_count": null,
      "outputs": [
        {
          "output_type": "error",
          "ename": "ValueError",
          "evalue": "ignored",
          "traceback": [
            "\u001b[0;31m---------------------------------------------------------------------------\u001b[0m",
            "\u001b[0;31mValueError\u001b[0m                                Traceback (most recent call last)",
            "\u001b[0;32m<ipython-input-63-1af05cb8c2bc>\u001b[0m in \u001b[0;36m<module>\u001b[0;34m()\u001b[0m\n\u001b[0;32m----> 1\u001b[0;31m \u001b[0my_pred_\u001b[0m \u001b[0;34m=\u001b[0m \u001b[0mlr\u001b[0m\u001b[0;34m.\u001b[0m\u001b[0mpredict\u001b[0m\u001b[0;34m(\u001b[0m\u001b[0mX_t\u001b[0m\u001b[0;34m)\u001b[0m\u001b[0;34m\u001b[0m\u001b[0;34m\u001b[0m\u001b[0m\n\u001b[0m\u001b[1;32m      2\u001b[0m \u001b[0my_pred_\u001b[0m \u001b[0;34m=\u001b[0m \u001b[0;34m(\u001b[0m\u001b[0my_pred_\u001b[0m \u001b[0;34m>\u001b[0m \u001b[0;36m0.5\u001b[0m\u001b[0;34m)\u001b[0m\u001b[0;34m\u001b[0m\u001b[0;34m\u001b[0m\u001b[0m\n",
            "\u001b[0;32m/usr/local/lib/python3.7/dist-packages/sklearn/linear_model/_base.py\u001b[0m in \u001b[0;36mpredict\u001b[0;34m(self, X)\u001b[0m\n\u001b[1;32m    291\u001b[0m             \u001b[0mPredicted\u001b[0m \u001b[0;32mclass\u001b[0m \u001b[0mlabel\u001b[0m \u001b[0mper\u001b[0m \u001b[0msample\u001b[0m\u001b[0;34m.\u001b[0m\u001b[0;34m\u001b[0m\u001b[0;34m\u001b[0m\u001b[0m\n\u001b[1;32m    292\u001b[0m         \"\"\"\n\u001b[0;32m--> 293\u001b[0;31m         \u001b[0mscores\u001b[0m \u001b[0;34m=\u001b[0m \u001b[0mself\u001b[0m\u001b[0;34m.\u001b[0m\u001b[0mdecision_function\u001b[0m\u001b[0;34m(\u001b[0m\u001b[0mX\u001b[0m\u001b[0;34m)\u001b[0m\u001b[0;34m\u001b[0m\u001b[0;34m\u001b[0m\u001b[0m\n\u001b[0m\u001b[1;32m    294\u001b[0m         \u001b[0;32mif\u001b[0m \u001b[0mlen\u001b[0m\u001b[0;34m(\u001b[0m\u001b[0mscores\u001b[0m\u001b[0;34m.\u001b[0m\u001b[0mshape\u001b[0m\u001b[0;34m)\u001b[0m \u001b[0;34m==\u001b[0m \u001b[0;36m1\u001b[0m\u001b[0;34m:\u001b[0m\u001b[0;34m\u001b[0m\u001b[0;34m\u001b[0m\u001b[0m\n\u001b[1;32m    295\u001b[0m             \u001b[0mindices\u001b[0m \u001b[0;34m=\u001b[0m \u001b[0;34m(\u001b[0m\u001b[0mscores\u001b[0m \u001b[0;34m>\u001b[0m \u001b[0;36m0\u001b[0m\u001b[0;34m)\u001b[0m\u001b[0;34m.\u001b[0m\u001b[0mastype\u001b[0m\u001b[0;34m(\u001b[0m\u001b[0mnp\u001b[0m\u001b[0;34m.\u001b[0m\u001b[0mint\u001b[0m\u001b[0;34m)\u001b[0m\u001b[0;34m\u001b[0m\u001b[0;34m\u001b[0m\u001b[0m\n",
            "\u001b[0;32m/usr/local/lib/python3.7/dist-packages/sklearn/linear_model/_base.py\u001b[0m in \u001b[0;36mdecision_function\u001b[0;34m(self, X)\u001b[0m\n\u001b[1;32m    266\u001b[0m         \u001b[0mcheck_is_fitted\u001b[0m\u001b[0;34m(\u001b[0m\u001b[0mself\u001b[0m\u001b[0;34m)\u001b[0m\u001b[0;34m\u001b[0m\u001b[0;34m\u001b[0m\u001b[0m\n\u001b[1;32m    267\u001b[0m \u001b[0;34m\u001b[0m\u001b[0m\n\u001b[0;32m--> 268\u001b[0;31m         \u001b[0mX\u001b[0m \u001b[0;34m=\u001b[0m \u001b[0mcheck_array\u001b[0m\u001b[0;34m(\u001b[0m\u001b[0mX\u001b[0m\u001b[0;34m,\u001b[0m \u001b[0maccept_sparse\u001b[0m\u001b[0;34m=\u001b[0m\u001b[0;34m'csr'\u001b[0m\u001b[0;34m)\u001b[0m\u001b[0;34m\u001b[0m\u001b[0;34m\u001b[0m\u001b[0m\n\u001b[0m\u001b[1;32m    269\u001b[0m \u001b[0;34m\u001b[0m\u001b[0m\n\u001b[1;32m    270\u001b[0m         \u001b[0mn_features\u001b[0m \u001b[0;34m=\u001b[0m \u001b[0mself\u001b[0m\u001b[0;34m.\u001b[0m\u001b[0mcoef_\u001b[0m\u001b[0;34m.\u001b[0m\u001b[0mshape\u001b[0m\u001b[0;34m[\u001b[0m\u001b[0;36m1\u001b[0m\u001b[0;34m]\u001b[0m\u001b[0;34m\u001b[0m\u001b[0;34m\u001b[0m\u001b[0m\n",
            "\u001b[0;32m/usr/local/lib/python3.7/dist-packages/sklearn/utils/validation.py\u001b[0m in \u001b[0;36mcheck_array\u001b[0;34m(array, accept_sparse, accept_large_sparse, dtype, order, copy, force_all_finite, ensure_2d, allow_nd, ensure_min_samples, ensure_min_features, warn_on_dtype, estimator)\u001b[0m\n\u001b[1;32m    576\u001b[0m         \u001b[0;32mif\u001b[0m \u001b[0mforce_all_finite\u001b[0m\u001b[0;34m:\u001b[0m\u001b[0;34m\u001b[0m\u001b[0;34m\u001b[0m\u001b[0m\n\u001b[1;32m    577\u001b[0m             _assert_all_finite(array,\n\u001b[0;32m--> 578\u001b[0;31m                                allow_nan=force_all_finite == 'allow-nan')\n\u001b[0m\u001b[1;32m    579\u001b[0m \u001b[0;34m\u001b[0m\u001b[0m\n\u001b[1;32m    580\u001b[0m     \u001b[0;32mif\u001b[0m \u001b[0mensure_min_samples\u001b[0m \u001b[0;34m>\u001b[0m \u001b[0;36m0\u001b[0m\u001b[0;34m:\u001b[0m\u001b[0;34m\u001b[0m\u001b[0;34m\u001b[0m\u001b[0m\n",
            "\u001b[0;32m/usr/local/lib/python3.7/dist-packages/sklearn/utils/validation.py\u001b[0m in \u001b[0;36m_assert_all_finite\u001b[0;34m(X, allow_nan, msg_dtype)\u001b[0m\n\u001b[1;32m     58\u001b[0m                     \u001b[0mmsg_err\u001b[0m\u001b[0;34m.\u001b[0m\u001b[0mformat\u001b[0m\u001b[0;34m\u001b[0m\u001b[0;34m\u001b[0m\u001b[0m\n\u001b[1;32m     59\u001b[0m                     (type_err,\n\u001b[0;32m---> 60\u001b[0;31m                      msg_dtype if msg_dtype is not None else X.dtype)\n\u001b[0m\u001b[1;32m     61\u001b[0m             )\n\u001b[1;32m     62\u001b[0m     \u001b[0;31m# for object dtype data, we only check for NaNs (GH-13254)\u001b[0m\u001b[0;34m\u001b[0m\u001b[0;34m\u001b[0m\u001b[0;34m\u001b[0m\u001b[0m\n",
            "\u001b[0;31mValueError\u001b[0m: Input contains NaN, infinity or a value too large for dtype('float64')."
          ]
        }
      ]
    },
    {
      "cell_type": "code",
      "metadata": {
        "colab": {
          "base_uri": "https://localhost:8080/",
          "height": 325
        },
        "id": "-nuEWCTeLel5",
        "outputId": "0477328e-57a6-4a97-886c-6f064e351115"
      },
      "source": [
        "confusion_matrix(y_test, y_pred_)"
      ],
      "execution_count": null,
      "outputs": [
        {
          "output_type": "error",
          "ename": "ValueError",
          "evalue": "ignored",
          "traceback": [
            "\u001b[0;31m---------------------------------------------------------------------------\u001b[0m",
            "\u001b[0;31mValueError\u001b[0m                                Traceback (most recent call last)",
            "\u001b[0;32m<ipython-input-253-71670d83b5f0>\u001b[0m in \u001b[0;36m<module>\u001b[0;34m()\u001b[0m\n\u001b[0;32m----> 1\u001b[0;31m \u001b[0mconfusion_matrix\u001b[0m\u001b[0;34m(\u001b[0m\u001b[0my_test\u001b[0m\u001b[0;34m,\u001b[0m \u001b[0my_pred_\u001b[0m\u001b[0;34m)\u001b[0m\u001b[0;34m\u001b[0m\u001b[0;34m\u001b[0m\u001b[0m\n\u001b[0m",
            "\u001b[0;32m/usr/local/lib/python3.7/dist-packages/sklearn/metrics/_classification.py\u001b[0m in \u001b[0;36mconfusion_matrix\u001b[0;34m(y_true, y_pred, labels, sample_weight, normalize)\u001b[0m\n\u001b[1;32m    266\u001b[0m \u001b[0;34m\u001b[0m\u001b[0m\n\u001b[1;32m    267\u001b[0m     \"\"\"\n\u001b[0;32m--> 268\u001b[0;31m     \u001b[0my_type\u001b[0m\u001b[0;34m,\u001b[0m \u001b[0my_true\u001b[0m\u001b[0;34m,\u001b[0m \u001b[0my_pred\u001b[0m \u001b[0;34m=\u001b[0m \u001b[0m_check_targets\u001b[0m\u001b[0;34m(\u001b[0m\u001b[0my_true\u001b[0m\u001b[0;34m,\u001b[0m \u001b[0my_pred\u001b[0m\u001b[0;34m)\u001b[0m\u001b[0;34m\u001b[0m\u001b[0;34m\u001b[0m\u001b[0m\n\u001b[0m\u001b[1;32m    269\u001b[0m     \u001b[0;32mif\u001b[0m \u001b[0my_type\u001b[0m \u001b[0;32mnot\u001b[0m \u001b[0;32min\u001b[0m \u001b[0;34m(\u001b[0m\u001b[0;34m\"binary\"\u001b[0m\u001b[0;34m,\u001b[0m \u001b[0;34m\"multiclass\"\u001b[0m\u001b[0;34m)\u001b[0m\u001b[0;34m:\u001b[0m\u001b[0;34m\u001b[0m\u001b[0;34m\u001b[0m\u001b[0m\n\u001b[1;32m    270\u001b[0m         \u001b[0;32mraise\u001b[0m \u001b[0mValueError\u001b[0m\u001b[0;34m(\u001b[0m\u001b[0;34m\"%s is not supported\"\u001b[0m \u001b[0;34m%\u001b[0m \u001b[0my_type\u001b[0m\u001b[0;34m)\u001b[0m\u001b[0;34m\u001b[0m\u001b[0;34m\u001b[0m\u001b[0m\n",
            "\u001b[0;32m/usr/local/lib/python3.7/dist-packages/sklearn/metrics/_classification.py\u001b[0m in \u001b[0;36m_check_targets\u001b[0;34m(y_true, y_pred)\u001b[0m\n\u001b[1;32m     78\u001b[0m     \u001b[0my_pred\u001b[0m \u001b[0;34m:\u001b[0m \u001b[0marray\u001b[0m \u001b[0;32mor\u001b[0m \u001b[0mindicator\u001b[0m \u001b[0mmatrix\u001b[0m\u001b[0;34m\u001b[0m\u001b[0;34m\u001b[0m\u001b[0m\n\u001b[1;32m     79\u001b[0m     \"\"\"\n\u001b[0;32m---> 80\u001b[0;31m     \u001b[0mcheck_consistent_length\u001b[0m\u001b[0;34m(\u001b[0m\u001b[0my_true\u001b[0m\u001b[0;34m,\u001b[0m \u001b[0my_pred\u001b[0m\u001b[0;34m)\u001b[0m\u001b[0;34m\u001b[0m\u001b[0;34m\u001b[0m\u001b[0m\n\u001b[0m\u001b[1;32m     81\u001b[0m     \u001b[0mtype_true\u001b[0m \u001b[0;34m=\u001b[0m \u001b[0mtype_of_target\u001b[0m\u001b[0;34m(\u001b[0m\u001b[0my_true\u001b[0m\u001b[0;34m)\u001b[0m\u001b[0;34m\u001b[0m\u001b[0;34m\u001b[0m\u001b[0m\n\u001b[1;32m     82\u001b[0m     \u001b[0mtype_pred\u001b[0m \u001b[0;34m=\u001b[0m \u001b[0mtype_of_target\u001b[0m\u001b[0;34m(\u001b[0m\u001b[0my_pred\u001b[0m\u001b[0;34m)\u001b[0m\u001b[0;34m\u001b[0m\u001b[0;34m\u001b[0m\u001b[0m\n",
            "\u001b[0;32m/usr/local/lib/python3.7/dist-packages/sklearn/utils/validation.py\u001b[0m in \u001b[0;36mcheck_consistent_length\u001b[0;34m(*arrays)\u001b[0m\n\u001b[1;32m    210\u001b[0m     \u001b[0;32mif\u001b[0m \u001b[0mlen\u001b[0m\u001b[0;34m(\u001b[0m\u001b[0muniques\u001b[0m\u001b[0;34m)\u001b[0m \u001b[0;34m>\u001b[0m \u001b[0;36m1\u001b[0m\u001b[0;34m:\u001b[0m\u001b[0;34m\u001b[0m\u001b[0;34m\u001b[0m\u001b[0m\n\u001b[1;32m    211\u001b[0m         raise ValueError(\"Found input variables with inconsistent numbers of\"\n\u001b[0;32m--> 212\u001b[0;31m                          \" samples: %r\" % [int(l) for l in lengths])\n\u001b[0m\u001b[1;32m    213\u001b[0m \u001b[0;34m\u001b[0m\u001b[0m\n\u001b[1;32m    214\u001b[0m \u001b[0;34m\u001b[0m\u001b[0m\n",
            "\u001b[0;31mValueError\u001b[0m: Found input variables with inconsistent numbers of samples: [5089, 21805]"
          ]
        }
      ]
    },
    {
      "cell_type": "code",
      "metadata": {
        "id": "XuCswcHMjnUL",
        "colab": {
          "base_uri": "https://localhost:8080/"
        },
        "outputId": "03b544ee-9be9-4625-c890-c7f6d4b6900f"
      },
      "source": [
        "#y_pred_ = y_pred_*1\r\n",
        "y_pred_1 = pd.DataFrame(pred_prob1)\r\n",
        "y_pred_1.shape"
      ],
      "execution_count": null,
      "outputs": [
        {
          "output_type": "execute_result",
          "data": {
            "text/plain": [
              "(21805, 1)"
            ]
          },
          "metadata": {
            "tags": []
          },
          "execution_count": 323
        }
      ]
    },
    {
      "cell_type": "code",
      "metadata": {
        "id": "rUxHDyWLhYWw"
      },
      "source": [
        "data = [df_f,y_pred_1]\r\n",
        "headers = [\"ID\",\"Response\"]"
      ],
      "execution_count": null,
      "outputs": []
    },
    {
      "cell_type": "code",
      "metadata": {
        "id": "LfrNW8I1_VFz"
      },
      "source": [
        "df3 = pd.concat(data, axis=1, keys=None)"
      ],
      "execution_count": null,
      "outputs": []
    },
    {
      "cell_type": "code",
      "metadata": {
        "colab": {
          "base_uri": "https://localhost:8080/",
          "height": 238
        },
        "id": "ZxW2rZXt_WjX",
        "outputId": "9fd7005e-3abe-453e-cfa3-c58232c19579"
      },
      "source": [
        "df3.columns = [\"ID\",\"Response\"]\r\n",
        "df3.set_index(\"ID\",inplace=True)\r\n",
        "df3.head()"
      ],
      "execution_count": null,
      "outputs": [
        {
          "output_type": "execute_result",
          "data": {
            "text/html": [
              "<div>\n",
              "<style scoped>\n",
              "    .dataframe tbody tr th:only-of-type {\n",
              "        vertical-align: middle;\n",
              "    }\n",
              "\n",
              "    .dataframe tbody tr th {\n",
              "        vertical-align: top;\n",
              "    }\n",
              "\n",
              "    .dataframe thead th {\n",
              "        text-align: right;\n",
              "    }\n",
              "</style>\n",
              "<table border=\"1\" class=\"dataframe\">\n",
              "  <thead>\n",
              "    <tr style=\"text-align: right;\">\n",
              "      <th></th>\n",
              "      <th>Response</th>\n",
              "    </tr>\n",
              "    <tr>\n",
              "      <th>ID</th>\n",
              "      <th></th>\n",
              "    </tr>\n",
              "  </thead>\n",
              "  <tbody>\n",
              "    <tr>\n",
              "      <th>50883</th>\n",
              "      <td>0.520143</td>\n",
              "    </tr>\n",
              "    <tr>\n",
              "      <th>50884</th>\n",
              "      <td>0.525113</td>\n",
              "    </tr>\n",
              "    <tr>\n",
              "      <th>50885</th>\n",
              "      <td>0.546847</td>\n",
              "    </tr>\n",
              "    <tr>\n",
              "      <th>50886</th>\n",
              "      <td>0.465066</td>\n",
              "    </tr>\n",
              "    <tr>\n",
              "      <th>50887</th>\n",
              "      <td>0.510144</td>\n",
              "    </tr>\n",
              "  </tbody>\n",
              "</table>\n",
              "</div>"
            ],
            "text/plain": [
              "       Response\n",
              "ID             \n",
              "50883  0.520143\n",
              "50884  0.525113\n",
              "50885  0.546847\n",
              "50886  0.465066\n",
              "50887  0.510144"
            ]
          },
          "metadata": {
            "tags": []
          },
          "execution_count": 326
        }
      ]
    },
    {
      "cell_type": "code",
      "metadata": {
        "colab": {
          "base_uri": "https://localhost:8080/"
        },
        "id": "GSo7xmD3_WgA",
        "outputId": "72a85c08-1b22-4eb7-dd06-58f6b836aade"
      },
      "source": [
        "df3.shape"
      ],
      "execution_count": null,
      "outputs": [
        {
          "output_type": "execute_result",
          "data": {
            "text/plain": [
              "(21805, 1)"
            ]
          },
          "metadata": {
            "tags": []
          },
          "execution_count": 327
        }
      ]
    },
    {
      "cell_type": "code",
      "metadata": {
        "id": "JiyMi3vW_WeZ"
      },
      "source": [
        "df3.to_csv(\"response_10.csv\")"
      ],
      "execution_count": null,
      "outputs": []
    },
    {
      "cell_type": "code",
      "metadata": {
        "id": "ZWi2mDpg_h6O"
      },
      "source": [
        ""
      ],
      "execution_count": null,
      "outputs": []
    }
  ]
}